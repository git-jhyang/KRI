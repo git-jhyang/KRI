{
 "cells": [
  {
   "cell_type": "code",
   "execution_count": 1,
   "metadata": {},
   "outputs": [
    {
     "name": "stderr",
     "output_type": "stream",
     "text": [
      "/home/jhyang/anaconda3/envs/poly/lib/python3.9/site-packages/tqdm/auto.py:22: TqdmWarning: IProgress not found. Please update jupyter and ipywidgets. See https://ipywidgets.readthedocs.io/en/stable/user_install.html\n",
      "  from .autonotebook import tqdm as notebook_tqdm\n"
     ]
    }
   ],
   "source": [
    "import torch, pickle, json, os, sys\n",
    "from utils.data import DataGenerator, collate_fn\n",
    "import pandas as pd\n",
    "import numpy as np\n",
    "import matplotlib.pyplot as plt\n",
    "\n",
    "%matplotlib inline"
   ]
  },
  {
   "cell_type": "markdown",
   "metadata": {},
   "source": [
    "### Data load and generation"
   ]
  },
  {
   "cell_type": "markdown",
   "metadata": {},
   "source": [
    "- Load smiles and targets"
   ]
  },
  {
   "cell_type": "code",
   "execution_count": 2,
   "metadata": {},
   "outputs": [],
   "source": [
    "data_root = '/home/jhyang/WORKSPACES/DATA'\n",
    "\n",
    "df_qm9 = pd.read_csv(f'{data_root}/polymers/QM9/qm9_origin.csv')\n",
    "smiles_q, targets_q = df_qm9.values.T[0], df_qm9.values.T[1:].T\n",
    "with open(f'{data_root}/polymers/f-polymer/smiles.json') as f:\n",
    "    smiles_f = json.load(f)['smiles']\n",
    "targets_f = np.zeros_like(smiles_f, dtype=float) # dummy target for collate_fn"
   ]
  },
  {
   "cell_type": "code",
   "execution_count": 3,
   "metadata": {},
   "outputs": [
    {
     "data": {
      "text/html": [
       "<div>\n",
       "<style scoped>\n",
       "    .dataframe tbody tr th:only-of-type {\n",
       "        vertical-align: middle;\n",
       "    }\n",
       "\n",
       "    .dataframe tbody tr th {\n",
       "        vertical-align: top;\n",
       "    }\n",
       "\n",
       "    .dataframe thead th {\n",
       "        text-align: right;\n",
       "    }\n",
       "</style>\n",
       "<table border=\"1\" class=\"dataframe\">\n",
       "  <thead>\n",
       "    <tr style=\"text-align: right;\">\n",
       "      <th></th>\n",
       "      <th>ID</th>\n",
       "      <th>Monomer_A</th>\n",
       "      <th>Monomer_B</th>\n",
       "      <th>Monomer_C</th>\n",
       "      <th>Monomer_D</th>\n",
       "      <th>Monomer_E</th>\n",
       "      <th>Normalized_FR_A</th>\n",
       "      <th>Normalized_FR_B</th>\n",
       "      <th>Normalized_FR_C</th>\n",
       "      <th>Normalized_FR_D</th>\n",
       "      <th>Normalized_FR_E</th>\n",
       "      <th>dielectric_constant</th>\n",
       "    </tr>\n",
       "  </thead>\n",
       "  <tbody>\n",
       "    <tr>\n",
       "      <th>0</th>\n",
       "      <td>FA-00149</td>\n",
       "      <td>CC(=C)C(=O)...</td>\n",
       "      <td>CCCCCCCCCCC...</td>\n",
       "      <td>COC(=O)C(C)=C</td>\n",
       "      <td>CC(=C)C(O)=O</td>\n",
       "      <td>CC(=C)C(=O)...</td>\n",
       "      <td>2.00</td>\n",
       "      <td>1.00</td>\n",
       "      <td>4.00</td>\n",
       "      <td>1.00</td>\n",
       "      <td>2.00</td>\n",
       "      <td>1.9600</td>\n",
       "    </tr>\n",
       "    <tr>\n",
       "      <th>1</th>\n",
       "      <td>FA-00151</td>\n",
       "      <td>CC(=C)C(=O)...</td>\n",
       "      <td>CCCCCCCCCCC...</td>\n",
       "      <td>COC(=O)C(C)=C</td>\n",
       "      <td>CC(=C)C(O)=O</td>\n",
       "      <td>CC(=C)C(=O)...</td>\n",
       "      <td>4.00</td>\n",
       "      <td>1.00</td>\n",
       "      <td>2.00</td>\n",
       "      <td>1.00</td>\n",
       "      <td>2.00</td>\n",
       "      <td>2.0100</td>\n",
       "    </tr>\n",
       "    <tr>\n",
       "      <th>2</th>\n",
       "      <td>FA-00232</td>\n",
       "      <td>CC(=C)C(=O)...</td>\n",
       "      <td>CCCCCCCCCCC...</td>\n",
       "      <td>COC(=O)C(C)=C</td>\n",
       "      <td>CC(=C)C(O)=O</td>\n",
       "      <td>CC(=C)C(=O)...</td>\n",
       "      <td>4.60</td>\n",
       "      <td>1.20</td>\n",
       "      <td>2.00</td>\n",
       "      <td>1.20</td>\n",
       "      <td>2.30</td>\n",
       "      <td>2.1100</td>\n",
       "    </tr>\n",
       "    <tr>\n",
       "      <th>3</th>\n",
       "      <td>FA-00218</td>\n",
       "      <td>CC(=C)C(=O)...</td>\n",
       "      <td>CCCCCCCCCCC...</td>\n",
       "      <td>COC(=O)C(C)=C</td>\n",
       "      <td>CC(=C)C(O)=O</td>\n",
       "      <td>CC(=C)C(=O)...</td>\n",
       "      <td>3.59</td>\n",
       "      <td>1.14</td>\n",
       "      <td>1.93</td>\n",
       "      <td>1.12</td>\n",
       "      <td>2.22</td>\n",
       "      <td>2.1100</td>\n",
       "    </tr>\n",
       "    <tr>\n",
       "      <th>4</th>\n",
       "      <td>FA-00152</td>\n",
       "      <td>CC(=C)C(=O)...</td>\n",
       "      <td>CCCCCCCCCCC...</td>\n",
       "      <td>COC(=O)C(C)=C</td>\n",
       "      <td>CC(=C)C(O)=O</td>\n",
       "      <td>CC(=C)C(=O)...</td>\n",
       "      <td>6.00</td>\n",
       "      <td>1.00</td>\n",
       "      <td>0.00</td>\n",
       "      <td>1.00</td>\n",
       "      <td>2.00</td>\n",
       "      <td>2.2600</td>\n",
       "    </tr>\n",
       "    <tr>\n",
       "      <th>...</th>\n",
       "      <td>...</td>\n",
       "      <td>...</td>\n",
       "      <td>...</td>\n",
       "      <td>...</td>\n",
       "      <td>...</td>\n",
       "      <td>...</td>\n",
       "      <td>...</td>\n",
       "      <td>...</td>\n",
       "      <td>...</td>\n",
       "      <td>...</td>\n",
       "      <td>...</td>\n",
       "      <td>...</td>\n",
       "    </tr>\n",
       "    <tr>\n",
       "      <th>208</th>\n",
       "      <td>FA-00382</td>\n",
       "      <td>FC(F)(F)C(F...</td>\n",
       "      <td>CCCCCCCCCCC...</td>\n",
       "      <td>COC(=O)C(C)=C</td>\n",
       "      <td>CC(=C)C(O)=O</td>\n",
       "      <td>CC(=C)C(=O)...</td>\n",
       "      <td>6.00</td>\n",
       "      <td>0.00</td>\n",
       "      <td>3.00</td>\n",
       "      <td>1.00</td>\n",
       "      <td>0.00</td>\n",
       "      <td>2.5056</td>\n",
       "    </tr>\n",
       "    <tr>\n",
       "      <th>209</th>\n",
       "      <td>FA-00381</td>\n",
       "      <td>FC(F)(F)C(F...</td>\n",
       "      <td>CCCCCCCCCCC...</td>\n",
       "      <td>COC(=O)C(C)=C</td>\n",
       "      <td>CC(=C)C(O)=O</td>\n",
       "      <td>CC(=C)C(=O)...</td>\n",
       "      <td>6.00</td>\n",
       "      <td>0.00</td>\n",
       "      <td>4.00</td>\n",
       "      <td>0.00</td>\n",
       "      <td>0.00</td>\n",
       "      <td>2.5112</td>\n",
       "    </tr>\n",
       "    <tr>\n",
       "      <th>210</th>\n",
       "      <td>FA-00384</td>\n",
       "      <td>FC(F)(F)C(F...</td>\n",
       "      <td>CCCCCCCCCCC...</td>\n",
       "      <td>COC(=O)C(C)=C</td>\n",
       "      <td>CC(=C)C(O)=O</td>\n",
       "      <td>CC(=C)C(=O)...</td>\n",
       "      <td>6.00</td>\n",
       "      <td>0.00</td>\n",
       "      <td>1.00</td>\n",
       "      <td>3.00</td>\n",
       "      <td>0.00</td>\n",
       "      <td>2.6042</td>\n",
       "    </tr>\n",
       "    <tr>\n",
       "      <th>211</th>\n",
       "      <td>FA-00385</td>\n",
       "      <td>FC(F)(F)C(F...</td>\n",
       "      <td>CCCCCCCCCCC...</td>\n",
       "      <td>COC(=O)C(C)=C</td>\n",
       "      <td>CC(=C)C(O)=O</td>\n",
       "      <td>CC(=C)C(=O)...</td>\n",
       "      <td>6.00</td>\n",
       "      <td>0.00</td>\n",
       "      <td>0.00</td>\n",
       "      <td>4.00</td>\n",
       "      <td>0.00</td>\n",
       "      <td>2.7735</td>\n",
       "    </tr>\n",
       "    <tr>\n",
       "      <th>212</th>\n",
       "      <td>FA-00451</td>\n",
       "      <td>FC(F)(F)C(F...</td>\n",
       "      <td>CCCCCCCCCCC...</td>\n",
       "      <td>COC(=O)C(C)=C</td>\n",
       "      <td>OC(=O)C=C</td>\n",
       "      <td>CC(=C)C(=O)...</td>\n",
       "      <td>5.00</td>\n",
       "      <td>1.00</td>\n",
       "      <td>1.00</td>\n",
       "      <td>1.00</td>\n",
       "      <td>2.00</td>\n",
       "      <td>2.8745</td>\n",
       "    </tr>\n",
       "  </tbody>\n",
       "</table>\n",
       "<p>202 rows × 12 columns</p>\n",
       "</div>"
      ],
      "text/plain": [
       "           ID       Monomer_A       Monomer_B      Monomer_C     Monomer_D  \\\n",
       "0    FA-00149  CC(=C)C(=O)...  CCCCCCCCCCC...  COC(=O)C(C)=C  CC(=C)C(O)=O   \n",
       "1    FA-00151  CC(=C)C(=O)...  CCCCCCCCCCC...  COC(=O)C(C)=C  CC(=C)C(O)=O   \n",
       "2    FA-00232  CC(=C)C(=O)...  CCCCCCCCCCC...  COC(=O)C(C)=C  CC(=C)C(O)=O   \n",
       "3    FA-00218  CC(=C)C(=O)...  CCCCCCCCCCC...  COC(=O)C(C)=C  CC(=C)C(O)=O   \n",
       "4    FA-00152  CC(=C)C(=O)...  CCCCCCCCCCC...  COC(=O)C(C)=C  CC(=C)C(O)=O   \n",
       "..        ...             ...             ...            ...           ...   \n",
       "208  FA-00382  FC(F)(F)C(F...  CCCCCCCCCCC...  COC(=O)C(C)=C  CC(=C)C(O)=O   \n",
       "209  FA-00381  FC(F)(F)C(F...  CCCCCCCCCCC...  COC(=O)C(C)=C  CC(=C)C(O)=O   \n",
       "210  FA-00384  FC(F)(F)C(F...  CCCCCCCCCCC...  COC(=O)C(C)=C  CC(=C)C(O)=O   \n",
       "211  FA-00385  FC(F)(F)C(F...  CCCCCCCCCCC...  COC(=O)C(C)=C  CC(=C)C(O)=O   \n",
       "212  FA-00451  FC(F)(F)C(F...  CCCCCCCCCCC...  COC(=O)C(C)=C     OC(=O)C=C   \n",
       "\n",
       "          Monomer_E  Normalized_FR_A  Normalized_FR_B  Normalized_FR_C  \\\n",
       "0    CC(=C)C(=O)...            2.00             1.00             4.00    \n",
       "1    CC(=C)C(=O)...            4.00             1.00             2.00    \n",
       "2    CC(=C)C(=O)...            4.60             1.20             2.00    \n",
       "3    CC(=C)C(=O)...            3.59             1.14             1.93    \n",
       "4    CC(=C)C(=O)...            6.00             1.00             0.00    \n",
       "..              ...             ...              ...              ...    \n",
       "208  CC(=C)C(=O)...            6.00             0.00             3.00    \n",
       "209  CC(=C)C(=O)...            6.00             0.00             4.00    \n",
       "210  CC(=C)C(=O)...            6.00             0.00             1.00    \n",
       "211  CC(=C)C(=O)...            6.00             0.00             0.00    \n",
       "212  CC(=C)C(=O)...            5.00             1.00             1.00    \n",
       "\n",
       "     Normalized_FR_D  Normalized_FR_E  dielectric_constant  \n",
       "0              1.00             2.00           1.9600       \n",
       "1              1.00             2.00           2.0100       \n",
       "2              1.20             2.30           2.1100       \n",
       "3              1.12             2.22           2.1100       \n",
       "4              1.00             2.00           2.2600       \n",
       "..              ...              ...              ...       \n",
       "208            1.00             0.00           2.5056       \n",
       "209            0.00             0.00           2.5112       \n",
       "210            3.00             0.00           2.6042       \n",
       "211            4.00             0.00           2.7735       \n",
       "212            1.00             2.00           2.8745       \n",
       "\n",
       "[202 rows x 12 columns]"
      ]
     },
     "execution_count": 3,
     "metadata": {},
     "output_type": "execute_result"
    }
   ],
   "source": [
    "df = pd.read_csv(f'{data_root}/polymers/f-polymer/Fea_Gene_20220603_DieEC_Total.csv')\n",
    "pd.set_option('display.max_colwidth',15)\n",
    "df[~np.sum((df == 'Did not work').values, axis=1).astype(bool)]"
   ]
  },
  {
   "cell_type": "markdown",
   "metadata": {},
   "source": [
    "- generate"
   ]
  },
  {
   "cell_type": "code",
   "execution_count": 4,
   "metadata": {},
   "outputs": [
    {
     "name": "stdout",
     "output_type": "stream",
     "text": [
      "  Overwriting attribute : smiles\n",
      "  Overwriting attribute : targets\n",
      "  Overwriting attribute : norm\n",
      "  Overwriting attribute : ptable\n",
      "  Overwriting attribute : ptbl_feat_name\n",
      "  Overwriting attribute : data\n",
      "  Setting new attribute : name_atom_feat\n",
      "  Setting new attribute : name_bond_feat\n",
      "  Setting new attribute : name_mol_feat\n",
      "  Overwriting attribute : smiles\n",
      "  Overwriting attribute : targets\n",
      "  Overwriting attribute : norm\n",
      "  Overwriting attribute : ptable\n",
      "  Overwriting attribute : ptbl_feat_name\n",
      "  Overwriting attribute : data\n",
      "  Setting new attribute : name_atom_feat\n",
      "  Setting new attribute : name_bond_feat\n",
      "  Setting new attribute : name_mol_feat\n"
     ]
    }
   ],
   "source": [
    "DGQ = DataGenerator(smiles=smiles_q, targets=targets_q.astype(float), include_autocorr=True, norm=True)\n",
    "if os.path.isfile('../unscreened_dataset.qm9.pkl'):\n",
    "    DGQ = DGQ.load('../unscreened_dataset.qm9.pkl')\n",
    "#    DGUS = DGQ.load('../screened_dataset.qm9.np.pkl')\n",
    "    \n",
    "#else:\n",
    "#DGQ.generate()\n",
    "\n",
    "DGF = DataGenerator(smiles=smiles_f, targets=targets_f, include_autocorr=True, norm=True)\n",
    "if os.path.isfile('../unscreened_dataset.fpoly.pkl'):\n",
    "    DGF = DGF.load('../unscreened_dataset.fpoly.pkl')\n",
    "#    DGFS = DGF.load('../screened_dataset.fpoly.pkl')\n",
    "#else:\n",
    "#DGF.generate()"
   ]
  },
  {
   "cell_type": "code",
   "execution_count": 94,
   "metadata": {},
   "outputs": [
    {
     "name": "stdout",
     "output_type": "stream",
     "text": [
      "  Overwriting attribute : norm\n",
      "  Overwriting attribute : ptable\n",
      "  Overwriting attribute : ptbl_feat_name\n",
      "  Overwriting attribute : data\n",
      "  Setting new attribute : name_atom_feat\n",
      "  Setting new attribute : name_bond_feat\n",
      "  Setting new attribute : name_mol_feat\n",
      "  Overwriting attribute : norm\n",
      "  Overwriting attribute : ptable\n",
      "  Overwriting attribute : ptbl_feat_name\n",
      "  Overwriting attribute : data\n",
      "  Setting new attribute : name_atom_feat\n",
      "  Setting new attribute : name_bond_feat\n",
      "  Setting new attribute : name_mol_feat\n"
     ]
    }
   ],
   "source": [
    "dqu = dg.load('../unscreened_dataset.qm9.pkl')\n",
    "dfu = dg.load('../unscreened_dataset.fpoly.pkl')"
   ]
  },
  {
   "cell_type": "code",
   "execution_count": 105,
   "metadata": {},
   "outputs": [
    {
     "name": "stdout",
     "output_type": "stream",
     "text": [
      "  Overwriting attribute : norm\n",
      "  Overwriting attribute : ptable\n",
      "  Overwriting attribute : ptbl_feat_name\n",
      "  Overwriting attribute : data\n",
      "  Setting new attribute : name_atom_feat\n",
      "  Setting new attribute : name_bond_feat\n",
      "  Setting new attribute : name_mol_feat\n"
     ]
    }
   ],
   "source": [
    "#dqu.data[0].keys(), dfu.data[0].keys()\n",
    "#torch.concat([torch.tensor(d['atom']) for d in dqu.data[0:15]])\n",
    "dq = dg.load('../vscreened_dataset.qm9.pkl')\n",
    "for d in dq.data:\n",
    "    d.update({'graph':np.zeros((d['atom'].shape[0],1), dtype=int)})\n",
    "dq.save('../vscreened_dataset.qm9.pkl')"
   ]
  },
  {
   "cell_type": "code",
   "execution_count": 2,
   "metadata": {},
   "outputs": [
    {
     "name": "stderr",
     "output_type": "stream",
     "text": [
      "generate: 100%|██████████| 57/57 [00:00<00:00, 532.25it/s]\n",
      "gather: 100%|██████████| 293/293 [00:02<00:00, 134.41it/s]"
     ]
    },
    {
     "name": "stdout",
     "output_type": "stream",
     "text": [
      "586\n"
     ]
    },
    {
     "name": "stderr",
     "output_type": "stream",
     "text": [
      "\n"
     ]
    }
   ],
   "source": [
    "dg = DataGenerator(None, None)\n",
    "dg.generate_fpoly_from_csv('/home/jhyang/WORKSPACES/DATA/polymers/f-polymer/f-polymer-20220922.csv',\n",
    "                           pfx_frac='FR', pfx_smiles='SMILES', col_target='Target', augmentation=1)\n",
    "print(len(dg.data))"
   ]
  },
  {
   "cell_type": "code",
   "execution_count": 10,
   "metadata": {},
   "outputs": [],
   "source": [
    "unique = list(set(np.hstack([d['smiles'] for d in dg.data])))\n",
    "mapper = {}\n",
    "for i, s in enumerate(unique):\n",
    "    mapper[s] = f'{i:02d}'"
   ]
  },
  {
   "cell_type": "code",
   "execution_count": 20,
   "metadata": {},
   "outputs": [],
   "source": [
    "def test(data, n_test, seed=100, min_train_ratio=0.7):\n",
    "    n_data = len(data)\n",
    "    if isinstance(seed, int):\n",
    "        np.random.seed(seed)\n",
    "    smiles = np.vstack([d['smiles'] for d in data])\n",
    "    weight = np.vstack([d['weight'].reshape(1,-1) for d in data])\n",
    "    unique = list(set(smiles.reshape(-1)))\n",
    "\n",
    "    while True:\n",
    "        np.random.shuffle(unique)\n",
    "        test_smiles = unique[:n_test]\n",
    "        test_mask  = np.zeros_like(smiles, dtype=bool)\n",
    "        for s in test_smiles:\n",
    "            test_mask = test_mask | (smiles == s)\n",
    "        test_mask = np.sum(test_mask, axis=1) != 0\n",
    "        if np.sum(~test_mask) > n_data*min_train_ratio:\n",
    "            break\n",
    "    return data[~test_mask], data[test_mask], test_smiles\n",
    "\n",
    "train_data_, test_data, test_smiles = test(np.array(dg.data), n_test=5, seed=100, min_train_ratio=0.8)\n",
    "train_data, valid_data, valid_smiles = test(train_data_, n_test=3, seed=100, min_train_ratio=0.8)"
   ]
  },
  {
   "cell_type": "code",
   "execution_count": 21,
   "metadata": {},
   "outputs": [
    {
     "data": {
      "text/plain": [
       "(536, 12, 38)"
      ]
     },
     "execution_count": 21,
     "metadata": {},
     "output_type": "execute_result"
    }
   ],
   "source": [
    "len(train_data), len(valid_data), len(test_data)"
   ]
  },
  {
   "cell_type": "code",
   "execution_count": 23,
   "metadata": {},
   "outputs": [
    {
     "data": {
      "text/plain": [
       "(array([0.54340494, 0.27836939, 0.42451759, 0.84477613, 0.00471886]),\n",
       " tensor([0.1117, 0.8158, 0.2626, 0.4839, 0.6765]))"
      ]
     },
     "execution_count": 23,
     "metadata": {},
     "output_type": "execute_result"
    }
   ],
   "source": [
    "from utils.random_test import get_numpy, get_torch\n",
    "import numpy as np\n",
    "import torch\n",
    "\n",
    "np.random.seed(100)\n",
    "torch.random.manual_seed(100)\n",
    "get_numpy(), get_torch()"
   ]
  },
  {
   "cell_type": "code",
   "execution_count": 52,
   "metadata": {},
   "outputs": [
    {
     "data": {
      "text/plain": [
       "44"
      ]
     },
     "execution_count": 52,
     "metadata": {},
     "output_type": "execute_result"
    }
   ],
   "source": [
    "x = [1,2,3,4,5]\n",
    "xs = []\n",
    "for i in range(50):\n",
    "    xs.append(str(np.random.permutation(x)))\n",
    "len(set(xs))"
   ]
  },
  {
   "cell_type": "code",
   "execution_count": 29,
   "metadata": {},
   "outputs": [
    {
     "data": {
      "text/plain": [
       "69"
      ]
     },
     "execution_count": 29,
     "metadata": {},
     "output_type": "execute_result"
    }
   ],
   "source": [
    "len(set(xs))"
   ]
  },
  {
   "cell_type": "code",
   "execution_count": 102,
   "metadata": {},
   "outputs": [
    {
     "data": {
      "text/plain": [
       "((9, 26), (9, 1))"
      ]
     },
     "execution_count": 102,
     "metadata": {},
     "output_type": "execute_result"
    }
   ],
   "source": [
    "dqu.data[-1]['atom'].shape, dqu.data[-1]['graph'].shape, "
   ]
  },
  {
   "cell_type": "code",
   "execution_count": 97,
   "metadata": {},
   "outputs": [
    {
     "data": {
      "text/plain": [
       "((63, 1), (63, 26))"
      ]
     },
     "execution_count": 97,
     "metadata": {},
     "output_type": "execute_result"
    }
   ],
   "source": [
    "dfu.data[0]['graph'].shape, dfu.data[0]['atom'].shape"
   ]
  },
  {
   "cell_type": "code",
   "execution_count": 7,
   "metadata": {},
   "outputs": [
    {
     "name": "stderr",
     "output_type": "stream",
     "text": [
      "generate: 100%|██████████| 46/46 [00:00<00:00, 525.93it/s]\n",
      "gather:   0%|          | 0/202 [00:02<?, ?it/s]\n"
     ]
    },
    {
     "ename": "KeyboardInterrupt",
     "evalue": "",
     "output_type": "error",
     "traceback": [
      "\u001b[0;31m---------------------------------------------------------------------------\u001b[0m",
      "\u001b[0;31mKeyboardInterrupt\u001b[0m                         Traceback (most recent call last)",
      "\u001b[1;32m/home/jhyang/WORKSPACES/CODES/fpoly/package/data_screening.ipynb Cell 10\u001b[0m in \u001b[0;36m<cell line: 3>\u001b[0;34m()\u001b[0m\n\u001b[1;32m      <a href='vscode-notebook-cell://ssh-remote%2B10.13.24.238/home/jhyang/WORKSPACES/CODES/fpoly/package/data_screening.ipynb#Y100sdnNjb2RlLXJlbW90ZQ%3D%3D?line=0'>1</a>\u001b[0m \u001b[39mfrom\u001b[39;00m \u001b[39mutils\u001b[39;00m\u001b[39m.\u001b[39;00m\u001b[39mdata\u001b[39;00m \u001b[39mimport\u001b[39;00m DataGenerator, collate_fn, collate_fn_fpoly\n\u001b[1;32m      <a href='vscode-notebook-cell://ssh-remote%2B10.13.24.238/home/jhyang/WORKSPACES/CODES/fpoly/package/data_screening.ipynb#Y100sdnNjb2RlLXJlbW90ZQ%3D%3D?line=1'>2</a>\u001b[0m DGFP \u001b[39m=\u001b[39m DataGenerator(smiles\u001b[39m=\u001b[39m\u001b[39mNone\u001b[39;00m, targets\u001b[39m=\u001b[39m\u001b[39mNone\u001b[39;00m, include_autocorr\u001b[39m=\u001b[39m\u001b[39mTrue\u001b[39;00m, norm\u001b[39m=\u001b[39m\u001b[39mTrue\u001b[39;00m)\n\u001b[0;32m----> <a href='vscode-notebook-cell://ssh-remote%2B10.13.24.238/home/jhyang/WORKSPACES/CODES/fpoly/package/data_screening.ipynb#Y100sdnNjb2RlLXJlbW90ZQ%3D%3D?line=2'>3</a>\u001b[0m DGFP\u001b[39m.\u001b[39;49mgenerate_fpoly_from_csv(\u001b[39m'\u001b[39;49m\u001b[39m/home/jhyang/WORKSPACES/DATA/polymers/f-polymer/Fea_Gene_20220603_DieEC_Total.csv\u001b[39;49m\u001b[39m'\u001b[39;49m)\n",
      "File \u001b[0;32m~/WORKSPACES/CODES/fpoly/package/utils/data.py:94\u001b[0m, in \u001b[0;36mDataGenerator.generate_fpoly_from_csv\u001b[0;34m(self, path)\u001b[0m\n\u001b[1;32m     92\u001b[0m     data_dict\u001b[39m.\u001b[39mupdate({\u001b[39m'\u001b[39m\u001b[39mweight\u001b[39m\u001b[39m'\u001b[39m:np\u001b[39m.\u001b[39marray(w\u001b[39m/\u001b[39mw_sum)\u001b[39m.\u001b[39mreshape(\u001b[39m1\u001b[39m,\u001b[39m1\u001b[39m)})\n\u001b[1;32m     93\u001b[0m     d\u001b[39m.\u001b[39mappend(data_dict)\n\u001b[0;32m---> 94\u001b[0m feature, _, _ \u001b[39m=\u001b[39m collate_fn(d)\n\u001b[1;32m     95\u001b[0m d \u001b[39m=\u001b[39m PolyData(\n\u001b[1;32m     96\u001b[0m     smiles\u001b[39m=\u001b[39msmiles,\n\u001b[1;32m     97\u001b[0m     atomic_feature\u001b[39m=\u001b[39mfeature[\u001b[39m'\u001b[39m\u001b[39matom_feat\u001b[39m\u001b[39m'\u001b[39m]\u001b[39m.\u001b[39mcpu()\u001b[39m.\u001b[39mnumpy(),\n\u001b[0;32m   (...)\u001b[0m\n\u001b[1;32m    102\u001b[0m     target\u001b[39m=\u001b[39mnp\u001b[39m.\u001b[39marray(target)\u001b[39m.\u001b[39mreshape(\u001b[39m1\u001b[39m,\u001b[39m1\u001b[39m)\u001b[39m.\u001b[39mastype(\u001b[39m'\u001b[39m\u001b[39mfloat32\u001b[39m\u001b[39m'\u001b[39m),\n\u001b[1;32m    103\u001b[0m )\n\u001b[1;32m    104\u001b[0m d\u001b[39m.\u001b[39mupdate({\u001b[39m'\u001b[39m\u001b[39mgraph\u001b[39m\u001b[39m'\u001b[39m:feature[\u001b[39m'\u001b[39m\u001b[39mgraph_idx\u001b[39m\u001b[39m'\u001b[39m]\u001b[39m.\u001b[39mcpu()\u001b[39m.\u001b[39mnumpy()})\n",
      "File \u001b[0;32m~/WORKSPACES/CODES/fpoly/package/utils/data.py:212\u001b[0m, in \u001b[0;36mcollate_fn\u001b[0;34m(data)\u001b[0m\n\u001b[1;32m    208\u001b[0m     graph_idx\u001b[39m.\u001b[39mextend([i]\u001b[39m*\u001b[39mn_atom)\n\u001b[1;32m    210\u001b[0m     i_atom \u001b[39m+\u001b[39m\u001b[39m=\u001b[39m n_atom\n\u001b[0;32m--> 212\u001b[0m atom_feats \u001b[39m=\u001b[39m torch\u001b[39m.\u001b[39;49mconcat(atom_feat)\u001b[39m.\u001b[39;49mfloat()\u001b[39m.\u001b[39;49mcuda()\n\u001b[1;32m    213\u001b[0m bond_feats \u001b[39m=\u001b[39m torch\u001b[39m.\u001b[39mconcat(bond_feat)\u001b[39m.\u001b[39mfloat()\u001b[39m.\u001b[39mcuda()\n\u001b[1;32m    214\u001b[0m bond_idxs  \u001b[39m=\u001b[39m torch\u001b[39m.\u001b[39mconcat(bond_idx, axis\u001b[39m=\u001b[39m\u001b[39m1\u001b[39m)\u001b[39m.\u001b[39mlong()\u001b[39m.\u001b[39mcuda()\n",
      "\u001b[0;31mKeyboardInterrupt\u001b[0m: "
     ]
    }
   ],
   "source": [
    "from utils.data import DataGenerator, collate_fn, collate_fn_fpoly\n",
    "DGFP = DataGenerator(smiles=None, targets=None, include_autocorr=True, norm=True)\n",
    "DGFP.generate_fpoly_from_csv('/home/jhyang/WORKSPACES/DATA/polymers/f-polymer/Fea_Gene_20220603_DieEC_Total.csv')\n"
   ]
  },
  {
   "cell_type": "code",
   "execution_count": 8,
   "metadata": {},
   "outputs": [],
   "source": [
    "f, t, s = collate_fn_fpoly(DGF.data[:3])"
   ]
  },
  {
   "cell_type": "code",
   "execution_count": 13,
   "metadata": {},
   "outputs": [
    {
     "data": {
      "text/plain": [
       "FineTuner(\n",
       "  (encoder): CATEncoder(\n",
       "    (atomnet): GraphNet(\n",
       "      (embed): Sequential(\n",
       "        (0): Linear(in_features=26, out_features=64, bias=True)\n",
       "        (1): ELU(alpha=1.0)\n",
       "      )\n",
       "      (graph): Sequential(\n",
       "        (0): CGConv(64, dim=5)\n",
       "        (1): CGConv(64, dim=5)\n",
       "        (2): CGConv(64, dim=5)\n",
       "        (3): CGConv(64, dim=5)\n",
       "      )\n",
       "      (output): Linear(in_features=64, out_features=32, bias=True)\n",
       "    )\n",
       "    (molnet): DNN(\n",
       "      (network): Sequential(\n",
       "        (0): Sequential(\n",
       "          (0): Linear(in_features=399, out_features=256, bias=True)\n",
       "          (1): BatchNorm1d(256, eps=1e-05, momentum=0.1, affine=True, track_running_stats=True)\n",
       "          (2): ELU(alpha=1.0)\n",
       "        )\n",
       "        (1): Sequential(\n",
       "          (0): Sequential(\n",
       "            (0): Linear(in_features=256, out_features=128, bias=True)\n",
       "            (1): BatchNorm1d(128, eps=1e-05, momentum=0.1, affine=True, track_running_stats=True)\n",
       "            (2): Dropout(p=0.3, inplace=False)\n",
       "            (3): ELU(alpha=1.0)\n",
       "          )\n",
       "        )\n",
       "        (2): Linear(in_features=128, out_features=32, bias=True)\n",
       "      )\n",
       "    )\n",
       "  )\n",
       "  (output): Sequential(\n",
       "    (0): Linear(in_features=320, out_features=1, bias=True)\n",
       "  )\n",
       ")"
      ]
     },
     "execution_count": 13,
     "metadata": {},
     "output_type": "execute_result"
    }
   ],
   "source": [
    "from model.modules import FineTuner, CATEncoder\n",
    "from torch import nn\n",
    "epochs = 2000\n",
    "atom_net_params  = {\n",
    "    'n_atom_feat':26,\n",
    "    'n_bond_feat':5,\n",
    "    'graph':'cg',\n",
    "    'hidden_dim':64,\n",
    "    'output_dim':32,\n",
    "    'n_layer':4\n",
    "}\n",
    "mol_net_params  = {\n",
    "    'input_dim':399,\n",
    "    'hidden_dims':[256, 128],\n",
    "    'output_dim':32,\n",
    "}\n",
    "encoder = CATEncoder(\n",
    "    atom_net_params=atom_net_params,\n",
    "    mol_net_params=mol_net_params,\n",
    ")\n",
    "\n",
    "model = FineTuner(encoder, [nn.Linear(5*(atom_net_params['output_dim']+mol_net_params['output_dim']), 1)])\n",
    "model = model.cuda()\n",
    "model"
   ]
  },
  {
   "cell_type": "code",
   "execution_count": 28,
   "metadata": {},
   "outputs": [
    {
     "name": "stdout",
     "output_type": "stream",
     "text": [
      "  Overwriting attribute : norm\n",
      "  Overwriting attribute : ptable\n",
      "  Overwriting attribute : ptbl_feat_name\n",
      "  Overwriting attribute : data\n",
      "  Setting new attribute : name_atom_feat\n",
      "  Setting new attribute : name_bond_feat\n",
      "  Setting new attribute : name_mol_feat\n"
     ]
    },
    {
     "name": "stderr",
     "output_type": "stream",
     "text": [
      "screen: 100%|██████████| 202/202 [00:00<00:00, 116029.77it/s]\n"
     ]
    }
   ],
   "source": [
    "#DGFP.save('../unscreened_dataset.fpoly.pkl')\n",
    "DGQ = DataGenerator(None, None)\n",
    "DGQ = DGQ.load('../screened_dataset.qm9.pkl')\n",
    "\n",
    "DGF.screen_by_mask(mask_atom = DGQ.mask_atom, \n",
    "                    mask_bond = DGQ.mask_bond, \n",
    "                    mask_mol = DGQ.mask_mol)\n",
    "#DGF.save('../screened_dataset.fpoly.pkl')"
   ]
  },
  {
   "cell_type": "code",
   "execution_count": 13,
   "metadata": {},
   "outputs": [
    {
     "data": {
      "text/plain": [
       "array([['CC(=C)C(=O)OCC(F)(F)C(F)(F)C(F)(F)F',\n",
       "        'CCCCCCCCCCCCCCCCCCOC(=O)C(C)=C', 'COC(=O)C(C)=C',\n",
       "        'CC(=C)C(O)=O', 'CC(=C)C(=O)OCCO'],\n",
       "       ['CC(=C)C(=O)OCC(F)(F)C(F)(F)C(F)(F)F',\n",
       "        'CCCCCCCCCCCCCCCCCCOC(=O)C(C)=C', 'COC(=O)C(C)=C',\n",
       "        'CC(=C)C(O)=O', 'CC(=C)C(=O)OCCO'],\n",
       "       ['CC(=C)C(=O)OCC(F)(F)C(F)(F)C(F)(F)F',\n",
       "        'CCCCCCCCCCCCCCCCCCOC(=O)C(C)=C', 'COC(=O)C(C)=C',\n",
       "        'CC(=C)C(O)=O', 'CC(=C)C(=O)OCCO'],\n",
       "       ...,\n",
       "       ['FC(F)(F)C(F)(F)C(F)(F)C(F)(F)CCOC(=O)C=C',\n",
       "        'CCCCCCCCCCCCCCCCCCOC(=O)C(C)=C', 'COC(=O)C(C)=C',\n",
       "        'CC(=C)C(O)=O', 'CC(=C)C(=O)OCCO'],\n",
       "       ['FC(F)(F)C(F)(F)C(F)(F)C(F)(F)CCOC(=O)C=C',\n",
       "        'CCCCCCCCCCCCCCCCCCOC(=O)C(C)=C', 'COC(=O)C(C)=C',\n",
       "        'CC(=C)C(O)=O', 'CC(=C)C(=O)OCCO'],\n",
       "       ['FC(F)(F)C(F)(F)C(F)(F)C(F)(F)CCOC(=O)C=C',\n",
       "        'CCCCCCCCCCCCCCCCCCOC(=O)C(C)=C', 'COC(=O)C(C)=C', 'OC(=O)C=C',\n",
       "        'CC(=C)C(=O)OCCO']], dtype=object)"
      ]
     },
     "execution_count": 13,
     "metadata": {},
     "output_type": "execute_result"
    }
   ],
   "source": [
    "mask = ~np.sum((df == 'Did not work').values, axis=1).astype(bool)\n",
    "col_smiles = [f'Monomer_{x}' for x in 'ABCDE']\n",
    "col_weights = [f'Normalized_FR_{x}' for x in 'ABCDE']\n",
    "df.loc[mask, col_smiles].values"
   ]
  },
  {
   "cell_type": "markdown",
   "metadata": {},
   "source": [
    "- merge"
   ]
  },
  {
   "cell_type": "code",
   "execution_count": 16,
   "metadata": {},
   "outputs": [],
   "source": [
    "dgsf.n_mol_feat = int(dgsf.n_mol_feat)\n",
    "dgsf.save('../screened_dataset.fpoly.pkl', overwrite=True)"
   ]
  },
  {
   "cell_type": "code",
   "execution_count": 5,
   "metadata": {},
   "outputs": [],
   "source": [
    "feat_q, tgt_q, _ = collate_fn(DGQ.data)\n",
    "feat_f, tgt_f, _ = collate_fn(DGF.data)"
   ]
  },
  {
   "cell_type": "code",
   "execution_count": 8,
   "metadata": {},
   "outputs": [
    {
     "data": {
      "text/plain": [
       "((1177631, 26), (2517932, 5), (2, 2517932), (133885, 399), 26, 5, 399)"
      ]
     },
     "execution_count": 8,
     "metadata": {},
     "output_type": "execute_result"
    }
   ],
   "source": [
    "atom_q, bond_q, edge_q, mol_q = feat_q['atom_feat'].cpu().numpy(), feat_q['bond_feat'].cpu().numpy(), feat_q['bond_idx'].cpu().numpy(), feat_q['mol_feat'].cpu().numpy()\n",
    "atom_f, bond_f, edge_f, mol_f = feat_f['atom_feat'].cpu().numpy(), feat_f['bond_feat'].cpu().numpy(), feat_f['bond_idx'].cpu().numpy(), feat_f['mol_feat'].cpu().numpy()\n",
    "atom_q.shape, bond_q.shape, edge_q.shape, mol_q.shape, DGQ.n_atom_feat, DGQ.n_bond_feat, DGQ.n_mol_feat"
   ]
  },
  {
   "cell_type": "code",
   "execution_count": 40,
   "metadata": {},
   "outputs": [
    {
     "name": "stdout",
     "output_type": "stream",
     "text": [
      "6.4 ms ± 614 µs per loop (mean ± std. dev. of 7 runs, 100 loops each)\n",
      "813 µs ± 48.7 µs per loop (mean ± std. dev. of 7 runs, 1,000 loops each)\n",
      "5.7 ms ± 191 µs per loop (mean ± std. dev. of 7 runs, 100 loops each)\n"
     ]
    }
   ],
   "source": [
    "import numpy as np\n",
    "import torch\n",
    "\n",
    "fn = [np.random.rand(10000).reshape(100,100) for _ in range(256)]\n",
    "ft = [torch.tensor(f).float() for f in fn]\n",
    "\n",
    "%timeit torch.tensor(np.vstack(fn)).float()\n",
    "%timeit torch.concat(ft).float()\n",
    "%timeit torch.concat([torch.tensor(f).float() for f in fn])"
   ]
  },
  {
   "cell_type": "code",
   "execution_count": 46,
   "metadata": {},
   "outputs": [
    {
     "name": "stdout",
     "output_type": "stream",
     "text": [
      "22.3 µs ± 354 ns per loop (mean ± std. dev. of 7 runs, 10,000 loops each)\n",
      "57.6 µs ± 1.17 µs per loop (mean ± std. dev. of 7 runs, 10,000 loops each)\n"
     ]
    }
   ],
   "source": [
    "d = [np.zeros((1,1), dtype='float32') for _ in range(100)]\n",
    "\n",
    "%timeit torch.tensor(np.vstack(d)).float()\n",
    "%timeit torch.tensor(d).float()"
   ]
  },
  {
   "cell_type": "markdown",
   "metadata": {},
   "source": [
    "- test readout"
   ]
  },
  {
   "cell_type": "code",
   "execution_count": 8,
   "metadata": {},
   "outputs": [
    {
     "data": {
      "text/plain": [
       "(torch.Size([133885, 26]), torch.Size([133885, 12]))"
      ]
     },
     "execution_count": 8,
     "metadata": {},
     "output_type": "execute_result"
    }
   ],
   "source": [
    "from torch_geometric.nn import global_mean_pool\n",
    "\n",
    "x = global_mean_pool(atom_q, gidx_q)\n",
    "x.shape, tgt_q.shape # well operating"
   ]
  },
  {
   "cell_type": "code",
   "execution_count": 7,
   "metadata": {},
   "outputs": [
    {
     "data": {
      "text/plain": [
       "array([], dtype='<U24')"
      ]
     },
     "execution_count": 7,
     "metadata": {},
     "output_type": "execute_result"
    }
   ],
   "source": [
    "tmax = torch.max(mol_q, dim=0).values\n",
    "DGQ.name_mol_feat[np.where((tmax > 100).numpy())[0]]"
   ]
  },
  {
   "cell_type": "markdown",
   "metadata": {},
   "source": [
    "### Screening"
   ]
  },
  {
   "cell_type": "code",
   "execution_count": 6,
   "metadata": {},
   "outputs": [],
   "source": [
    "from ypack.utils.feature_screening import screen_high_pcc, screen_low_var"
   ]
  },
  {
   "cell_type": "markdown",
   "metadata": {},
   "source": [
    "#### Atomic features"
   ]
  },
  {
   "cell_type": "markdown",
   "metadata": {},
   "source": [
    "- screen by variance"
   ]
  },
  {
   "cell_type": "code",
   "execution_count": 12,
   "metadata": {},
   "outputs": [
    {
     "name": "stdout",
     "output_type": "stream",
     "text": [
      "Total 5 features are screened (th: 0.00010)\n",
      "   Screened indexes:\n",
      "\t [13 17 18 23 24]\n",
      "   Screened feature names:\n",
      " \t ['block' 'fusion_heat' 'metallic_radius' 'ele_config_d' 'ele_config_f']\n",
      "   Dimension: (1177631, 26) -> (1177631, 21)\n",
      "Total 6 features are screened (th: 0.00001)\n",
      "   Screened indexes:\n",
      "\t [13 18 20 21 23 24]\n",
      "   Screened feature names:\n",
      " \t ['block' 'metallic_radius' 'period' 'ele_config_s' 'ele_config_d'\n",
      " 'ele_config_f']\n",
      "   Dimension: (11809, 26) -> (11809, 20)\n"
     ]
    }
   ],
   "source": [
    "mask_vq = screen_low_var(atom_q, names=DGQ.name_atom_feat, th=1e-4, axis=1)\n",
    "mask_vf = screen_low_var(atom_f, names=DGF.name_atom_feat, th=1e-5, axis=1)\n",
    "mask_av = mask_vq & mask_vf"
   ]
  },
  {
   "cell_type": "markdown",
   "metadata": {},
   "source": [
    "- screen by pcc"
   ]
  },
  {
   "cell_type": "code",
   "execution_count": 13,
   "metadata": {},
   "outputs": [
    {
     "name": "stdout",
     "output_type": "stream",
     "text": [
      "Total 3 features are screened (th: 0.99900)\n",
      "   Screened indexes:\n",
      "\t [ 6 11 22]\n",
      "   List of indexes:\n",
      "\t  0 [Mass]               : 11 [atomic_number], 22 [ele_config_p]\n",
      "\t  2 [ImplicitValence]    : 6 [NumImplicitHs]\n",
      "\t 16 [en_pauling]         : 11 [atomic_number], 22 [ele_config_p]\n",
      "   Screened feature names:\n",
      " \t ['NumImplicitHs' 'atomic_number' 'ele_config_p']\n",
      "   Dimension: (1177631, 26) -> (1177631, 23)\n",
      "Total 5 features are screened (th: 0.99900)\n",
      "   Screened indexes:\n",
      "\t [ 6  9 11 16 22]\n",
      "   List of indexes:\n",
      "\t  2 [ImplicitValence]    : 6 [NumImplicitHs], 9 [TotalNumHs]\n",
      "\t 10 [TotalValence]       : 11 [atomic_number], 16 [en_pauling], 22 [ele_config_p]\n",
      "   Screened feature names:\n",
      " \t ['NumImplicitHs' 'TotalNumHs' 'atomic_number' 'en_pauling' 'ele_config_p']\n",
      "   Dimension: (11809, 26) -> (11809, 21)\n"
     ]
    },
    {
     "name": "stderr",
     "output_type": "stream",
     "text": [
      "/home/jhyang/anaconda3/envs/poly/lib/python3.9/site-packages/numpy/lib/function_base.py:2829: RuntimeWarning: invalid value encountered in true_divide\n",
      "  c /= stddev[:, None]\n",
      "/home/jhyang/anaconda3/envs/poly/lib/python3.9/site-packages/numpy/lib/function_base.py:2830: RuntimeWarning: invalid value encountered in true_divide\n",
      "  c /= stddev[None, :]\n"
     ]
    }
   ],
   "source": [
    "mask_pq = screen_high_pcc(atom_q, names=DGQ.name_atom_feat, th=1-1e-3, axis=1)\n",
    "mask_pf = screen_high_pcc(atom_f, names=DGF.name_atom_feat, th=1-1e-3, axis=1)\n",
    "mask_ap = mask_pq & mask_pf"
   ]
  },
  {
   "cell_type": "markdown",
   "metadata": {},
   "source": [
    "- feature mask"
   ]
  },
  {
   "cell_type": "code",
   "execution_count": 14,
   "metadata": {},
   "outputs": [
    {
     "data": {
      "text/plain": [
       "14"
      ]
     },
     "execution_count": 14,
     "metadata": {},
     "output_type": "execute_result"
    }
   ],
   "source": [
    "mask_atom_feat = mask_av & mask_ap\n",
    "np.sum(mask_atom_feat)"
   ]
  },
  {
   "cell_type": "markdown",
   "metadata": {},
   "source": [
    "#### Bond feature"
   ]
  },
  {
   "cell_type": "markdown",
   "metadata": {},
   "source": [
    "- screen by variance"
   ]
  },
  {
   "cell_type": "code",
   "execution_count": 15,
   "metadata": {},
   "outputs": [
    {
     "name": "stdout",
     "output_type": "stream",
     "text": [
      "Total 0 features are screened (th: 0.00010)\n",
      "   Screened indexes:\n",
      "\t []\n",
      "   Screened feature names:\n",
      " \t []\n",
      "   Dimension: (2517932, 5) -> (2517932, 5)\n",
      "Total 0 features are screened (th: 0.00001)\n",
      "   Screened indexes:\n",
      "\t []\n",
      "   Screened feature names:\n",
      " \t []\n",
      "   Dimension: (21670, 5) -> (21670, 5)\n"
     ]
    }
   ],
   "source": [
    "mask_vq = screen_low_var(bond_q, names=DGQ.name_bond_feat, th=1e-4, axis=1)\n",
    "mask_vf = screen_low_var(bond_f, names=DGF.name_bond_feat, th=1e-5, axis=1)\n",
    "mask_bv = mask_vq & mask_vf"
   ]
  },
  {
   "cell_type": "markdown",
   "metadata": {},
   "source": [
    "- screen by pcc"
   ]
  },
  {
   "cell_type": "code",
   "execution_count": 16,
   "metadata": {},
   "outputs": [
    {
     "name": "stdout",
     "output_type": "stream",
     "text": [
      "Total 1 features are screened (th: 0.99000)\n",
      "   Screened indexes:\n",
      "\t [2]\n",
      "   List of indexes:\n",
      "\t  0 [BondType]           : 2 [IsAromatic]\n",
      "   Screened feature names:\n",
      " \t ['IsAromatic']\n",
      "   Dimension: (2517932, 5) -> (2517932, 4)\n",
      "Total 0 features are screened (th: 0.99900)\n",
      "   Screened indexes:\n",
      "\t []\n",
      "   List of indexes:\n",
      "   Screened feature names:\n",
      " \t []\n",
      "   Dimension: (21670, 5) -> (21670, 5)\n"
     ]
    }
   ],
   "source": [
    "mask_pq = screen_high_pcc(bond_q, names=DGQ.name_bond_feat, th=1-1e-2, axis=1)\n",
    "mask_pf = screen_high_pcc(bond_f, names=DGF.name_bond_feat, th=1-1e-3, axis=1)\n",
    "mask_bp = mask_pq & mask_pf"
   ]
  },
  {
   "cell_type": "markdown",
   "metadata": {},
   "source": [
    "- feature mask"
   ]
  },
  {
   "cell_type": "code",
   "execution_count": 17,
   "metadata": {},
   "outputs": [
    {
     "data": {
      "text/plain": [
       "4"
      ]
     },
     "execution_count": 17,
     "metadata": {},
     "output_type": "execute_result"
    }
   ],
   "source": [
    "mask_bond_feat = mask_bv & mask_bp\n",
    "np.sum(mask_bond_feat)"
   ]
  },
  {
   "cell_type": "markdown",
   "metadata": {},
   "source": [
    "#### Molecular feature"
   ]
  },
  {
   "cell_type": "markdown",
   "metadata": {},
   "source": [
    "- screen by variance"
   ]
  },
  {
   "cell_type": "code",
   "execution_count": 19,
   "metadata": {},
   "outputs": [
    {
     "name": "stdout",
     "output_type": "stream",
     "text": [
      "Total 103 features are screened (th: 0.00010)\n",
      "   Screened indexes:\n",
      "\t [  9  44  45  46  47  48  49  50  51  52  53  54  55  56  57  58  59  60\n",
      "  61  62  63  64  65  66  67  68  69  70  71  72  73  74  75  76  77  78\n",
      "  79  80  81  82  83  84  85  86  87  88  89  90  91  92  93  94  95  96\n",
      "  97  98  99 100 101 126 134 140 144 153 154 155 157 159 160 167 168 171\n",
      " 172 181 182 183 189 190 194 197 198 199 202 203 204 261 262 269 270 277\n",
      " 278 286 292 293 294 295 296 297 298 299 300 301 302]\n",
      "   Screened feature names:\n",
      " \t ['NumRadicalElectrons' 'PEOE_VSA1' 'PEOE_VSA10' 'PEOE_VSA11' 'PEOE_VSA12'\n",
      " 'PEOE_VSA13' 'PEOE_VSA14' 'PEOE_VSA2' 'PEOE_VSA3' 'PEOE_VSA4' 'PEOE_VSA5'\n",
      " 'PEOE_VSA6' 'PEOE_VSA7' 'PEOE_VSA8' 'PEOE_VSA9' 'SMR_VSA1' 'SMR_VSA10'\n",
      " 'SMR_VSA2' 'SMR_VSA3' 'SMR_VSA4' 'SMR_VSA5' 'SMR_VSA6' 'SMR_VSA7'\n",
      " 'SMR_VSA8' 'SMR_VSA9' 'SlogP_VSA1' 'SlogP_VSA10' 'SlogP_VSA11'\n",
      " 'SlogP_VSA12' 'SlogP_VSA2' 'SlogP_VSA3' 'SlogP_VSA4' 'SlogP_VSA5'\n",
      " 'SlogP_VSA6' 'SlogP_VSA7' 'SlogP_VSA8' 'SlogP_VSA9' 'TPSA' 'EState_VSA1'\n",
      " 'EState_VSA10' 'EState_VSA11' 'EState_VSA2' 'EState_VSA3' 'EState_VSA4'\n",
      " 'EState_VSA5' 'EState_VSA6' 'EState_VSA7' 'EState_VSA8' 'EState_VSA9'\n",
      " 'VSA_EState1' 'VSA_EState10' 'VSA_EState2' 'VSA_EState3' 'VSA_EState4'\n",
      " 'VSA_EState5' 'VSA_EState6' 'VSA_EState7' 'VSA_EState8' 'VSA_EState9'\n",
      " 'fr_Ar_COO' 'fr_C_S' 'fr_N_O' 'fr_SH' 'fr_azide' 'fr_azo' 'fr_barbitur'\n",
      " 'fr_benzodiazepine' 'fr_diazo' 'fr_dihydropyridine' 'fr_hdrzine'\n",
      " 'fr_hdrzone' 'fr_isocyan' 'fr_isothiocyan' 'fr_nitro_arom'\n",
      " 'fr_nitro_arom_nonortho' 'fr_nitroso' 'fr_phos_acid' 'fr_phos_ester'\n",
      " 'fr_prisulfonamd' 'fr_sulfide' 'fr_sulfonamd' 'fr_sulfone' 'fr_thiazole'\n",
      " 'fr_thiocyan' 'fr_thiophene' 'AUTOCORR2D_55' 'AUTOCORR2D_56'\n",
      " 'AUTOCORR2D_63' 'AUTOCORR2D_64' 'AUTOCORR2D_71' 'AUTOCORR2D_72'\n",
      " 'AUTOCORR2D_80' 'AUTOCORR2D_86' 'AUTOCORR2D_87' 'AUTOCORR2D_88'\n",
      " 'AUTOCORR2D_89' 'AUTOCORR2D_90' 'AUTOCORR2D_91' 'AUTOCORR2D_92'\n",
      " 'AUTOCORR2D_93' 'AUTOCORR2D_94' 'AUTOCORR2D_95' 'AUTOCORR2D_96']\n",
      "   Dimension: (133885, 399) -> (133885, 296)\n",
      "Total 61 features are screened (th: 0.00001)\n",
      "   Screened indexes:\n",
      "\t [  9 125 126 127 128 129 134 135 136 139 140 142 143 144 145 146 148 150\n",
      " 152 153 154 155 157 159 160 161 165 167 168 169 170 171 172 175 176 178\n",
      " 180 181 182 183 184 185 187 188 189 190 191 192 193 194 195 196 197 198\n",
      " 199 200 201 202 203 204 206]\n",
      "   Screened feature names:\n",
      " \t ['NumRadicalElectrons' 'fr_ArN' 'fr_Ar_COO' 'fr_Ar_N' 'fr_Ar_NH'\n",
      " 'fr_Ar_OH' 'fr_C_S' 'fr_HOCCN' 'fr_Imine' 'fr_NH2' 'fr_N_O'\n",
      " 'fr_Ndealkylation2' 'fr_Nhpyrrole' 'fr_SH' 'fr_aldehyde'\n",
      " 'fr_alkyl_carbamate' 'fr_allylic_oxid' 'fr_amidine' 'fr_aryl_methyl'\n",
      " 'fr_azide' 'fr_azo' 'fr_barbitur' 'fr_benzodiazepine' 'fr_diazo'\n",
      " 'fr_dihydropyridine' 'fr_epoxide' 'fr_guanido' 'fr_hdrzine' 'fr_hdrzone'\n",
      " 'fr_imidazole' 'fr_imide' 'fr_isocyan' 'fr_isothiocyan' 'fr_lactam'\n",
      " 'fr_lactone' 'fr_morpholine' 'fr_nitro' 'fr_nitro_arom'\n",
      " 'fr_nitro_arom_nonortho' 'fr_nitroso' 'fr_oxazole' 'fr_oxime' 'fr_phenol'\n",
      " 'fr_phenol_noOrthoHbond' 'fr_phos_acid' 'fr_phos_ester' 'fr_piperdine'\n",
      " 'fr_piperzine' 'fr_priamide' 'fr_prisulfonamd' 'fr_pyridine' 'fr_quatN'\n",
      " 'fr_sulfide' 'fr_sulfonamd' 'fr_sulfone' 'fr_term_acetylene'\n",
      " 'fr_tetrazole' 'fr_thiazole' 'fr_thiocyan' 'fr_thiophene' 'fr_urea']\n",
      "   Dimension: (1010, 399) -> (1010, 338)\n"
     ]
    }
   ],
   "source": [
    "mask_vq = screen_low_var(mol_q, names=DGQ.name_mol_feat, th=1e-4, axis=1)\n",
    "mask_vf = screen_low_var(mol_f, names=DGF.name_mol_feat, th=1e-5, axis=1)\n",
    "mask_mv = mask_vq & mask_vf"
   ]
  },
  {
   "cell_type": "markdown",
   "metadata": {},
   "source": [
    "- screen by pcc"
   ]
  },
  {
   "cell_type": "code",
   "execution_count": 20,
   "metadata": {},
   "outputs": [
    {
     "name": "stdout",
     "output_type": "stream",
     "text": [
      "Total 142 features are screened (th: 0.99000)\n",
      "   Screened indexes:\n",
      "\t [  2   6   7   8  10  12  17  18  26  29  32  34  36  38  40  43  44  45\n",
      "  46  47  48  49  50  51  52  53  54  55  56  57  58  59  60  61  62  63\n",
      "  64  65  66  67  68  69  70  71  72  73  74  75  76  77  78  79  80  81\n",
      "  82  83  84  85  86  87  88  89  90  91  92  93  94  95  96  97  98  99\n",
      " 100 101 111 121 130 131 133 143 182 188 223 224 225 226 227 228 229 230\n",
      " 239 240 242 243 244 245 246 275 276 277 278 295 296 297 298 299 300 301\n",
      " 302 319 320 321 322 323 324 325 326 327 328 329 330 331 332 333 334 367\n",
      " 368 369 370 371 372 373 374 375 376 377 378 379 380 381 382 398]\n",
      "   List of indexes:\n",
      "\t  0 [MaxEStateIndex]     : 2 [MaxAbsEStateIndex]\n",
      "\t  5 [MolWt]              : 6 [HeavyAtomMolWt], 7 [ExactMolWt], 8 [NumValenceElectrons], 10 [MaxPartialCharge], 17 [BCUT2D_MWHI], 18 [BCUT2D_MWLOW], 26 [BertzCT], 40 [Ipc], 43 [LabuteASA], 44 [PEOE_VSA1], 45 [PEOE_VSA10], 46 [PEOE_VSA11], 47 [PEOE_VSA12], 48 [PEOE_VSA13], 49 [PEOE_VSA14], 50 [PEOE_VSA2], 51 [PEOE_VSA3], 52 [PEOE_VSA4], 53 [PEOE_VSA5], 54 [PEOE_VSA6], 55 [PEOE_VSA7], 56 [PEOE_VSA8], 57 [PEOE_VSA9], 58 [SMR_VSA1], 59 [SMR_VSA10], 60 [SMR_VSA2], 61 [SMR_VSA3], 62 [SMR_VSA4], 63 [SMR_VSA5], 64 [SMR_VSA6], 65 [SMR_VSA7], 66 [SMR_VSA8], 67 [SMR_VSA9], 68 [SlogP_VSA1], 69 [SlogP_VSA10], 70 [SlogP_VSA11], 71 [SlogP_VSA12], 72 [SlogP_VSA2], 73 [SlogP_VSA3], 74 [SlogP_VSA4], 75 [SlogP_VSA5], 76 [SlogP_VSA6], 77 [SlogP_VSA7], 78 [SlogP_VSA8], 79 [SlogP_VSA9], 80 [TPSA], 81 [EState_VSA1], 82 [EState_VSA10], 83 [EState_VSA11], 84 [EState_VSA2], 85 [EState_VSA3], 86 [EState_VSA4], 87 [EState_VSA5], 88 [EState_VSA6], 89 [EState_VSA7], 90 [EState_VSA8], 91 [EState_VSA9], 92 [VSA_EState1], 93 [VSA_EState10], 94 [VSA_EState2], 95 [VSA_EState3], 96 [VSA_EState4], 97 [VSA_EState5], 98 [VSA_EState6], 99 [VSA_EState7], 100 [VSA_EState8], 101 [VSA_EState9], 121 [MolMR], 295 [AUTOCORR2D_89], 296 [AUTOCORR2D_90], 297 [AUTOCORR2D_91], 298 [AUTOCORR2D_92], 299 [AUTOCORR2D_93], 300 [AUTOCORR2D_94], 301 [AUTOCORR2D_95], 302 [AUTOCORR2D_96], 398 [AUTOCORR2D_192]\n",
      "\t 11 [MinPartialCharge]   : 12 [MaxAbsPartialCharge]\n",
      "\t 28 [Chi0n]              : 29 [Chi0v]\n",
      "\t 31 [Chi1n]              : 32 [Chi1v]\n",
      "\t 33 [Chi2n]              : 34 [Chi2v]\n",
      "\t 35 [Chi3n]              : 36 [Chi3v]\n",
      "\t 37 [Chi4n]              : 38 [Chi4v]\n",
      "\t110 [NumAromaticHeterocycles] : 111 [NumAromaticRings]\n",
      "\t122 [fr_Al_COO]          : 130 [fr_COO], 131 [fr_COO2]\n",
      "\t128 [fr_Ar_NH]           : 143 [fr_Nhpyrrole]\n",
      "\t132 [fr_C_O]             : 133 [fr_C_O_noCOO]\n",
      "\t181 [fr_nitro_arom]      : 182 [fr_nitro_arom_nonortho]\n",
      "\t187 [fr_phenol]          : 188 [fr_phenol_noOrthoHbond]\n",
      "\t207 [AUTOCORR2D_1]       : 223 [AUTOCORR2D_17], 239 [AUTOCORR2D_33]\n",
      "\t208 [AUTOCORR2D_2]       : 224 [AUTOCORR2D_18], 240 [AUTOCORR2D_34]\n",
      "\t209 [AUTOCORR2D_3]       : 225 [AUTOCORR2D_19]\n",
      "\t210 [AUTOCORR2D_4]       : 226 [AUTOCORR2D_20], 242 [AUTOCORR2D_36]\n",
      "\t211 [AUTOCORR2D_5]       : 227 [AUTOCORR2D_21], 243 [AUTOCORR2D_37]\n",
      "\t212 [AUTOCORR2D_6]       : 228 [AUTOCORR2D_22], 244 [AUTOCORR2D_38]\n",
      "\t213 [AUTOCORR2D_7]       : 229 [AUTOCORR2D_23], 245 [AUTOCORR2D_39]\n",
      "\t214 [AUTOCORR2D_8]       : 230 [AUTOCORR2D_24], 246 [AUTOCORR2D_40]\n",
      "\t259 [AUTOCORR2D_53]      : 275 [AUTOCORR2D_69]\n",
      "\t260 [AUTOCORR2D_54]      : 276 [AUTOCORR2D_70]\n",
      "\t261 [AUTOCORR2D_55]      : 277 [AUTOCORR2D_71]\n",
      "\t262 [AUTOCORR2D_56]      : 278 [AUTOCORR2D_72]\n",
      "\t303 [AUTOCORR2D_97]      : 319 [AUTOCORR2D_113], 327 [AUTOCORR2D_121]\n",
      "\t304 [AUTOCORR2D_98]      : 320 [AUTOCORR2D_114], 328 [AUTOCORR2D_122]\n",
      "\t305 [AUTOCORR2D_99]      : 321 [AUTOCORR2D_115], 329 [AUTOCORR2D_123]\n",
      "\t306 [AUTOCORR2D_100]     : 322 [AUTOCORR2D_116]\n",
      "\t307 [AUTOCORR2D_101]     : 323 [AUTOCORR2D_117]\n",
      "\t308 [AUTOCORR2D_102]     : 324 [AUTOCORR2D_118]\n",
      "\t309 [AUTOCORR2D_103]     : 325 [AUTOCORR2D_119]\n",
      "\t310 [AUTOCORR2D_104]     : 326 [AUTOCORR2D_120]\n",
      "\t311 [AUTOCORR2D_105]     : 327 [AUTOCORR2D_121]\n",
      "\t312 [AUTOCORR2D_106]     : 328 [AUTOCORR2D_122]\n",
      "\t313 [AUTOCORR2D_107]     : 329 [AUTOCORR2D_123]\n",
      "\t314 [AUTOCORR2D_108]     : 330 [AUTOCORR2D_124]\n",
      "\t315 [AUTOCORR2D_109]     : 331 [AUTOCORR2D_125]\n",
      "\t316 [AUTOCORR2D_110]     : 332 [AUTOCORR2D_126]\n",
      "\t317 [AUTOCORR2D_111]     : 333 [AUTOCORR2D_127]\n",
      "\t318 [AUTOCORR2D_112]     : 334 [AUTOCORR2D_128]\n",
      "\t351 [AUTOCORR2D_145]     : 367 [AUTOCORR2D_161]\n",
      "\t352 [AUTOCORR2D_146]     : 368 [AUTOCORR2D_162]\n",
      "\t353 [AUTOCORR2D_147]     : 369 [AUTOCORR2D_163]\n",
      "\t354 [AUTOCORR2D_148]     : 370 [AUTOCORR2D_164]\n",
      "\t355 [AUTOCORR2D_149]     : 371 [AUTOCORR2D_165]\n",
      "\t356 [AUTOCORR2D_150]     : 372 [AUTOCORR2D_166]\n",
      "\t357 [AUTOCORR2D_151]     : 373 [AUTOCORR2D_167], 381 [AUTOCORR2D_175]\n",
      "\t358 [AUTOCORR2D_152]     : 374 [AUTOCORR2D_168], 382 [AUTOCORR2D_176]\n",
      "\t359 [AUTOCORR2D_153]     : 375 [AUTOCORR2D_169]\n",
      "\t360 [AUTOCORR2D_154]     : 376 [AUTOCORR2D_170]\n",
      "\t361 [AUTOCORR2D_155]     : 377 [AUTOCORR2D_171]\n",
      "\t362 [AUTOCORR2D_156]     : 378 [AUTOCORR2D_172]\n",
      "\t363 [AUTOCORR2D_157]     : 379 [AUTOCORR2D_173]\n",
      "\t364 [AUTOCORR2D_158]     : 380 [AUTOCORR2D_174]\n",
      "\t365 [AUTOCORR2D_159]     : 381 [AUTOCORR2D_175]\n",
      "\t366 [AUTOCORR2D_160]     : 382 [AUTOCORR2D_176]\n",
      "   Screened feature names:\n",
      " \t ['MaxAbsEStateIndex' 'HeavyAtomMolWt' 'ExactMolWt' 'NumValenceElectrons'\n",
      " 'MaxPartialCharge' 'MaxAbsPartialCharge' 'BCUT2D_MWHI' 'BCUT2D_MWLOW'\n",
      " 'BertzCT' 'Chi0v' 'Chi1v' 'Chi2v' 'Chi3v' 'Chi4v' 'Ipc' 'LabuteASA'\n",
      " 'PEOE_VSA1' 'PEOE_VSA10' 'PEOE_VSA11' 'PEOE_VSA12' 'PEOE_VSA13'\n",
      " 'PEOE_VSA14' 'PEOE_VSA2' 'PEOE_VSA3' 'PEOE_VSA4' 'PEOE_VSA5' 'PEOE_VSA6'\n",
      " 'PEOE_VSA7' 'PEOE_VSA8' 'PEOE_VSA9' 'SMR_VSA1' 'SMR_VSA10' 'SMR_VSA2'\n",
      " 'SMR_VSA3' 'SMR_VSA4' 'SMR_VSA5' 'SMR_VSA6' 'SMR_VSA7' 'SMR_VSA8'\n",
      " 'SMR_VSA9' 'SlogP_VSA1' 'SlogP_VSA10' 'SlogP_VSA11' 'SlogP_VSA12'\n",
      " 'SlogP_VSA2' 'SlogP_VSA3' 'SlogP_VSA4' 'SlogP_VSA5' 'SlogP_VSA6'\n",
      " 'SlogP_VSA7' 'SlogP_VSA8' 'SlogP_VSA9' 'TPSA' 'EState_VSA1'\n",
      " 'EState_VSA10' 'EState_VSA11' 'EState_VSA2' 'EState_VSA3' 'EState_VSA4'\n",
      " 'EState_VSA5' 'EState_VSA6' 'EState_VSA7' 'EState_VSA8' 'EState_VSA9'\n",
      " 'VSA_EState1' 'VSA_EState10' 'VSA_EState2' 'VSA_EState3' 'VSA_EState4'\n",
      " 'VSA_EState5' 'VSA_EState6' 'VSA_EState7' 'VSA_EState8' 'VSA_EState9'\n",
      " 'NumAromaticRings' 'MolMR' 'fr_COO' 'fr_COO2' 'fr_C_O_noCOO'\n",
      " 'fr_Nhpyrrole' 'fr_nitro_arom_nonortho' 'fr_phenol_noOrthoHbond'\n",
      " 'AUTOCORR2D_17' 'AUTOCORR2D_18' 'AUTOCORR2D_19' 'AUTOCORR2D_20'\n",
      " 'AUTOCORR2D_21' 'AUTOCORR2D_22' 'AUTOCORR2D_23' 'AUTOCORR2D_24'\n",
      " 'AUTOCORR2D_33' 'AUTOCORR2D_34' 'AUTOCORR2D_36' 'AUTOCORR2D_37'\n",
      " 'AUTOCORR2D_38' 'AUTOCORR2D_39' 'AUTOCORR2D_40' 'AUTOCORR2D_69'\n",
      " 'AUTOCORR2D_70' 'AUTOCORR2D_71' 'AUTOCORR2D_72' 'AUTOCORR2D_89'\n",
      " 'AUTOCORR2D_90' 'AUTOCORR2D_91' 'AUTOCORR2D_92' 'AUTOCORR2D_93'\n",
      " 'AUTOCORR2D_94' 'AUTOCORR2D_95' 'AUTOCORR2D_96' 'AUTOCORR2D_113'\n",
      " 'AUTOCORR2D_114' 'AUTOCORR2D_115' 'AUTOCORR2D_116' 'AUTOCORR2D_117'\n",
      " 'AUTOCORR2D_118' 'AUTOCORR2D_119' 'AUTOCORR2D_120' 'AUTOCORR2D_121'\n",
      " 'AUTOCORR2D_122' 'AUTOCORR2D_123' 'AUTOCORR2D_124' 'AUTOCORR2D_125'\n",
      " 'AUTOCORR2D_126' 'AUTOCORR2D_127' 'AUTOCORR2D_128' 'AUTOCORR2D_161'\n",
      " 'AUTOCORR2D_162' 'AUTOCORR2D_163' 'AUTOCORR2D_164' 'AUTOCORR2D_165'\n",
      " 'AUTOCORR2D_166' 'AUTOCORR2D_167' 'AUTOCORR2D_168' 'AUTOCORR2D_169'\n",
      " 'AUTOCORR2D_170' 'AUTOCORR2D_171' 'AUTOCORR2D_172' 'AUTOCORR2D_173'\n",
      " 'AUTOCORR2D_174' 'AUTOCORR2D_175' 'AUTOCORR2D_176' 'AUTOCORR2D_192']\n",
      "   Dimension: (133885, 399) -> (133885, 257)\n",
      "Total 152 features are screened (th: 0.99900)\n",
      "   Screened indexes:\n",
      "\t [  2   6   7   8  10  12  17  18  26  29  32  34  36  38  40  43  45  46\n",
      "  47  48  49  50  51  52  53  54  55  56  57  58  59  60  61  62  63  64\n",
      "  65  66  67  68  69  70  71  72  73  74  75  76  77  78  79  80  81  82\n",
      "  83  84  85  86  87  88  89  90  91  92  93  94  95  96  97  98  99 100\n",
      " 101 113 116 117 118 121 124 130 131 149 156 164 166 173 174 223 224 225\n",
      " 226 227 228 229 230 239 240 241 242 243 244 245 246 271 272 273 274 275\n",
      " 276 277 278 279 280 281 282 283 284 285 286 288 295 296 297 298 299 300\n",
      " 301 302 326 327 328 329 330 331 332 333 334 366 369 370 372 373 374 376\n",
      " 377 378 379 380 381 382 390 398]\n",
      "   List of indexes:\n",
      "\t  0 [MaxEStateIndex]     : 2 [MaxAbsEStateIndex]\n",
      "\t  5 [MolWt]              : 6 [HeavyAtomMolWt], 7 [ExactMolWt], 8 [NumValenceElectrons], 10 [MaxPartialCharge], 17 [BCUT2D_MWHI], 18 [BCUT2D_MWLOW], 26 [BertzCT], 40 [Ipc], 43 [LabuteASA], 121 [MolMR]\n",
      "\t 11 [MinPartialCharge]   : 12 [MaxAbsPartialCharge]\n",
      "\t 28 [Chi0n]              : 29 [Chi0v]\n",
      "\t 31 [Chi1n]              : 32 [Chi1v]\n",
      "\t 33 [Chi2n]              : 34 [Chi2v]\n",
      "\t 35 [Chi3n]              : 36 [Chi3v]\n",
      "\t 37 [Chi4n]              : 38 [Chi4v]\n",
      "\t 44 [PEOE_VSA1]          : 45 [PEOE_VSA10], 46 [PEOE_VSA11], 47 [PEOE_VSA12], 48 [PEOE_VSA13], 49 [PEOE_VSA14], 50 [PEOE_VSA2], 51 [PEOE_VSA3], 52 [PEOE_VSA4], 53 [PEOE_VSA5], 54 [PEOE_VSA6], 55 [PEOE_VSA7], 56 [PEOE_VSA8], 57 [PEOE_VSA9], 58 [SMR_VSA1], 59 [SMR_VSA10], 60 [SMR_VSA2], 61 [SMR_VSA3], 62 [SMR_VSA4], 63 [SMR_VSA5], 64 [SMR_VSA6], 65 [SMR_VSA7], 66 [SMR_VSA8], 67 [SMR_VSA9], 68 [SlogP_VSA1], 69 [SlogP_VSA10], 70 [SlogP_VSA11], 71 [SlogP_VSA12], 72 [SlogP_VSA2], 73 [SlogP_VSA3], 74 [SlogP_VSA4], 75 [SlogP_VSA5], 76 [SlogP_VSA6], 77 [SlogP_VSA7], 78 [SlogP_VSA8], 79 [SlogP_VSA9], 80 [TPSA], 81 [EState_VSA1], 82 [EState_VSA10], 83 [EState_VSA11], 84 [EState_VSA2], 85 [EState_VSA3], 86 [EState_VSA4], 87 [EState_VSA5], 88 [EState_VSA6], 89 [EState_VSA7], 90 [EState_VSA8], 91 [EState_VSA9], 92 [VSA_EState1], 93 [VSA_EState10], 94 [VSA_EState2], 95 [VSA_EState3], 96 [VSA_EState4], 97 [VSA_EState5], 98 [VSA_EState6], 99 [VSA_EState7], 100 [VSA_EState8], 101 [VSA_EState9], 295 [AUTOCORR2D_89], 296 [AUTOCORR2D_90], 297 [AUTOCORR2D_91], 298 [AUTOCORR2D_92], 299 [AUTOCORR2D_93], 300 [AUTOCORR2D_94], 301 [AUTOCORR2D_95], 302 [AUTOCORR2D_96], 398 [AUTOCORR2D_192]\n",
      "\t104 [NHOHCount]          : 113 [NumHDonors]\n",
      "\t106 [NumAliphaticCarbocycles] : 116 [NumSaturatedCarbocycles]\n",
      "\t107 [NumAliphaticHeterocycles] : 117 [NumSaturatedHeterocycles]\n",
      "\t108 [NumAliphaticRings]  : 118 [NumSaturatedRings]\n",
      "\t109 [NumAromaticCarbocycles] : 156 [fr_benzene]\n",
      "\t110 [NumAromaticHeterocycles] : 164 [fr_furan]\n",
      "\t122 [fr_Al_COO]          : 130 [fr_COO], 131 [fr_COO2]\n",
      "\t123 [fr_Al_OH]           : 124 [fr_Al_OH_noTert]\n",
      "\t132 [fr_C_O]             : 173 [fr_ketone], 174 [fr_ketone_Topliss]\n",
      "\t138 [fr_NH1]             : 149 [fr_amide]\n",
      "\t147 [fr_alkyl_halide]    : 166 [fr_halogen]\n",
      "\t207 [AUTOCORR2D_1]       : 223 [AUTOCORR2D_17], 239 [AUTOCORR2D_33]\n",
      "\t208 [AUTOCORR2D_2]       : 224 [AUTOCORR2D_18], 240 [AUTOCORR2D_34]\n",
      "\t209 [AUTOCORR2D_3]       : 225 [AUTOCORR2D_19], 241 [AUTOCORR2D_35]\n",
      "\t210 [AUTOCORR2D_4]       : 226 [AUTOCORR2D_20], 242 [AUTOCORR2D_36]\n",
      "\t211 [AUTOCORR2D_5]       : 227 [AUTOCORR2D_21], 243 [AUTOCORR2D_37]\n",
      "\t212 [AUTOCORR2D_6]       : 228 [AUTOCORR2D_22], 244 [AUTOCORR2D_38]\n",
      "\t213 [AUTOCORR2D_7]       : 229 [AUTOCORR2D_23], 245 [AUTOCORR2D_39]\n",
      "\t214 [AUTOCORR2D_8]       : 230 [AUTOCORR2D_24], 246 [AUTOCORR2D_40]\n",
      "\t256 [AUTOCORR2D_50]      : 272 [AUTOCORR2D_66], 280 [AUTOCORR2D_74], 288 [AUTOCORR2D_82]\n",
      "\t262 [AUTOCORR2D_56]      : 278 [AUTOCORR2D_72]\n",
      "\t263 [AUTOCORR2D_57]      : 271 [AUTOCORR2D_65], 279 [AUTOCORR2D_73]\n",
      "\t264 [AUTOCORR2D_58]      : 272 [AUTOCORR2D_66], 280 [AUTOCORR2D_74]\n",
      "\t265 [AUTOCORR2D_59]      : 273 [AUTOCORR2D_67], 281 [AUTOCORR2D_75]\n",
      "\t266 [AUTOCORR2D_60]      : 274 [AUTOCORR2D_68], 282 [AUTOCORR2D_76]\n",
      "\t267 [AUTOCORR2D_61]      : 275 [AUTOCORR2D_69], 283 [AUTOCORR2D_77]\n",
      "\t268 [AUTOCORR2D_62]      : 276 [AUTOCORR2D_70], 284 [AUTOCORR2D_78]\n",
      "\t269 [AUTOCORR2D_63]      : 277 [AUTOCORR2D_71], 285 [AUTOCORR2D_79]\n",
      "\t270 [AUTOCORR2D_64]      : 278 [AUTOCORR2D_72], 286 [AUTOCORR2D_80]\n",
      "\t311 [AUTOCORR2D_105]     : 327 [AUTOCORR2D_121]\n",
      "\t312 [AUTOCORR2D_106]     : 328 [AUTOCORR2D_122]\n",
      "\t313 [AUTOCORR2D_107]     : 329 [AUTOCORR2D_123]\n",
      "\t314 [AUTOCORR2D_108]     : 330 [AUTOCORR2D_124]\n",
      "\t315 [AUTOCORR2D_109]     : 331 [AUTOCORR2D_125]\n",
      "\t316 [AUTOCORR2D_110]     : 332 [AUTOCORR2D_126]\n",
      "\t317 [AUTOCORR2D_111]     : 333 [AUTOCORR2D_127]\n",
      "\t318 [AUTOCORR2D_112]     : 326 [AUTOCORR2D_120], 334 [AUTOCORR2D_128]\n",
      "\t321 [AUTOCORR2D_115]     : 329 [AUTOCORR2D_123]\n",
      "\t324 [AUTOCORR2D_118]     : 332 [AUTOCORR2D_126]\n",
      "\t353 [AUTOCORR2D_147]     : 369 [AUTOCORR2D_163]\n",
      "\t354 [AUTOCORR2D_148]     : 370 [AUTOCORR2D_164]\n",
      "\t356 [AUTOCORR2D_150]     : 372 [AUTOCORR2D_166]\n",
      "\t357 [AUTOCORR2D_151]     : 373 [AUTOCORR2D_167]\n",
      "\t358 [AUTOCORR2D_152]     : 366 [AUTOCORR2D_160], 374 [AUTOCORR2D_168], 382 [AUTOCORR2D_176], 390 [AUTOCORR2D_184]\n",
      "\t360 [AUTOCORR2D_154]     : 376 [AUTOCORR2D_170]\n",
      "\t361 [AUTOCORR2D_155]     : 377 [AUTOCORR2D_171]\n",
      "\t362 [AUTOCORR2D_156]     : 370 [AUTOCORR2D_164], 378 [AUTOCORR2D_172]\n",
      "\t363 [AUTOCORR2D_157]     : 379 [AUTOCORR2D_173]\n",
      "\t364 [AUTOCORR2D_158]     : 372 [AUTOCORR2D_166], 380 [AUTOCORR2D_174]\n",
      "\t365 [AUTOCORR2D_159]     : 381 [AUTOCORR2D_175]\n",
      "\t368 [AUTOCORR2D_162]     : 376 [AUTOCORR2D_170]\n",
      "\t371 [AUTOCORR2D_165]     : 379 [AUTOCORR2D_173]\n",
      "   Screened feature names:\n",
      " \t ['MaxAbsEStateIndex' 'HeavyAtomMolWt' 'ExactMolWt' 'NumValenceElectrons'\n",
      " 'MaxPartialCharge' 'MaxAbsPartialCharge' 'BCUT2D_MWHI' 'BCUT2D_MWLOW'\n",
      " 'BertzCT' 'Chi0v' 'Chi1v' 'Chi2v' 'Chi3v' 'Chi4v' 'Ipc' 'LabuteASA'\n",
      " 'PEOE_VSA10' 'PEOE_VSA11' 'PEOE_VSA12' 'PEOE_VSA13' 'PEOE_VSA14'\n",
      " 'PEOE_VSA2' 'PEOE_VSA3' 'PEOE_VSA4' 'PEOE_VSA5' 'PEOE_VSA6' 'PEOE_VSA7'\n",
      " 'PEOE_VSA8' 'PEOE_VSA9' 'SMR_VSA1' 'SMR_VSA10' 'SMR_VSA2' 'SMR_VSA3'\n",
      " 'SMR_VSA4' 'SMR_VSA5' 'SMR_VSA6' 'SMR_VSA7' 'SMR_VSA8' 'SMR_VSA9'\n",
      " 'SlogP_VSA1' 'SlogP_VSA10' 'SlogP_VSA11' 'SlogP_VSA12' 'SlogP_VSA2'\n",
      " 'SlogP_VSA3' 'SlogP_VSA4' 'SlogP_VSA5' 'SlogP_VSA6' 'SlogP_VSA7'\n",
      " 'SlogP_VSA8' 'SlogP_VSA9' 'TPSA' 'EState_VSA1' 'EState_VSA10'\n",
      " 'EState_VSA11' 'EState_VSA2' 'EState_VSA3' 'EState_VSA4' 'EState_VSA5'\n",
      " 'EState_VSA6' 'EState_VSA7' 'EState_VSA8' 'EState_VSA9' 'VSA_EState1'\n",
      " 'VSA_EState10' 'VSA_EState2' 'VSA_EState3' 'VSA_EState4' 'VSA_EState5'\n",
      " 'VSA_EState6' 'VSA_EState7' 'VSA_EState8' 'VSA_EState9' 'NumHDonors'\n",
      " 'NumSaturatedCarbocycles' 'NumSaturatedHeterocycles' 'NumSaturatedRings'\n",
      " 'MolMR' 'fr_Al_OH_noTert' 'fr_COO' 'fr_COO2' 'fr_amide' 'fr_benzene'\n",
      " 'fr_furan' 'fr_halogen' 'fr_ketone' 'fr_ketone_Topliss' 'AUTOCORR2D_17'\n",
      " 'AUTOCORR2D_18' 'AUTOCORR2D_19' 'AUTOCORR2D_20' 'AUTOCORR2D_21'\n",
      " 'AUTOCORR2D_22' 'AUTOCORR2D_23' 'AUTOCORR2D_24' 'AUTOCORR2D_33'\n",
      " 'AUTOCORR2D_34' 'AUTOCORR2D_35' 'AUTOCORR2D_36' 'AUTOCORR2D_37'\n",
      " 'AUTOCORR2D_38' 'AUTOCORR2D_39' 'AUTOCORR2D_40' 'AUTOCORR2D_65'\n",
      " 'AUTOCORR2D_66' 'AUTOCORR2D_67' 'AUTOCORR2D_68' 'AUTOCORR2D_69'\n",
      " 'AUTOCORR2D_70' 'AUTOCORR2D_71' 'AUTOCORR2D_72' 'AUTOCORR2D_73'\n",
      " 'AUTOCORR2D_74' 'AUTOCORR2D_75' 'AUTOCORR2D_76' 'AUTOCORR2D_77'\n",
      " 'AUTOCORR2D_78' 'AUTOCORR2D_79' 'AUTOCORR2D_80' 'AUTOCORR2D_82'\n",
      " 'AUTOCORR2D_89' 'AUTOCORR2D_90' 'AUTOCORR2D_91' 'AUTOCORR2D_92'\n",
      " 'AUTOCORR2D_93' 'AUTOCORR2D_94' 'AUTOCORR2D_95' 'AUTOCORR2D_96'\n",
      " 'AUTOCORR2D_120' 'AUTOCORR2D_121' 'AUTOCORR2D_122' 'AUTOCORR2D_123'\n",
      " 'AUTOCORR2D_124' 'AUTOCORR2D_125' 'AUTOCORR2D_126' 'AUTOCORR2D_127'\n",
      " 'AUTOCORR2D_128' 'AUTOCORR2D_160' 'AUTOCORR2D_163' 'AUTOCORR2D_164'\n",
      " 'AUTOCORR2D_166' 'AUTOCORR2D_167' 'AUTOCORR2D_168' 'AUTOCORR2D_170'\n",
      " 'AUTOCORR2D_171' 'AUTOCORR2D_172' 'AUTOCORR2D_173' 'AUTOCORR2D_174'\n",
      " 'AUTOCORR2D_175' 'AUTOCORR2D_176' 'AUTOCORR2D_184' 'AUTOCORR2D_192']\n",
      "   Dimension: (1010, 399) -> (1010, 247)\n"
     ]
    },
    {
     "name": "stderr",
     "output_type": "stream",
     "text": [
      "/home/jhyang/anaconda3/envs/poly/lib/python3.9/site-packages/numpy/lib/function_base.py:2829: RuntimeWarning: invalid value encountered in true_divide\n",
      "  c /= stddev[:, None]\n",
      "/home/jhyang/anaconda3/envs/poly/lib/python3.9/site-packages/numpy/lib/function_base.py:2830: RuntimeWarning: invalid value encountered in true_divide\n",
      "  c /= stddev[None, :]\n"
     ]
    }
   ],
   "source": [
    "mask_pq = screen_high_pcc(mol_q, names=DGQ.name_mol_feat, th=1-1e-2, axis=1)\n",
    "mask_pf = screen_high_pcc(mol_f, names=DGF.name_mol_feat, th=1-1e-3, axis=1)\n",
    "mask_mp = mask_pq & mask_pf"
   ]
  },
  {
   "cell_type": "markdown",
   "metadata": {},
   "source": [
    "- feature mask"
   ]
  },
  {
   "cell_type": "code",
   "execution_count": 21,
   "metadata": {},
   "outputs": [
    {
     "data": {
      "text/plain": [
       "165"
      ]
     },
     "execution_count": 21,
     "metadata": {},
     "output_type": "execute_result"
    }
   ],
   "source": [
    "mask_mol_feat = mask_mv & mask_mp\n",
    "np.sum(mask_mol_feat)"
   ]
  },
  {
   "cell_type": "markdown",
   "metadata": {},
   "source": [
    "#### Save datasets"
   ]
  },
  {
   "cell_type": "markdown",
   "metadata": {},
   "source": [
    "- unscreened data"
   ]
  },
  {
   "cell_type": "code",
   "execution_count": 19,
   "metadata": {},
   "outputs": [],
   "source": [
    "DGQ.save('unscreened_dataset.qm9.pickle')\n",
    "DGF.save('unscreened_dataset.fpoly.pickle')"
   ]
  },
  {
   "cell_type": "markdown",
   "metadata": {},
   "source": [
    "- screened data"
   ]
  },
  {
   "cell_type": "code",
   "execution_count": 20,
   "metadata": {},
   "outputs": [
    {
     "name": "stderr",
     "output_type": "stream",
     "text": [
      "screen: 100%|██████████| 133885/133885 [00:02<00:00, 46927.74it/s]\n",
      "screen: 100%|██████████| 46/46 [00:00<00:00, 46003.33it/s]\n"
     ]
    }
   ],
   "source": [
    "DGQ.screen_by_mask(mask_atom=mask_atom_feat, \n",
    "                   mask_bond=mask_bond_feat, \n",
    "                   mask_mol=mask_mol_feat)\n",
    "#DGF.screen_by_mask(mask_atom=mask_atom_feat, \n",
    "#                   mask_bond=mask_bond_feat, \n",
    "#                   mask_mol=mask_mol_feat)\n",
    "DGQ.save('screened_dataset.qm9.np.pkl', overwrite=True)\n",
    "#DGF.save('screened_dataset.fpoly.pickle', overwrite=True)"
   ]
  },
  {
   "cell_type": "code",
   "execution_count": 22,
   "metadata": {},
   "outputs": [
    {
     "name": "stderr",
     "output_type": "stream",
     "text": [
      "screen: 100%|██████████| 133885/133885 [00:00<00:00, 237540.44it/s]\n",
      "screen: 100%|██████████| 202/202 [00:00<00:00, 89532.86it/s]\n"
     ]
    }
   ],
   "source": [
    "DGQ.screen_by_mask(mask_atom=mask_av, \n",
    "                   mask_bond=mask_bv, \n",
    "                   mask_mol=mask_mv)\n",
    "DGF.screen_by_mask(mask_atom=mask_av,\n",
    "                   mask_bond=mask_bv,\n",
    "                   mask_mol=mask_mv)\n",
    "DGQ.save('vscreened_dataset.qm9.pkl', overwrite=True)\n",
    "DGF.save('vscreened_dataset.fpoly.pkl', overwrite=True)"
   ]
  },
  {
   "cell_type": "markdown",
   "metadata": {},
   "source": [
    "#### Inspect data for normalization"
   ]
  },
  {
   "cell_type": "code",
   "execution_count": 34,
   "metadata": {},
   "outputs": [],
   "source": [
    "def get_info(feat):\n",
    "    f = np.hstack(feat)\n",
    "    return f'mean: {np.mean(f):>10.3f}\\nmedi : {np.median(f):>10.3f}\\nmax  : {np.max(f):>10.3f}\\nmin   : {np.min(f):>10.3f}\\nvar    : {np.var(f):>10.3f}'"
   ]
  },
  {
   "cell_type": "code",
   "execution_count": 31,
   "metadata": {},
   "outputs": [
    {
     "name": "stderr",
     "output_type": "stream",
     "text": [
      "6it [00:00, 10.86it/s]\n"
     ]
    },
    {
     "data": {
      "image/png": "[encoded data removed]",
      "text/plain": [
       "<Figure size 1080x720 with 16 Axes>"
      ]
     },
     "metadata": {
      "needs_background": "light"
     },
     "output_type": "display_data"
    }
   ],
   "source": [
    "import tqdm\n",
    "idx=20\n",
    "f, axs = plt.subplots(5, 2, figsize=(15, 10))\n",
    "for i, ax in tqdm.tqdm(enumerate(axs.reshape(-1))):\n",
    "    if i + idx == atom_q.T.shape[0]: break\n",
    "    n = DGQ.name_atom_feat[i + idx]\n",
    "    feat1 = atom_q.T[i + idx].numpy()\n",
    "    ax.hist(feat1, bins=100, label=n)\n",
    "    feat2 = atom_f.T[i + idx].numpy()\n",
    "    ax2 = ax.twinx()\n",
    "    ax2.hist(feat2, bins=100, alpha=0.6, color=[1,0.3,0], label=get_info([feat1, feat2]))\n",
    "    ax.legend(loc='upper left', fontsize=12)\n",
    "    ax2.legend(loc='upper right', fontsize=10)\n",
    "    ax.set_yscale('log')\n",
    "    "
   ]
  },
  {
   "cell_type": "code",
   "execution_count": 38,
   "metadata": {},
   "outputs": [
    {
     "data": {
      "image/png": "[encoded data removed]",
      "text/plain": [
       "<Figure size 1080x1080 with 12 Axes>"
      ]
     },
     "metadata": {
      "needs_background": "light"
     },
     "output_type": "display_data"
    }
   ],
   "source": [
    "import matplotlib.pyplot as plt\n",
    "import pandas as pd\n",
    "%matplotlib inline\n",
    "\n",
    "df = pd.read_csv('/home/jhyang/WORKSPACES/DATA/polymers/QM9/target.csv')\n",
    "f, axs = plt.subplots(6, 2, figsize=(15, 15))\n",
    "scalers = {\n",
    "    'dipole_moment':lambda x: x/10,\n",
    "    'isotropic_polarizability':lambda x: np.log10(x),\n",
    "    'homo':lambda x: x*2,\n",
    "    'lumo':lambda x: x*4,\n",
    "    'band_gap':lambda x: x*2,\n",
    "    'electronic_spatial_extent':lambda x: np.log10(x),\n",
    "    'zpve':lambda x: x*8,\n",
    "    'heat_capacity':lambda x: np.log10(x),\n",
    "    'internal_energy_0K':lambda x: np.log10(-x),\n",
    "    'internal_energy_298K':lambda x: np.log10(-x),\n",
    "    'enthalpy_298K':lambda x: np.log10(-x),\n",
    "    'free_energy_298K':lambda x: np.log10(-x),    \n",
    "}\n",
    "for ax, (n, val) in zip(axs.reshape(-1), df.iteritems()):\n",
    "    target = scalers[n](val.values)\n",
    "    ax.set_title(n, fontsize=12)\n",
    "    ax.hist(target, bins=100, label=get_info(target))\n",
    "    ax.legend(loc='upper right', fontsize=12)\n",
    "    ax.set_yscale('log')"
   ]
  },
  {
   "cell_type": "code",
   "execution_count": 32,
   "metadata": {},
   "outputs": [
    {
     "name": "stdout",
     "output_type": "stream",
     "text": [
      "dipole_moment (133885,)\n",
      "isotropic_polarizability (133885,)\n",
      "homo (133885,)\n",
      "lumo (133885,)\n",
      "band_gap (133885,)\n",
      "electronic_spatial_extent (133885,)\n",
      "zpve (133885,)\n",
      "heat_capacity (133885,)\n",
      "internal_energy_0K (133885,)\n",
      "internal_energy_298K (133885,)\n",
      "enthalpy_298K (133885,)\n",
      "free_energy_298K (133885,)\n"
     ]
    }
   ],
   "source": [
    "for n, v in df.iteritems():\n",
    "    print(n,v.values.shape)"
   ]
  },
  {
   "cell_type": "code",
   "execution_count": 4,
   "metadata": {},
   "outputs": [
    {
     "name": "stdout",
     "output_type": "stream",
     "text": [
      "  Overwriting attribute : norm\n",
      "  Overwriting attribute : ptable\n",
      "  Overwriting attribute : ptbl_feat_name\n",
      "  Overwriting attribute : data\n",
      "  Setting new attribute : name_atom_feat\n",
      "  Setting new attribute : name_bond_feat\n",
      "  Setting new attribute : name_mol_feat\n",
      "  Overwriting attribute : norm\n",
      "  Overwriting attribute : ptable\n",
      "  Overwriting attribute : ptbl_feat_name\n",
      "  Overwriting attribute : data\n",
      "  Setting new attribute : name_atom_feat\n",
      "  Setting new attribute : name_bond_feat\n",
      "  Setting new attribute : name_mol_feat\n",
      "  Overwriting attribute : norm\n",
      "  Overwriting attribute : ptable\n",
      "  Overwriting attribute : ptbl_feat_name\n",
      "  Overwriting attribute : data\n",
      "  Setting new attribute : name_atom_feat\n",
      "  Setting new attribute : name_bond_feat\n",
      "  Setting new attribute : name_mol_feat\n"
     ]
    }
   ],
   "source": [
    "from utils.data import DataGenerator\n",
    "dg = DataGenerator(None, None)\n",
    "udg = dg.load('../unscreened_dataset.qm9.pkl')\n",
    "vdg = dg.load('../vscreened_dataset.qm9.pkl')\n",
    "sdg = dg.load('../screened_dataset.qm9.pkl')"
   ]
  },
  {
   "cell_type": "code",
   "execution_count": 11,
   "metadata": {},
   "outputs": [
    {
     "name": "stdout",
     "output_type": "stream",
     "text": [
      "  Overwriting attribute : norm\n",
      "  Overwriting attribute : ptable\n",
      "  Overwriting attribute : ptbl_feat_name\n",
      "  Overwriting attribute : data\n",
      "  Setting new attribute : name_atom_feat\n",
      "  Setting new attribute : name_bond_feat\n",
      "  Setting new attribute : name_mol_feat\n"
     ]
    }
   ],
   "source": [
    "dg = DataGenerator(None, None)\n",
    "ufd = dg.load('../unscreened_dataset.fpoly.pkl')"
   ]
  },
  {
   "cell_type": "code",
   "execution_count": 82,
   "metadata": {},
   "outputs": [
    {
     "name": "stdout",
     "output_type": "stream",
     "text": [
      "153 19 30\n"
     ]
    }
   ],
   "source": [
    "def train_test_split_by_smiles(data, valid, test):\n",
    "    train_data = []\n",
    "    valid_data = []\n",
    "    test_data  = []\n",
    "    for d in data:\n",
    "        data_smiles = ' '.join(list(d['smiles']))\n",
    "        is_train = True\n",
    "        for smiles in valid:\n",
    "            if smiles in data_smiles:\n",
    "                valid_data.append(data)\n",
    "                is_train = False\n",
    "                break\n",
    "        for smiles in test:\n",
    "            if smiles in data_smiles:\n",
    "                test_data.append(data)\n",
    "                is_train = False\n",
    "                break\n",
    "        if is_train:\n",
    "            train_data.append(data)\n",
    "    return train_data, valid_data, test_data            \n",
    "\n",
    "train, valid, test = train_test_split_by_smiles(ufd.data,\n",
    "                                                valid = ['CC(=C)C(=O)OCC(F)(F)F', 'CC(=C)C(=O)OCC(F)(F)C(F)(F)C(F)(F)C(F)(F)C(F)(F)C(F)F'],\n",
    "                                                test = ['FC(F)(F)C(F)(F)C(F)(F)C(F)(F)CCOC(=O)C=C', 'CC(=C)C(=O)OCC(F)(F)C(F)F', 'FC(F)(F)C(F)(F)C(F)(F)COC(=O)C=C'],\n",
    ")\n",
    "print(len(train), len(valid), len(test))"
   ]
  }
 ],
 "metadata": {
  "kernelspec": {
   "display_name": "Python 3.9.12 ('poly')",
   "language": "python",
   "name": "python3"
  },
  "language_info": {
   "codemirror_mode": {
    "name": "ipython",
    "version": 3
   },
   "file_extension": ".py",
   "mimetype": "text/x-python",
   "name": "python",
   "nbconvert_exporter": "python",
   "pygments_lexer": "ipython3",
   "version": "3.9.12"
  },
  "orig_nbformat": 4,
  "vscode": {
   "interpreter": {
    "hash": "301f9491a8f0e4bd7c70446afd62a207ad150af1893fa72a3c14d69f0f6f8076"
   }
  }
 },
 "nbformat": 4,
 "nbformat_minor": 2
}
