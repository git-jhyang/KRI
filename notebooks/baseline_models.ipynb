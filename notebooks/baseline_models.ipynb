{
 "cells": [
  {
   "cell_type": "code",
   "execution_count": 42,
   "metadata": {},
   "outputs": [],
   "source": [
    "import tqdm, torch, json, pickle, os, gc, time, sys\n",
    "sys.path.append('../')\n",
    "import pandas as pd\n",
    "import numpy as np\n",
    "from collections import OrderedDict\n",
    "from src.utils.dataset import FPolyDatasetV2, collate_fn\n",
    "from src.utils.data import CrossValidation\n",
    "from src.utils.visualization import plot_scatter\n",
    "from torch_geometric.nn import global_add_pool, global_max_pool, global_mean_pool\n",
    "import xgboost as xgb\n",
    "from sklearn.metrics import r2_score, mean_absolute_error, mean_squared_error\n",
    "import matplotlib.pyplot as plt\n",
    "from bayes_opt import BayesianOptimization\n",
    "import seaborn as sns\n",
    "from pathlib import Path\n",
    "from sklearn.svm import SVR\n",
    "from sklearn.gaussian_process import GaussianProcessRegressor as GPR\n",
    "# XGBoost, SVR, and GPR"
   ]
  },
  {
   "cell_type": "markdown",
   "metadata": {},
   "source": [
    " - objective functions"
   ]
  },
  {
   "cell_type": "code",
   "execution_count": 48,
   "metadata": {},
   "outputs": [],
   "source": [
    "def xgb_obj_fnc(eta, max_depth):\n",
    "    global train_data, valid_data, test_data, m_best, best\n",
    "    params = {\n",
    "        'max_depth':int(np.round(max_depth)),\n",
    "        'min_child_weight': 2,\n",
    "        'eta':eta,\n",
    "        # Other parameters\n",
    "        'objective':'reg:squarederror',\n",
    "        'eval_metric':'mae'\n",
    "    }\n",
    "    booster = xgb.train(params, dtrain=train_data, num_boost_round=100, early_stopping_rounds=5, \n",
    "                        evals=[(valid_data, 'valid')], verbose_eval=False)\n",
    "    y_train = train_data.get_label()\n",
    "    y_valid = valid_data.get_label()\n",
    "    p_train = booster.predict(train_data, iteration_range=(0, booster.best_iteration+1))\n",
    "    p_valid = booster.predict(valid_data, iteration_range=(0, booster.best_iteration+1))\n",
    "    train_r2, train_mae = r2_score(y_train.reshape(-1), p_train), mean_absolute_error(y_train.reshape(-1), p_train)\n",
    "    valid_r2, valid_mae = r2_score(y_valid.reshape(-1), p_valid), mean_absolute_error(y_valid.reshape(-1), p_valid)\n",
    "    m = train_r2 + valid_r2 - 0.02 * (train_mae + valid_mae)\n",
    "    if m > m_best:\n",
    "        m_best = m\n",
    "        y_test = test_data.get_label()\n",
    "        p_test = booster.predict(test_data, iteration_range=(0, booster.best_iteration+1))\n",
    "        test_r2, test_mae = r2_score(test_tgt.reshape(-1), p_test), mean_absolute_error(test_tgt.reshape(-1), p_test)\n",
    "        best = {'params':params, 'train':[y_train, p_train], 'valid':[y_valid, p_valid], 'test':[y_test, p_test],\n",
    "                'measure':[train_r2, train_mae, valid_r2, valid_mae, test_r2, test_mae]}\n",
    "    return m\n",
    "\n",
    "def svr_obj_fnc1(c, eps):\n",
    "    global x_train, x_valid, y_train, y_valid, test_feat, test_tgt, kernel, m_best, best\n",
    "    params = {'kernel':kernel, 'C':c, 'epsilon':eps}\n",
    "    svr = SVR(**params)\n",
    "    svr.fit(x_train, y_train.reshape(-1))\n",
    "    p_train = svr.predict(x_train)\n",
    "    p_valid = svr.predict(x_valid)\n",
    "    train_r2, train_mae = r2_score(y_train.reshape(-1), p_train), mean_absolute_error(y_train.reshape(-1), p_train)\n",
    "    valid_r2, valid_mae = r2_score(y_valid.reshape(-1), p_valid), mean_absolute_error(y_valid.reshape(-1), p_valid)\n",
    "    m = train_r2 + valid_r2 - 0.02 * (train_mae + valid_mae)\n",
    "    if m > m_best:\n",
    "        m_best = m\n",
    "        p_test = svr.predict(test_feat)\n",
    "        test_r2, test_mae = r2_score(test_tgt.reshape(-1), p_test), mean_absolute_error(test_tgt.reshape(-1), p_test)\n",
    "        best = {'params':params, 'train':[y_train, p_train], 'valid':[y_valid, p_valid], 'test':[test_tgt, p_test], \n",
    "                'measure':[train_r2, train_mae, valid_r2, valid_mae, test_r2,  test_mae]}\n",
    "    return m\n",
    "\n",
    "def svr_obj_fnc2(coef, c, eps):\n",
    "    global kernel, x_train, x_valid, y_train, y_valid, test_feat, test_tgt, m_best, best\n",
    "    params = {'kernel':kernel, 'coef0':coef, 'C':c, 'epsilon':eps}\n",
    "    svr = SVR(**params)\n",
    "    svr.fit(x_train, y_train.reshape(-1))\n",
    "    p_train = svr.predict(x_train)\n",
    "    p_valid = svr.predict(x_valid)\n",
    "    train_r2, train_mae = r2_score(y_train.reshape(-1), p_train), mean_absolute_error(y_train.reshape(-1), p_train)\n",
    "    valid_r2, valid_mae = r2_score(y_valid.reshape(-1), p_valid), mean_absolute_error(y_valid.reshape(-1), p_valid)\n",
    "    m = train_r2 + valid_r2 - 0.02 * (train_mae + valid_mae)\n",
    "    if m > m_best:\n",
    "        m_best = m\n",
    "        p_test = svr.predict(test_feat)\n",
    "        test_r2, test_mae = r2_score(test_tgt.reshape(-1), p_test), mean_absolute_error(test_tgt.reshape(-1), p_test)\n",
    "        best = {'params':params, 'train':[y_train, p_train], 'valid':[y_valid, p_valid], 'test':[test_tgt, p_test], \n",
    "                'measure':[train_r2, train_mae, valid_r2, valid_mae, test_r2, test_mae]}\n",
    "    return m\n",
    "\n",
    "def gpr_obj_fnc(alpha, n):\n",
    "    global x_train, x_valid, y_train, y_valid, test_feat, test_tgt, m_best, best\n",
    "    params = {'alpha':alpha, 'n_restarts_optimizer':int(n), 'random_state':100}\n",
    "    gpr = GPR(**params)\n",
    "    gpr.fit(x_train, y_train.reshape(-1))\n",
    "    p_train = gpr.predict(x_train)\n",
    "    p_valid = gpr.predict(x_valid)\n",
    "    train_r2, train_mae = r2_score(y_train.reshape(-1), p_train), mean_absolute_error(y_train.reshape(-1), p_train)\n",
    "    valid_r2, valid_mae = r2_score(y_valid.reshape(-1), p_valid), mean_absolute_error(y_valid.reshape(-1), p_valid)\n",
    "    m = train_r2 + valid_r2 - 0.02 * (train_mae + valid_mae)\n",
    "    if m > m_best:\n",
    "        m_best = m\n",
    "        p_test = gpr.predict(test_feat)\n",
    "        test_r2, test_mae = r2_score(test_tgt.reshape(-1), p_test), mean_absolute_error(test_tgt.reshape(-1), p_test)\n",
    "        best = {'params':params, 'train':[y_train.reshape, p_train], 'valid':[y_valid.reshape, p_valid], 'test':[test_tgt.reshape, p_test], \n",
    "                'measure':[train_r2, train_mae, valid_r2, valid_mae, test_r2, test_mae]}\n",
    "    return m\n"
   ]
  },
  {
   "cell_type": "markdown",
   "metadata": {},
   "source": [
    "## graph and global state features"
   ]
  },
  {
   "cell_type": "markdown",
   "metadata": {},
   "source": [
    "### data load"
   ]
  },
  {
   "cell_type": "code",
   "execution_count": 27,
   "metadata": {},
   "outputs": [
    {
     "name": "stdout",
     "output_type": "stream",
     "text": [
      "  Overwriting attribute : norm\n",
      "  Overwriting attribute : data\n",
      "  Overwriting attribute : atom_feat_name\n",
      "  Overwriting attribute : bond_feat_name\n",
      "  Overwriting attribute : mol_feat_name\n",
      "  Overwriting attribute : target_desc\n",
      "  Overwriting attribute : tag\n",
      "  Overwriting attribute : cache_fn\n",
      "  Setting new attribute : unique_data\n",
      "  Overwriting attribute : norm\n",
      "  Overwriting attribute : blacklist\n",
      "  Overwriting attribute : data\n",
      "  Overwriting attribute : atom_feat_name\n",
      "  Overwriting attribute : bond_feat_name\n",
      "  Overwriting attribute : mol_feat_name\n",
      "  Overwriting attribute : target_desc\n",
      "  Overwriting attribute : tag\n",
      "  Overwriting attribute : cache_fn\n",
      "  Setting new attribute : unique_data\n"
     ]
    }
   ],
   "source": [
    "train_ds = FPolyDatasetV2()#blacklist=json.load(open('../blacklist.json')))\n",
    "train_ds.generate('/home/jhyang/WORKSPACES/DATA/molecule/fpolymer/fpolymers_230823.tg.train.csv')\n",
    "test_ds = FPolyDatasetV2()#blacklist=json.load(open('../blacklist.json')))\n",
    "test_ds.generate('/home/jhyang/WORKSPACES/DATA/molecule/fpolymer/fpolymers_230823.tg.test.csv')\n",
    "cv = CrossValidation(n_fold=5, n_data=len(train_ds), return_index=True)"
   ]
  },
  {
   "cell_type": "code",
   "execution_count": 28,
   "metadata": {},
   "outputs": [],
   "source": [
    "def vector_from_atom_feat(dataset, index=None):\n",
    "    if index is None:\n",
    "        feat, tgt, ids = collate_fn(dataset, 'cpu')\n",
    "    else:\n",
    "        feat, tgt, ids = collate_fn(dataset[index], 'cpu')\n",
    "    \n",
    "    fs = []\n",
    "    for f in feat:\n",
    "        b = f['data_idx']\n",
    "        w = f['weight']\n",
    "        h = global_mean_pool(f['atom_feat'], f['graph_idx'])\n",
    "        fs.append(\n",
    "            global_mean_pool(torch.hstack([h * w, h]), b).numpy()\n",
    "        )\n",
    "    f = np.sum(fs, axis=0)\n",
    "    return f, tgt.numpy(), ids\n",
    "\n",
    "def vector_from_mol_feat(dataset, index=None):\n",
    "    if index is None:\n",
    "        feat, tgt, ids = collate_fn(dataset, 'cpu')\n",
    "    else:\n",
    "        feat, tgt, ids = collate_fn(dataset[index], 'cpu')\n",
    "    \n",
    "    fs = []\n",
    "    for f in feat:\n",
    "        b = f['data_idx']\n",
    "        w = f['weight']\n",
    "        h = f['mol_feat']\n",
    "        fs.append(\n",
    "            global_mean_pool(torch.hstack([h * w, h]), b).numpy()\n",
    "        )\n",
    "    f = np.sum(fs, axis=0)\n",
    "    return f, tgt.numpy(), ids"
   ]
  },
  {
   "cell_type": "code",
   "execution_count": 29,
   "metadata": {},
   "outputs": [],
   "source": [
    "train_af, train_tgt, train_ids = vector_from_atom_feat(train_ds)\n",
    "test_af, test_tgt, test_ids = vector_from_atom_feat(test_ds)\n",
    "\n",
    "train_mf, train_tgt, train_ids = vector_from_mol_feat(train_ds)\n",
    "test_mf, test_tgt, test_ids = vector_from_mol_feat(test_ds)\n",
    "\n",
    "features = {\n",
    "    'graph':[train_af, test_af],\n",
    "    'global':[train_mf, test_mf],\n",
    "    'both':[np.hstack([train_af, train_mf]), np.hstack([test_af, test_mf])],\n",
    "}"
   ]
  },
  {
   "cell_type": "markdown",
   "metadata": {},
   "source": [
    "### xgboost"
   ]
  },
  {
   "cell_type": "code",
   "execution_count": 30,
   "metadata": {},
   "outputs": [
    {
     "name": "stdout",
     "output_type": "stream",
     "text": [
      "Fold: 0 : graph      |   0.989 /  1.10 |   0.523 / 16.10 |  -0.498 / 17.05 | \n",
      "Fold: 1 : graph      |   0.987 /  2.17 |   0.302 / 16.32 |  -0.623 / 17.24 | \n",
      "Fold: 2 : graph      |   0.983 /  1.60 |   0.640 / 12.07 |  -0.414 / 16.42 | \n",
      "Fold: 3 : graph      |   0.982 /  2.11 |   0.738 / 12.46 |  -0.373 / 16.20 | \n",
      "Fold: 4 : graph      |   0.979 /  2.69 |   0.439 / 16.35 |  -0.819 / 17.95 | \n",
      "Fold: 0 : global     |   0.999 /  0.65 |   0.656 / 14.04 |  -0.140 / 15.62 | \n",
      "Fold: 1 : global     |   0.996 /  1.18 |   0.648 / 11.44 |  -0.099 / 13.31 | \n",
      "Fold: 2 : global     |   1.000 /  0.37 |   0.774 / 10.05 |  -0.058 / 14.57 | \n",
      "Fold: 3 : global     |   1.000 /  0.18 |   0.760 / 12.59 |  -0.534 / 16.69 | \n",
      "Fold: 4 : global     |   0.999 /  0.44 |   0.456 / 14.95 |   0.003 / 13.49 | \n",
      "Fold: 0 : both       |   1.000 /  0.17 |   0.610 / 14.24 |   0.002 / 14.25 | \n",
      "Fold: 1 : both       |   1.000 /  0.05 |   0.636 / 11.90 |   0.213 / 12.33 | \n",
      "Fold: 2 : both       |   0.999 /  0.59 |   0.777 / 10.50 |   0.088 / 13.43 | \n",
      "Fold: 3 : both       |   1.000 /  0.45 |   0.761 / 12.77 |  -0.673 / 17.05 | \n",
      "Fold: 4 : both       |   0.999 /  0.79 |   0.452 / 15.05 |  -0.393 / 15.06 | \n"
     ]
    }
   ],
   "source": [
    "outputs = {}\n",
    "for feature_type, (train_feat, test_feat) in features.items():\n",
    "    output = {}\n",
    "    for i in range(5):\n",
    "        train_idx, valid_idx = cv[i]\n",
    "        train_data = xgb.DMatrix(train_feat[train_idx], train_tgt[train_idx])\n",
    "        valid_data = xgb.DMatrix(train_feat[valid_idx], train_tgt[valid_idx])\n",
    "        test_data = xgb.DMatrix(test_feat, test_tgt)\n",
    "        m_best = -1e5\n",
    "        bo = BayesianOptimization(xgb_obj_fnc, pbounds={'eta':[1e-2,1], 'max_depth':[1,20]},\n",
    "                                  random_state=100, verbose=0)\n",
    "        bo.maximize(init_points=10, n_iter=140)\n",
    "        print('Fold: {} : {:10s} | {:7.3f} / {:5.2f} | {:7.3f} / {:5.2f} | {:7.3f} / {:5.2f} | '.format(i, feature_type, *best['measure']))\n",
    "        output[i] = best.copy()\n",
    "    outputs[feature_type] = output\n",
    "#    print('-'*70)\n",
    "#    print('AVG:     : {:7.3f} / {:5.2f} / {:5.2f} | {:7.3f} / {:5.2f} / {:5.2f} | {:7.3f} / {:5.2f} / {:5.2f} | '.format(*np.mean(vals, axis=0)))\n",
    "#    print('STD:     : {:7.3f} / {:5.2f} / {:5.2f} | {:7.3f} / {:5.2f} / {:5.2f} | {:7.3f} / {:5.2f} / {:5.2f} | '.format(*np.std(vals, axis=0)))\n",
    "with open('../outputs/results/baseline/xgb.gg.output.pkl','wb') as f:\n",
    "    pickle.dump(outputs, f)"
   ]
  },
  {
   "cell_type": "code",
   "execution_count": 39,
   "metadata": {},
   "outputs": [
    {
     "name": "stdout",
     "output_type": "stream",
     "text": [
      "  0.989    1.099 /   0.523  16.102 /  -0.498  17.051\n",
      "  0.987    2.172 /   0.302  16.320 /  -0.623  17.237\n",
      "  0.983    1.596 /   0.640  12.075 /  -0.414  16.421\n",
      "  0.982    2.114 /   0.738  12.459 /  -0.373  16.205\n",
      "  0.979    2.685 /   0.439  16.352 /  -0.819  17.950\n",
      "--------------------------------------------------------------------------------\n",
      "  0.984    1.933 /   0.528  14.662 /  -0.545  16.973\n",
      "  0.004    0.541 /   0.152   1.961 /   0.161   0.620\n",
      "--------------------------------------------------------------------------------\n",
      "                 /   0.563  14.662 /  -0.327  15.699\n",
      "\n",
      "  0.999    0.646 /   0.656  14.044 /  -0.140  15.624\n",
      "  0.996    1.175 /   0.648  11.436 /  -0.099  13.314\n",
      "  1.000    0.373 /   0.774  10.046 /  -0.058  14.572\n",
      "  1.000    0.179 /   0.760  12.586 /  -0.534  16.688\n",
      "  0.999    0.436 /   0.456  14.954 /   0.003  13.493\n",
      "--------------------------------------------------------------------------------\n",
      "  0.999    0.562 /   0.659  12.613 /  -0.166  14.738\n",
      "  0.002    0.341 /   0.114   1.761 /   0.190   1.280\n",
      "--------------------------------------------------------------------------------\n",
      "                 /   0.683  12.613 /   0.031  13.762\n",
      "\n",
      "  1.000    0.174 /   0.610  14.239 /   0.002  14.253\n",
      "  1.000    0.046 /   0.636  11.897 /   0.213  12.335\n",
      "  0.999    0.586 /   0.777  10.502 /   0.088  13.427\n",
      "  1.000    0.447 /   0.761  12.766 /  -0.673  17.046\n",
      "  0.999    0.791 /   0.452  15.054 /  -0.393  15.064\n",
      "--------------------------------------------------------------------------------\n",
      "  0.999    0.409 /   0.647  12.892 /  -0.153  14.425\n",
      "  0.001    0.270 /   0.118   1.625 /   0.330   1.592\n",
      "--------------------------------------------------------------------------------\n",
      "                 /   0.671  12.892 /   0.008  13.916\n",
      "\n"
     ]
    }
   ],
   "source": [
    "with open('../outputs/results/baseline/xgb.gg.output.pkl','rb') as f:\n",
    "    outputs_xgb = pickle.load(f)\n",
    "    \n",
    "for key, output in outputs_xgb.items():\n",
    "    for i, out in output.items():\n",
    "        print('{:7.3f}  {:7.3f} / {:7.3f} {:7.3f} / {:7.3f} {:7.3f}'.format(*np.array(out['measure'])))\n",
    "    print('-'*80)\n",
    "    print('{:7.3f}  {:7.3f} / {:7.3f} {:7.3f} / {:7.3f} {:7.3f}'.format(*np.array([v['measure'] for v in output.values()]).mean(0)))\n",
    "    print('{:7.3f}  {:7.3f} / {:7.3f} {:7.3f} / {:7.3f} {:7.3f}'.format(*np.array([v['measure'] for v in output.values()]).std(0)))\n",
    "    print('-'*80)\n",
    "\n",
    "    x1 = np.hstack([v['valid'][0].reshape(-1) for v in output.values()])\n",
    "    y1 = np.hstack([v['valid'][1].reshape(-1) for v in output.values()])\n",
    "    x2 = output[0]['test'][0].reshape(-1)\n",
    "    y2 = np.mean([v['test'][1].reshape(-1) for v in output.values()], 0)\n",
    "    print('{:7s}  {:7s} / {:7.3f} {:7.3f} / {:7.3f} {:7.3f}'.format('','',r2_score(x1, y1), mean_absolute_error(x1, y1), r2_score(x2, y2), mean_absolute_error(x2,y2)))\n",
    "    print()"
   ]
  },
  {
   "cell_type": "code",
   "execution_count": 32,
   "metadata": {},
   "outputs": [
    {
     "data": {
      "image/png": "[encoded data removed]",
      "text/plain": [
       "<Figure size 800x400 with 2 Axes>"
      ]
     },
     "metadata": {},
     "output_type": "display_data"
    }
   ],
   "source": [
    "f, axs = plt.subplots(1,2,figsize=(8,4))\n",
    "plot_scatter(axs[0], x1 + 273.15,  y1 + 273.15, xrange = [210, 430], fmts=['{:5.3f}','{:5.3f}'], metrics=['R2','MAE'])\n",
    "plot_scatter(axs[1], x2 + 273.15,  y2 + 273.15, xrange = [310, 430], fmts=['{:5.3f}','{:5.3f}'], metrics=['R2','MAE'])\n",
    "#f.savefig('./figs/output.xgb.test.pdf')"
   ]
  },
  {
   "cell_type": "markdown",
   "metadata": {},
   "source": [
    "### SVR"
   ]
  },
  {
   "cell_type": "code",
   "execution_count": 20,
   "metadata": {},
   "outputs": [
    {
     "name": "stdout",
     "output_type": "stream",
     "text": [
      "Fold: 0 : graph      | poly       |   0.368 /  17.762 |   0.454 /  17.586 |  -1.040 /  18.684\n",
      "Fold: 1 : graph      | poly       |   0.412 /  17.484 |   0.400 /  18.504 |  -0.863 /  18.146\n",
      "Fold: 2 : graph      | poly       |   0.392 /  18.590 |   0.354 /  16.576 |  -1.136 /  19.591\n",
      "\u001b[91mData point [1.e+02 1.e+01 1.e-03] is not unique. 1 duplicates registered. Continuing ...\u001b[0m\n",
      "\u001b[91mData point [1.e+02 1.e+01 1.e-03] is not unique. 2 duplicates registered. Continuing ...\u001b[0m\n",
      "\u001b[91mData point [1.e+02 1.e+01 1.e-03] is not unique. 3 duplicates registered. Continuing ...\u001b[0m\n",
      "\u001b[91mData point [1.e+02 1.e+01 1.e-03] is not unique. 4 duplicates registered. Continuing ...\u001b[0m\n",
      "\u001b[91mData point [1.e+02 1.e+01 1.e-03] is not unique. 5 duplicates registered. Continuing ...\u001b[0m\n",
      "\u001b[91mData point [1.e+02 1.e+01 1.e-03] is not unique. 6 duplicates registered. Continuing ...\u001b[0m\n",
      "\u001b[91mData point [1.e+02 1.e+01 1.e-03] is not unique. 7 duplicates registered. Continuing ...\u001b[0m\n",
      "\u001b[91mData point [1.e+02 1.e+01 1.e-03] is not unique. 8 duplicates registered. Continuing ...\u001b[0m\n",
      "\u001b[91mData point [1.e+02 1.e+01 1.e-03] is not unique. 9 duplicates registered. Continuing ...\u001b[0m\n",
      "\u001b[91mData point [1.e+02 1.e+01 1.e-03] is not unique. 10 duplicates registered. Continuing ...\u001b[0m\n",
      "\u001b[91mData point [1.e+02 1.e+01 1.e-03] is not unique. 11 duplicates registered. Continuing ...\u001b[0m\n",
      "\u001b[91mData point [1.e+02 1.e+01 1.e-03] is not unique. 12 duplicates registered. Continuing ...\u001b[0m\n",
      "\u001b[91mData point [1.e+02 1.e+01 1.e-03] is not unique. 13 duplicates registered. Continuing ...\u001b[0m\n",
      "\u001b[91mData point [1.e+02 1.e+01 1.e-03] is not unique. 14 duplicates registered. Continuing ...\u001b[0m\n",
      "\u001b[91mData point [1.e+02 1.e+01 1.e-03] is not unique. 15 duplicates registered. Continuing ...\u001b[0m\n",
      "\u001b[91mData point [1.e+02 1.e+01 1.e-03] is not unique. 16 duplicates registered. Continuing ...\u001b[0m\n",
      "\u001b[91mData point [1.e+02 1.e+01 1.e-03] is not unique. 17 duplicates registered. Continuing ...\u001b[0m\n",
      "Fold: 3 : graph      | poly       |   0.405 /  16.845 |   0.395 /  21.019 |  -0.954 /  18.723\n",
      "Fold: 4 : graph      | poly       |   0.419 /  18.141 |   0.234 /  17.402 |  -1.119 /  19.210\n",
      "Fold: 0 : global     | linear     |   0.805 /   8.377 |   0.478 /  15.503 |  -0.017 /  13.253\n",
      "Fold: 1 : global     | linear     |   0.807 /   8.580 |   0.659 /  12.531 |  -0.019 /  13.144\n",
      "Fold: 2 : global     | poly       |   0.751 /  10.536 |   0.506 /  15.654 |   0.325 /  11.120\n",
      "Fold: 3 : global     | linear     |   0.815 /   8.669 |   0.728 /  12.121 |   0.149 /  12.287\n",
      "Fold: 4 : global     | linear     |   0.799 /  10.227 |   0.677 /  11.087 |   0.076 /  13.169\n",
      "Fold: 0 : both       | linear     |   0.803 /   8.355 |   0.479 /  15.434 |   0.014 /  12.988\n",
      "Fold: 1 : both       | linear     |   0.808 /   8.493 |   0.664 /  12.577 |   0.044 /  12.720\n",
      "Fold: 2 : both       | poly       |   0.749 /  10.591 |   0.516 /  15.444 |   0.343 /  10.977\n",
      "Fold: 3 : both       | linear     |   0.815 /   8.626 |   0.727 /  12.125 |   0.158 /  12.353\n",
      "Fold: 4 : both       | linear     |   0.795 /  10.250 |   0.685 /  10.976 |   0.114 /  12.839\n"
     ]
    }
   ],
   "source": [
    "outputs_svr = {}\n",
    "for ftyp, (feat, test_feat) in features.items():\n",
    "    output = {}\n",
    "    for i in range(5):\n",
    "        m_best = -50\n",
    "        train_idx, valid_idx = cv[i]\n",
    "        x_train = feat[train_idx]\n",
    "        x_valid = feat[valid_idx]\n",
    "        y_train = train_tgt[train_idx]\n",
    "        y_valid = train_tgt[valid_idx]\n",
    "        for kernel in ['linear']:\n",
    "            bo = BayesianOptimization(svr_obj_fnc1, pbounds={'c':[0.1,100], 'eps':[1e-3,10]},\n",
    "                                      random_state=100, verbose=0, allow_duplicate_points=True)\n",
    "            bo.maximize(init_points=10, n_iter=140)\n",
    "        for kernel in ['sigmoid','poly']:\n",
    "            bo = BayesianOptimization(svr_obj_fnc2, pbounds={'coef':[0,10], 'c':[0.1,100], 'eps':[1e-3,10]},\n",
    "                                      random_state=100, verbose=0, allow_duplicate_points=True)\n",
    "            bo.maximize(init_points=10, n_iter=140)\n",
    "        print('Fold: {} : {:10s} | {:10s} | {:7.3f} / {:7.3f} | {:7.3f} / {:7.3f} | {:7.3f} / {:7.3f}'.format(i, ftyp, best['params']['kernel'], *best['measure']))\n",
    "        output[i] = best.copy()\n",
    "    outputs_svr[ftyp] = output\n",
    "\n",
    "with open('../outputs/results/baseline/svr.gg.output.pkl','wb') as f:\n",
    "    pickle.dump(outputs_svr, f)"
   ]
  },
  {
   "cell_type": "code",
   "execution_count": 16,
   "metadata": {},
   "outputs": [
    {
     "name": "stdout",
     "output_type": "stream",
     "text": [
      "  0.368   17.762 /   0.454  17.586 /  -1.040  18.684\n",
      "  0.412   17.484 /   0.400  18.504 /  -0.863  18.146\n",
      "  0.392   18.590 /   0.354  16.576 /  -1.136  19.591\n",
      "  0.405   16.845 /   0.395  21.019 /  -0.954  18.723\n",
      "  0.419   18.141 /   0.234  17.402 /  -1.119  19.210\n",
      "--------------------------------------------------------------------------------\n",
      "  0.399   17.764 /   0.367  18.218 /  -1.022  18.871\n",
      "  0.018    0.591 /   0.074   1.529 /   0.103   0.493\n",
      "--------------------------------------------------------------------------------\n",
      "                 /   0.392  18.218 /  -1.014  18.797\n",
      "\n",
      "  0.805    8.377 /   0.478  15.503 /  -0.017  13.253\n",
      "  0.807    8.580 /   0.659  12.531 /  -0.019  13.144\n",
      "  0.751   10.536 /   0.506  15.654 /   0.325  11.120\n",
      "  0.815    8.669 /   0.728  12.121 /   0.149  12.287\n",
      "  0.799   10.227 /   0.677  11.087 /   0.076  13.169\n",
      "--------------------------------------------------------------------------------\n",
      "  0.795    9.278 /   0.610  13.379 /   0.103  12.595\n",
      "  0.023    0.911 /   0.099   1.857 /   0.128   0.817\n",
      "--------------------------------------------------------------------------------\n",
      "                 /   0.634  13.379 /   0.260  11.642\n",
      "\n",
      "  0.803    8.355 /   0.479  15.434 /   0.014  12.988\n",
      "  0.808    8.493 /   0.664  12.577 /   0.044  12.720\n",
      "  0.749   10.591 /   0.516  15.444 /   0.343  10.977\n",
      "  0.815    8.626 /   0.727  12.125 /   0.158  12.353\n",
      "  0.795   10.250 /   0.685  10.976 /   0.114  12.839\n",
      "--------------------------------------------------------------------------------\n",
      "  0.794    9.263 /   0.614  13.311 /   0.135  12.375\n",
      "  0.023    0.955 /   0.098   1.814 /   0.116   0.730\n",
      "--------------------------------------------------------------------------------\n",
      "                 /   0.638  13.311 /   0.284  11.460\n",
      "\n"
     ]
    }
   ],
   "source": [
    "with open('../outputs/results/baseline/svr.gg.output.pkl','rb') as f:\n",
    "    outputs_svr = pickle.load(f)\n",
    "    \n",
    "for key, output in outputs_svr.items():\n",
    "    for i, out in output.items():\n",
    "        print('{:7.3f}  {:7.3f} / {:7.3f} {:7.3f} / {:7.3f} {:7.3f}'.format(*np.array(out['measure'])))\n",
    "    print('-'*80)\n",
    "    print('{:7.3f}  {:7.3f} / {:7.3f} {:7.3f} / {:7.3f} {:7.3f}'.format(*np.array([v['measure'] for v in output.values()]).mean(0)))\n",
    "    print('{:7.3f}  {:7.3f} / {:7.3f} {:7.3f} / {:7.3f} {:7.3f}'.format(*np.array([v['measure'] for v in output.values()]).std(0)))\n",
    "    print('-'*80)\n",
    "\n",
    "    x1 = np.hstack([v['valid'][0].reshape(-1) for v in output.values()])\n",
    "    y1 = np.hstack([v['valid'][1].reshape(-1) for v in output.values()])\n",
    "    x2 = output[0]['test'][0].reshape(-1)\n",
    "    y2 = np.mean([v['test'][1].reshape(-1) for v in output.values()], 0)\n",
    "    print('{:7s}  {:7s} / {:7.3f} {:7.3f} / {:7.3f} {:7.3f}'.format('','',r2_score(x1, y1), mean_absolute_error(x1, y1), r2_score(x2, y2), mean_absolute_error(x2,y2)))\n",
    "    print()"
   ]
  },
  {
   "cell_type": "markdown",
   "metadata": {},
   "source": [
    "## RDKit fingreprints"
   ]
  },
  {
   "cell_type": "markdown",
   "metadata": {},
   "source": [
    "### Data load"
   ]
  },
  {
   "cell_type": "code",
   "execution_count": 33,
   "metadata": {},
   "outputs": [],
   "source": [
    "df_train = pd.read_csv('/home/jhyang/WORKSPACES/DATA/molecule/fpolymer/fpolymers_230823.tg.train.csv')\n",
    "df_test = pd.read_csv('/home/jhyang/WORKSPACES/DATA/molecule/fpolymer/fpolymers_230823.tg.test.csv')\n",
    "cv = CrossValidation(n_fold=5, n_data=df_train.shape[0], return_index=True)"
   ]
  },
  {
   "cell_type": "code",
   "execution_count": 34,
   "metadata": {},
   "outputs": [],
   "source": [
    "from rdkit import Chem\n",
    "from rdkit.Chem import AllChem, DataStructs\n",
    "\n",
    "col_sm = [f'SMILES_{x}' for x in 'ABCDE']\n",
    "col_fr = [f'FR_{x}' for x in 'ABCDE']\n",
    "\n",
    "all_smiles = np.unique(np.vstack([df_train[col_sm], df_test[col_sm]]).reshape(-1))\n",
    "fps = {}\n",
    "for s in all_smiles:\n",
    "    fps[s] = {}\n",
    "    m = Chem.MolFromSmiles(s)\n",
    "    arr = np.zeros((0,), dtype=np.int8)\n",
    "    fp1 = AllChem.GetMorganFingerprintAsBitVect(m, 2, nBits=256)\n",
    "    fp2 = AllChem.GetHashedAtomPairFingerprintAsBitVect(m, nBits=256)\n",
    "    fp3 = AllChem.GetMACCSKeysFingerprint(m)\n",
    "    for name, fp in zip(['morgan','pair','maccs'], [fp1, fp2, fp3]):\n",
    "        DataStructs.ConvertToNumpyArray(fp, arr)\n",
    "        fps[s][name] = arr.astype(float).copy()\n",
    "        \n",
    "def get_data(df, fptype='morgan'):\n",
    "    global col_sm, col_fr, fps\n",
    "    feats = []\n",
    "    for i, row in df.iterrows():\n",
    "        feat_fr = []\n",
    "        feat_orig = []\n",
    "        w = row[col_fr].sum()\n",
    "        for smiles, fr in zip(row[col_sm], row[col_fr]):\n",
    "            if fr == 0: continue\n",
    "            fp = fps[smiles][fptype].copy()\n",
    "            feat_orig.append(fp)\n",
    "            feat_fr.append(fp.astype(float) * fr/w)\n",
    "        feats.append(np.hstack([np.sum(feat_orig, 0), np.sum(feat_fr, 0)]))\n",
    "    return np.array(feats), df.TG.values.reshape(-1,1)"
   ]
  },
  {
   "cell_type": "markdown",
   "metadata": {},
   "source": [
    "### XGBoost"
   ]
  },
  {
   "cell_type": "code",
   "execution_count": 36,
   "metadata": {},
   "outputs": [
    {
     "name": "stdout",
     "output_type": "stream",
     "text": [
      "Fold: 0 : morgan     |   0.996 /  1.91 /  1.37 |   0.727 / 15.41 /  9.66 |   0.131 / 16.12 / 12.81 | \n",
      "Fold: 1 : morgan     |   0.971 /  5.19 /  3.59 |   0.701 / 16.78 / 11.19 |  -0.000 / 17.30 / 13.72 | \n",
      "Fold: 2 : morgan     |   0.966 /  5.76 /  4.30 |   0.793 / 13.24 /  9.68 |  -0.089 / 18.05 / 13.67 | \n",
      "Fold: 3 : morgan     |   0.998 /  1.46 /  1.02 |   0.717 / 15.09 / 11.11 |   0.210 / 15.37 / 12.74 | \n",
      "Fold: 4 : morgan     |   0.997 /  1.61 /  1.11 |   0.729 / 18.41 / 11.88 |  -0.024 / 17.50 / 14.25 | \n",
      "Fold: 0 : pair       |   0.998 /  1.50 /  0.94 |   0.793 / 13.41 /  9.38 |  -0.512 / 21.27 / 15.79 | \n",
      "Fold: 1 : pair       |   0.999 /  0.86 /  0.57 |   0.723 / 16.17 / 11.11 |  -0.357 / 20.14 / 14.70 | \n",
      "Fold: 2 : pair       |   0.998 /  1.22 /  0.79 |   0.719 / 15.40 / 11.05 |  -0.469 / 20.96 / 15.47 | \n",
      "Fold: 3 : pair       |   0.989 /  3.34 /  2.21 |   0.720 / 15.02 / 11.50 |  -0.396 / 20.43 / 15.18 | \n",
      "Fold: 4 : pair       |   0.997 /  1.50 /  1.08 |   0.733 / 18.28 / 12.11 |  -0.118 / 18.29 / 13.42 | \n",
      "Fold: 0 : maccs      |   0.964 /  5.87 /  2.66 |   0.753 / 14.65 / 10.82 |  -0.832 / 23.41 / 17.27 | \n",
      "Fold: 1 : maccs      |   0.957 /  6.36 /  3.20 |   0.620 / 18.91 / 12.82 |  -0.209 / 19.02 / 13.72 | \n",
      "Fold: 2 : maccs      |   0.950 /  6.99 /  4.04 |   0.820 / 12.33 /  9.13 |   0.077 / 16.62 / 12.86 | \n",
      "Fold: 3 : maccs      |   0.967 /  5.72 /  2.99 |   0.775 / 13.45 / 10.40 |  -0.494 / 21.14 / 15.58 | \n",
      "Fold: 4 : maccs      |   0.970 /  5.08 /  3.07 |   0.745 / 17.86 / 11.75 |  -0.287 / 19.62 / 14.58 | \n"
     ]
    }
   ],
   "source": [
    "outputs_xgb = {}\n",
    "for fp_type in ['morgan','pair','maccs']:\n",
    "    output = {}\n",
    "    train_feat, train_tgt = get_data(df_train, fptype=fp_type)\n",
    "    test_feat, test_tgt = get_data(df_test, fptype=fp_type)\n",
    "    for i in range(5):\n",
    "        train_idx, valid_idx = cv[i]\n",
    "        train_data = xgb.DMatrix(train_feat[train_idx], train_tgt[train_idx])\n",
    "        valid_data = xgb.DMatrix(train_feat[valid_idx], train_tgt[valid_idx])\n",
    "        test_data = xgb.DMatrix(test_feat, test_tgt)\n",
    "        m_best = -1e5\n",
    "        bo = BayesianOptimization(xgb_obj_fnc, pbounds={'eta':[1e-2,1], 'max_depth':[1,10]},\n",
    "                                  random_state=100, verbose=0)\n",
    "        bo.maximize(init_points=10, n_iter=140)\n",
    "        tt, tp = best['train']\n",
    "        vt, vp = best['valid']\n",
    "        ft, fp = best['test']\n",
    "        vals = [\n",
    "            r2_score(tt, tp), np.sqrt(mean_squared_error(tt, tp)), mean_absolute_error(tt, tp),\n",
    "            r2_score(vt, vp), np.sqrt(mean_squared_error(vt, vp)), mean_absolute_error(vt, vp),\n",
    "            r2_score(ft, fp), np.sqrt(mean_squared_error(ft, fp)), mean_absolute_error(ft, fp)\n",
    "        ]\n",
    "        print('Fold: {} : {:10s} | {:7.3f} / {:5.2f} / {:5.2f} | {:7.3f} / {:5.2f} / {:5.2f} | {:7.3f} / {:5.2f} / {:5.2f} | '.format(i, fp_type, *vals))\n",
    "        output[i] = best.copy()\n",
    "    outputs_xgb[fp_type] = output\n",
    "#    print('-'*70)\n",
    "#    print('AVG:     : {:7.3f} / {:5.2f} / {:5.2f} | {:7.3f} / {:5.2f} / {:5.2f} | {:7.3f} / {:5.2f} / {:5.2f} | '.format(*np.mean(vals, axis=0)))\n",
    "#    print('STD:     : {:7.3f} / {:5.2f} / {:5.2f} | {:7.3f} / {:5.2f} / {:5.2f} | {:7.3f} / {:5.2f} / {:5.2f} | '.format(*np.std(vals, axis=0)))\n",
    "with open('../outputs/results/baseline/xgb.fp.output.pkl','wb') as f:\n",
    "    pickle.dump(outputs_xgb, f)"
   ]
  },
  {
   "cell_type": "code",
   "execution_count": 38,
   "metadata": {},
   "outputs": [
    {
     "name": "stdout",
     "output_type": "stream",
     "text": [
      "  0.996    1.365 /   0.727   9.659 /   0.131  12.811\n",
      "  0.971    3.589 /   0.701  11.189 /  -0.000  13.724\n",
      "  0.966    4.299 /   0.793   9.683 /  -0.089  13.672\n",
      "  0.998    1.017 /   0.717  11.113 /   0.210  12.741\n",
      "  0.997    1.113 /   0.729  11.883 /  -0.024  14.245\n",
      "--------------------------------------------------------------------------------\n",
      "  0.986    2.277 /   0.733  10.705 /   0.045  13.439\n",
      "  0.014    1.384 /   0.031   0.886 /   0.109   0.577\n",
      "--------------------------------------------------------------------------------\n",
      "                 /   0.734  10.705 /   0.221  12.565\n",
      "\n",
      "  0.998    0.940 /   0.793   9.377 /  -0.512  15.793\n",
      "  0.999    0.567 /   0.723  11.108 /  -0.357  14.700\n",
      "  0.998    0.789 /   0.719  11.050 /  -0.469  15.465\n",
      "  0.989    2.210 /   0.720  11.498 /  -0.396  15.179\n",
      "  0.997    1.082 /   0.733  12.114 /  -0.118  13.425\n",
      "--------------------------------------------------------------------------------\n",
      "  0.996    1.118 /   0.737  11.029 /  -0.370  14.912\n",
      "  0.004    0.572 /   0.028   0.909 /   0.137   0.826\n",
      "--------------------------------------------------------------------------------\n",
      "                 /   0.739  11.029 /  -0.228  14.052\n",
      "\n",
      "  0.964    2.660 /   0.753  10.821 /  -0.832  17.270\n",
      "  0.957    3.204 /   0.620  12.816 /  -0.209  13.722\n",
      "  0.950    4.035 /   0.820   9.128 /   0.077  12.862\n",
      "  0.967    2.990 /   0.775  10.397 /  -0.494  15.582\n",
      "  0.970    3.070 /   0.745  11.751 /  -0.287  14.580\n",
      "--------------------------------------------------------------------------------\n",
      "  0.962    3.192 /   0.743  10.983 /  -0.349  14.804\n",
      "  0.007    0.458 /   0.067   1.246 /   0.303   1.528\n",
      "--------------------------------------------------------------------------------\n",
      "                 /   0.742  10.983 /  -0.149  13.923\n",
      "\n"
     ]
    }
   ],
   "source": [
    "with open('../outputs/results/baseline/xgb.fp.output.pkl','rb') as f:\n",
    "    outputs_xgb = pickle.load(f)\n",
    "    \n",
    "for key, output in outputs_xgb.items():\n",
    "    for i, out in output.items():\n",
    "        print('{:7.3f}  {:7.3f} / {:7.3f} {:7.3f} / {:7.3f} {:7.3f}'.format(*np.array(out['measure'])))\n",
    "    print('-'*80)\n",
    "    print('{:7.3f}  {:7.3f} / {:7.3f} {:7.3f} / {:7.3f} {:7.3f}'.format(*np.array([v['measure'] for v in output.values()]).mean(0)))\n",
    "    print('{:7.3f}  {:7.3f} / {:7.3f} {:7.3f} / {:7.3f} {:7.3f}'.format(*np.array([v['measure'] for v in output.values()]).std(0)))\n",
    "    print('-'*80)\n",
    "\n",
    "    x1 = np.hstack([v['valid'][0].reshape(-1) for v in output.values()])\n",
    "    y1 = np.hstack([v['valid'][1].reshape(-1) for v in output.values()])\n",
    "    x2 = output[0]['test'][0].reshape(-1)\n",
    "    y2 = np.mean([v['test'][1].reshape(-1) for v in output.values()], 0)\n",
    "    print('{:7s}  {:7s} / {:7.3f} {:7.3f} / {:7.3f} {:7.3f}'.format('','',r2_score(x1, y1), mean_absolute_error(x1, y1), r2_score(x2, y2), mean_absolute_error(x2,y2)))\n",
    "    print()    "
   ]
  },
  {
   "cell_type": "markdown",
   "metadata": {},
   "source": [
    "### SVR"
   ]
  },
  {
   "cell_type": "code",
   "execution_count": 19,
   "metadata": {},
   "outputs": [
    {
     "name": "stdout",
     "output_type": "stream",
     "text": [
      "Fold: 0 : morgan     | poly       |   0.901 /   3.656 |   0.756 /  10.198 |   0.467 /   9.864\n",
      "Fold: 1 : morgan     | poly       |   0.917 /   4.056 |   0.799 /   9.801 |   0.449 /   9.850\n",
      "Fold: 2 : morgan     | poly       |   0.911 /   3.913 |   0.721 /  11.218 |   0.283 /  11.063\n",
      "Fold: 3 : morgan     | poly       |   0.908 /   4.066 |   0.730 /  12.164 |   0.495 /   9.181\n",
      "Fold: 4 : morgan     | poly       |   0.893 /   4.157 |   0.753 /   9.421 |   0.353 /  10.974\n",
      "Fold: 0 : pair       | poly       |   0.936 /   2.584 |   0.682 /  12.281 |   0.515 /   9.588\n",
      "Fold: 1 : pair       | poly       |   0.923 /   2.718 |   0.812 /   9.938 |   0.591 /   8.402\n",
      "Fold: 2 : pair       | poly       |   0.915 /   3.795 |   0.584 /  12.184 |   0.046 /  11.730\n",
      "Fold: 3 : pair       | poly       |   0.932 /   2.890 |   0.753 /  12.089 |   0.492 /   9.151\n",
      "Fold: 4 : pair       | poly       |   0.934 /   2.618 |   0.710 /  10.413 |   0.287 /  10.877\n",
      "Fold: 0 : maccs      | poly       |   0.863 /   7.865 |   0.770 /  10.299 |   0.127 /  12.455\n",
      "Fold: 1 : maccs      | poly       |   0.883 /   6.079 |   0.786 /   9.709 |   0.281 /  11.660\n",
      "Fold: 2 : maccs      | poly       |   0.878 /   5.886 |   0.706 /  11.333 |   0.266 /  11.543\n",
      "Fold: 3 : maccs      | poly       |   0.902 /   4.727 |   0.696 /  13.647 |   0.399 /  10.460\n",
      "\u001b[91mData point [1.e+02 1.e-03] is not unique. 1 duplicates registered. Continuing ...\u001b[0m\n",
      "\u001b[91mData point [1.e+02 1.e-03] is not unique. 2 duplicates registered. Continuing ...\u001b[0m\n",
      "\u001b[91mData point [1.e+02 1.e-03] is not unique. 3 duplicates registered. Continuing ...\u001b[0m\n",
      "Fold: 4 : maccs      | poly       |   0.884 /   5.744 |   0.723 /  10.967 |   0.231 /  11.966\n"
     ]
    }
   ],
   "source": [
    "outputs_svr = {}\n",
    "for fp_type in ['morgan','pair','maccs']:\n",
    "    output = {}\n",
    "    train_feat, train_tgt = get_data(df_train, fptype=fp_type)\n",
    "    test_feat, test_tgt = get_data(df_test, fptype=fp_type)\n",
    "    for i in range(5):\n",
    "        m_best = -50\n",
    "        train_idx, valid_idx = cv[i]\n",
    "        x_train = train_feat[train_idx]\n",
    "        x_valid = train_feat[valid_idx]\n",
    "        y_train = train_tgt[train_idx]\n",
    "        y_valid = train_tgt[valid_idx]\n",
    "        for kernel in ['linear']:\n",
    "            bo = BayesianOptimization(svr_obj_fnc1, pbounds={'c':[0.1,100], 'eps':[1e-3,10]},\n",
    "                                      random_state=100, verbose=0, allow_duplicate_points=True)\n",
    "            bo.maximize(init_points=10, n_iter=140)\n",
    "        for kernel in ['sigmoid','poly']:\n",
    "            bo = BayesianOptimization(svr_obj_fnc2, pbounds={'coef':[0,10], 'c':[0.1,100], 'eps':[1e-3,10]},\n",
    "                                      random_state=100, verbose=0, allow_duplicate_points=True)\n",
    "            bo.maximize(init_points=10, n_iter=140)\n",
    "        print('Fold: {} : {:10s} | {:10s} | {:7.3f} / {:7.3f} | {:7.3f} / {:7.3f} | {:7.3f} / {:7.3f}'.format(i, fp_type, best['params']['kernel'], *best['measure']))\n",
    "        output[i] = best.copy()\n",
    "    outputs_svr[fp_type] = output\n",
    "\n",
    "with open('../outputs/results/baseline/svr.fp.output.pkl','wb') as f:\n",
    "    pickle.dump(outputs_svr, f)"
   ]
  },
  {
   "cell_type": "code",
   "execution_count": 24,
   "metadata": {},
   "outputs": [
    {
     "name": "stdout",
     "output_type": "stream",
     "text": [
      "  0.901    3.656 /   0.756  10.198 /   0.467   9.864\n",
      "  0.917    4.056 /   0.799   9.801 /   0.449   9.850\n",
      "  0.911    3.913 /   0.721  11.218 /   0.283  11.063\n",
      "  0.908    4.066 /   0.730  12.164 /   0.495   9.181\n",
      "  0.893    4.157 /   0.753   9.421 /   0.353  10.974\n",
      "--------------------------------------------------------------------------------\n",
      "  0.906    3.970 /   0.752  10.560 /   0.409  10.186\n",
      "  0.008    0.175 /   0.027   1.001 /   0.079   0.723\n",
      "--------------------------------------------------------------------------------\n",
      "                 /   0.758  10.560 /   0.490   9.527\n",
      "\n",
      "  0.936    2.584 /   0.682  12.281 /   0.515   9.588\n",
      "  0.923    2.718 /   0.812   9.938 /   0.591   8.402\n",
      "  0.915    3.795 /   0.584  12.184 /   0.046  11.730\n",
      "  0.932    2.890 /   0.753  12.089 /   0.492   9.151\n",
      "  0.934    2.618 /   0.710  10.413 /   0.287  10.877\n",
      "--------------------------------------------------------------------------------\n",
      "  0.928    2.921 /   0.708  11.381 /   0.386   9.950\n",
      "  0.008    0.450 /   0.076   0.998 /   0.198   1.199\n",
      "--------------------------------------------------------------------------------\n",
      "                 /   0.724  11.381 /   0.540   9.068\n",
      "\n",
      "  0.863    7.865 /   0.770  10.299 /   0.127  12.455\n",
      "  0.883    6.079 /   0.786   9.709 /   0.281  11.660\n",
      "  0.878    5.886 /   0.706  11.333 /   0.266  11.543\n",
      "  0.902    4.727 /   0.696  13.647 /   0.399  10.460\n",
      "  0.884    5.744 /   0.723  10.967 /   0.231  11.966\n",
      "--------------------------------------------------------------------------------\n",
      "  0.882    6.060 /   0.736  11.191 /   0.261  11.617\n",
      "  0.012    1.016 /   0.036   1.349 /   0.088   0.659\n",
      "--------------------------------------------------------------------------------\n",
      "                 /   0.741  11.191 /   0.346  11.185\n",
      "\n"
     ]
    }
   ],
   "source": [
    "with open('../outputs/results/baseline/svr.fp.output.pkl','rb') as f:\n",
    "    outputs_svr = pickle.load(f)\n",
    "    \n",
    "for key, output in outputs_svr.items():\n",
    "    for i, out in output.items():\n",
    "        print('{:7.3f}  {:7.3f} / {:7.3f} {:7.3f} / {:7.3f} {:7.3f}'.format(*np.array(out['measure'])))\n",
    "    print('-'*80)\n",
    "    print('{:7.3f}  {:7.3f} / {:7.3f} {:7.3f} / {:7.3f} {:7.3f}'.format(*np.array([v['measure'] for v in output.values()]).mean(0)))\n",
    "    print('{:7.3f}  {:7.3f} / {:7.3f} {:7.3f} / {:7.3f} {:7.3f}'.format(*np.array([v['measure'] for v in output.values()]).std(0)))\n",
    "    print('-'*80)\n",
    "\n",
    "    x1 = np.hstack([v['valid'][0].reshape(-1) for v in output.values()])\n",
    "    y1 = np.hstack([v['valid'][1].reshape(-1) for v in output.values()])\n",
    "    x2 = output[0]['test'][0].reshape(-1)\n",
    "    y2 = np.mean([v['test'][1].reshape(-1) for v in output.values()], 0)\n",
    "    print('{:7s}  {:7s} / {:7.3f} {:7.3f} / {:7.3f} {:7.3f}'.format('','',r2_score(x1, y1), mean_absolute_error(x1, y1), r2_score(x2, y2), mean_absolute_error(x2,y2)))\n",
    "    print()"
   ]
  },
  {
   "cell_type": "markdown",
   "metadata": {},
   "source": [
    "## GPR"
   ]
  },
  {
   "cell_type": "code",
   "execution_count": 50,
   "metadata": {},
   "outputs": [
    {
     "name": "stdout",
     "output_type": "stream",
     "text": [
      "Fold: 0 : morgan     |   0.988 /   1.503 |  -2.245 /  42.599 | -17.730 /  61.987\n",
      "Fold: 1 : morgan     |   0.990 /   0.883 |  -2.329 /  47.226 | -15.516 /  56.532\n",
      "Fold: 2 : morgan     |   0.987 /   2.305 |  -2.563 /  47.174 | -16.548 /  59.351\n",
      "Fold: 3 : morgan     |   0.986 /   1.799 |  -2.897 /  46.848 | -17.346 /  61.840\n",
      "Fold: 4 : morgan     |   0.999 /   0.414 |  -1.222 /  42.806 | -16.937 /  60.313\n",
      "Fold: 0 : pair       |   0.997 /   1.006 |  -2.913 /  50.571 | -19.550 /  68.205\n",
      "Fold: 1 : pair       |   0.996 /   0.691 |  -2.535 /  50.569 | -18.256 /  66.324\n",
      "Fold: 2 : pair       |   0.994 /   0.707 |  -3.179 /  52.738 | -18.886 /  67.672\n",
      "Fold: 3 : pair       |   0.989 /   1.900 |  -3.694 /  54.532 | -19.697 /  69.884\n",
      "Fold: 4 : pair       |   1.000 /   0.000 |  -1.489 /  47.404 | -19.007 /  67.323\n",
      "Fold: 0 : maccs      |   0.953 /   3.377 |  -0.814 /  26.572 | -13.463 /  50.336\n",
      "Fold: 1 : maccs      |   0.947 /   3.305 |  -1.277 /  35.053 | -12.486 /  47.070\n",
      "Fold: 2 : maccs      |   0.938 /   4.882 |  -1.406 /  33.061 | -13.025 /  48.740\n",
      "Fold: 3 : maccs      |   0.956 /   3.284 |  -1.220 /  31.336 | -14.215 /  52.054\n",
      "Fold: 4 : maccs      |   0.973 /   2.091 |  -0.461 /  28.467 | -13.470 /  50.822\n"
     ]
    }
   ],
   "source": [
    "outputs_gpr = {}\n",
    "for fp_type in ['morgan','pair','maccs']:\n",
    "    output = {}\n",
    "    train_feat, train_tgt = get_data(df_train, fptype=fp_type)\n",
    "    test_feat, test_tgt = get_data(df_test, fptype=fp_type)\n",
    "    for i in range(5):\n",
    "        m_best = -50\n",
    "        train_idx, valid_idx = cv[i]\n",
    "        x_train = train_feat[train_idx]\n",
    "        x_valid = train_feat[valid_idx]\n",
    "        y_train = train_tgt[train_idx]\n",
    "        y_valid = train_tgt[valid_idx]\n",
    "        bo = BayesianOptimization(gpr_obj_fnc, pbounds={'alpha':[1e-10,1], 'n':[0,20]},\n",
    "                                  random_state=100, verbose=0, allow_duplicate_points=True)\n",
    "        bo.maximize(init_points=10, n_iter=290)\n",
    "        print('Fold: {} : {:10s} | {:7.3f} / {:7.3f} | {:7.3f} / {:7.3f} | {:7.3f} / {:7.3f}'.format(i, fp_type, *best['measure']))\n",
    "        output[i] = best.copy()\n",
    "    outputs_svr[fp_type] = output\n",
    "\n",
    "with open('../outputs/results/baseline/gpr.fp.output.pkl','wb') as f:\n",
    "    pickle.dump(outputs_svr, f)"
   ]
  }
 ],
 "metadata": {
  "kernelspec": {
   "display_name": "poly",
   "language": "python",
   "name": "python3"
  },
  "language_info": {
   "codemirror_mode": {
    "name": "ipython",
    "version": 3
   },
   "file_extension": ".py",
   "mimetype": "text/x-python",
   "name": "python",
   "nbconvert_exporter": "python",
   "pygments_lexer": "ipython3",
   "version": "3.9.12"
  },
  "orig_nbformat": 4
 },
 "nbformat": 4,
 "nbformat_minor": 2
}
