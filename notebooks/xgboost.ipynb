{
 "cells": [
  {
   "cell_type": "code",
   "execution_count": 5,
   "metadata": {},
   "outputs": [
    {
     "name": "stderr",
     "output_type": "stream",
     "text": [
      "/home/jhyang/anaconda3/envs/poly/lib/python3.9/site-packages/xgboost/compat.py:36: FutureWarning: pandas.Int64Index is deprecated and will be removed from pandas in a future version. Use pandas.Index with the appropriate dtype instead.\n",
      "  from pandas import MultiIndex, Int64Index\n"
     ]
    }
   ],
   "source": [
    "import tqdm, torch, json, pickle, os, gc, time\n",
    "import pandas as pd\n",
    "import numpy as np\n",
    "from collections import OrderedDict\n",
    "from src.utils.dataset import FPolyDatasetV2, collate_fn\n",
    "from src.utils.data import CrossValidation\n",
    "from src.utils.visualization import plot_scatter\n",
    "from torch_geometric.nn import global_add_pool, global_max_pool, global_mean_pool\n",
    "import xgboost as xgb\n",
    "from sklearn.metrics import r2_score, mean_absolute_error, mean_squared_error\n",
    "import matplotlib.pyplot as plt\n",
    "from bayes_opt import BayesianOptimization\n",
    "import seaborn as sns\n",
    "from pathlib import Path\n"
   ]
  },
  {
   "cell_type": "code",
   "execution_count": 6,
   "metadata": {},
   "outputs": [
    {
     "name": "stdout",
     "output_type": "stream",
     "text": [
      "  Overwriting attribute : norm\n",
      "  Overwriting attribute : data\n",
      "  Overwriting attribute : atom_feat_name\n",
      "  Overwriting attribute : bond_feat_name\n",
      "  Overwriting attribute : mol_feat_name\n",
      "  Overwriting attribute : target_desc\n",
      "  Overwriting attribute : tag\n",
      "  Overwriting attribute : cache_fn\n",
      "  Setting new attribute : unique_data\n",
      "  Overwriting attribute : norm\n",
      "  Overwriting attribute : data\n",
      "  Overwriting attribute : atom_feat_name\n",
      "  Overwriting attribute : bond_feat_name\n",
      "  Overwriting attribute : mol_feat_name\n",
      "  Overwriting attribute : target_desc\n",
      "  Overwriting attribute : tag\n",
      "  Overwriting attribute : cache_fn\n",
      "  Setting new attribute : unique_data\n"
     ]
    }
   ],
   "source": [
    "train_ds = FPolyDatasetV2()\n",
    "train_ds.generate('./data/fpolymers_221123.train.csv')\n",
    "test_ds = FPolyDatasetV2()\n",
    "test_ds.generate('./data/fpolymers_221123.test.csv')\n",
    "cv = CrossValidation(n_fold=5, n_data=len(train_ds), return_index=True)"
   ]
  },
  {
   "cell_type": "code",
   "execution_count": 8,
   "metadata": {},
   "outputs": [],
   "source": [
    "def vector_from_atom_feat(dataset, index=None):\n",
    "    if index is None:\n",
    "        feat, tgt, ids = collate_fn(dataset, 'cpu')\n",
    "    else:\n",
    "        feat, tgt, ids = collate_fn(dataset[index], 'cpu')\n",
    "    \n",
    "    fs = []\n",
    "    for f in feat:\n",
    "        b = f['data_idx']\n",
    "        w = f['weight']\n",
    "        h = global_mean_pool(f['atom_feat'], f['graph_idx'])\n",
    "        fs.append(\n",
    "            global_mean_pool(torch.hstack([h * w, h]), b).numpy()\n",
    "        )\n",
    "    f = np.sum(fs, axis=0)\n",
    "    return f, tgt.numpy(), ids\n",
    "\n",
    "def vector_from_mol_feat(dataset, index=None):\n",
    "    if index is None:\n",
    "        feat, tgt, ids = collate_fn(dataset, 'cpu')\n",
    "    else:\n",
    "        feat, tgt, ids = collate_fn(dataset[index], 'cpu')\n",
    "    \n",
    "    fs = []\n",
    "    for f in feat:\n",
    "        b = f['data_idx']\n",
    "        w = f['weight']\n",
    "        h = f['mol_feat']\n",
    "        fs.append(\n",
    "            global_mean_pool(torch.hstack([h * w, h]), b).numpy()\n",
    "        )\n",
    "    f = np.sum(fs, axis=0)\n",
    "    return f, tgt.numpy(), ids\n",
    "\n",
    "def obj_fnc(eta, max_depth):\n",
    "    global train_data, valid_data, test_data, m_best, best\n",
    "    params = {\n",
    "        'max_depth':int(np.round(max_depth)),\n",
    "        'min_child_weight': 1,\n",
    "        'eta':eta,\n",
    "        # Other parameters\n",
    "        'objective':'reg:squarederror',\n",
    "        'eval_metric':'mae'\n",
    "    }\n",
    "    booster = xgb.train(params, dtrain=train_data, num_boost_round=50, early_stopping_rounds=5, \n",
    "                        evals=[(valid_data, 'valid')], verbose_eval=False)\n",
    "    tt = train_data.get_label()\n",
    "    vt = valid_data.get_label()\n",
    "    tp = booster.predict(train_data, iteration_range=(0, booster.best_iteration+1))\n",
    "    vp = booster.predict(valid_data, iteration_range=(0, booster.best_iteration+1))\n",
    "    train_r2, train_mae = r2_score(tt, tp), mean_absolute_error(tt, tp)\n",
    "    valid_r2, valid_mae = r2_score(vt, vp), mean_absolute_error(vt, vp)\n",
    "    m = train_r2 + valid_r2 - 0.02 * (train_mae + valid_mae)\n",
    "    if m > m_best:\n",
    "        ft = test_data.get_label()\n",
    "        fp = booster.predict(test_data, iteration_range=(0, booster.best_iteration+1))\n",
    "        m_best = m\n",
    "        best = {'params':params, 'train':[tt, tp], 'valid':[vt, vp], 'test':[ft, fp]}\n",
    "    return m"
   ]
  },
  {
   "cell_type": "code",
   "execution_count": 9,
   "metadata": {},
   "outputs": [],
   "source": [
    "train_af, train_tgt, train_ids = vector_from_atom_feat(train_ds)\n",
    "test_af, test_tgt, test_ids = vector_from_atom_feat(test_ds)\n",
    "\n",
    "train_mf, train_tgt, train_ids = vector_from_mol_feat(train_ds)\n",
    "test_mf, test_tgt, test_ids = vector_from_mol_feat(test_ds)\n",
    "\n",
    "features = {\n",
    "    'graph':[train_af, test_af],\n",
    "    'global':[train_mf, test_mf],\n",
    "    'both':[np.hstack([train_af, train_mf]), np.hstack([test_af, test_mf])],\n",
    "}"
   ]
  },
  {
   "cell_type": "code",
   "execution_count": 17,
   "metadata": {},
   "outputs": [
    {
     "name": "stdout",
     "output_type": "stream",
     "text": [
      "Fold: 0 :   0.931 /  7.80 /  5.82 |   0.577 / 20.32 / 14.71 |  -0.422 / 21.01 / 15.17 | \n",
      "Fold: 0 :   0.989 /  3.12 /  2.03 |   0.555 / 20.85 / 15.68 |   0.020 / 17.45 / 12.81 | \n",
      "Fold: 0 :   0.979 /  4.36 /  3.20 |   0.523 / 21.57 / 15.29 |   0.240 / 15.36 / 10.92 | \n",
      "Fold: 1 :   0.992 /  2.75 /  0.84 |   0.447 / 20.79 / 16.08 |  -0.397 / 20.83 / 15.67 | \n",
      "Fold: 1 :   0.998 /  1.27 /  0.51 |   0.682 / 15.76 / 11.28 |   0.180 / 15.96 / 11.78 | \n",
      "Fold: 1 :   0.998 /  1.19 /  0.37 |   0.696 / 15.41 / 10.99 |   0.153 / 16.22 / 11.37 | \n",
      "Fold: 2 :   0.987 /  3.50 /  1.58 |   0.386 / 23.47 / 16.81 |  -0.091 / 18.40 / 13.97 | \n",
      "Fold: 2 :   0.996 /  1.97 /  1.19 |   0.498 / 21.22 / 15.98 |   0.341 / 14.31 / 11.42 | \n",
      "Fold: 2 :   0.997 /  1.77 /  1.05 |   0.497 / 21.24 / 15.79 |   0.312 / 14.62 / 11.46 | \n",
      "Fold: 3 :   0.996 /  1.97 /  0.31 |   0.437 / 20.76 / 15.84 |  -0.621 / 22.44 / 17.39 | \n",
      "Fold: 3 :   0.998 /  1.30 /  0.25 |   0.656 / 16.23 / 11.60 |   0.064 / 17.05 / 12.14 | \n",
      "Fold: 3 :   0.998 /  1.28 /  0.13 |   0.681 / 15.61 / 11.72 |   0.130 / 16.44 / 12.12 | \n",
      "Fold: 4 :   0.987 /  3.40 /  1.43 |   0.384 / 25.61 / 19.17 |  -0.138 / 18.80 / 13.98 | \n",
      "Fold: 4 :   0.990 /  3.00 /  1.93 |   0.587 / 20.97 / 14.46 |   0.273 / 15.02 / 11.36 | \n",
      "Fold: 4 :   0.992 /  2.59 /  1.67 |   0.676 / 18.58 / 13.35 |   0.131 / 16.43 / 12.40 | \n"
     ]
    }
   ],
   "source": [
    "\n",
    "outputs = {}\n",
    "for i in range(5):\n",
    "    output = {}\n",
    "    train_idx, valid_idx = cv[i]\n",
    "    for feature_type, (train_feat, test_feat) in features.items():\n",
    "        train_data = xgb.DMatrix(train_feat[train_idx], train_tgt[train_idx])\n",
    "        valid_data = xgb.DMatrix(train_feat[valid_idx], train_tgt[valid_idx])\n",
    "        test_data = xgb.DMatrix(test_feat, test_tgt)\n",
    "        m_best = -1e5\n",
    "        bo = BayesianOptimization(obj_fnc, pbounds={'eta':[1e-2,1], 'max_depth':[1,20]},\n",
    "                                  random_state=100, verbose=0)\n",
    "        bo.maximize(init_points=10, n_iter=140)\n",
    "        tt, tp = best['train']\n",
    "        vt, vp = best['valid']\n",
    "        ft, fp = best['test']\n",
    "        vals = [\n",
    "            r2_score(tt, tp), np.sqrt(mean_squared_error(tt, tp)), mean_absolute_error(tt, tp),\n",
    "            r2_score(vt, vp), np.sqrt(mean_squared_error(vt, vp)), mean_absolute_error(vt, vp),\n",
    "            r2_score(ft, fp), np.sqrt(mean_squared_error(ft, fp)), mean_absolute_error(ft, fp)\n",
    "        ]\n",
    "        print('Fold: {} : {:7.3f} / {:5.2f} / {:5.2f} | {:7.3f} / {:5.2f} / {:5.2f} | {:7.3f} / {:5.2f} / {:5.2f} | '.format(i, *vals))\n",
    "        output[feature_type] = best.copy(), vals\n",
    "    outputs[i] = output\n",
    "#    print('-'*70)\n",
    "#    print('AVG:     : {:7.3f} / {:5.2f} / {:5.2f} | {:7.3f} / {:5.2f} / {:5.2f} | {:7.3f} / {:5.2f} / {:5.2f} | '.format(*np.mean(vals, axis=0)))\n",
    "#    print('STD:     : {:7.3f} / {:5.2f} / {:5.2f} | {:7.3f} / {:5.2f} / {:5.2f} | {:7.3f} / {:5.2f} / {:5.2f} | '.format(*np.std(vals, axis=0)))\n"
   ]
  },
  {
   "cell_type": "code",
   "execution_count": 18,
   "metadata": {},
   "outputs": [],
   "source": [
    "with open('xgb.output.new.pkl','wb') as f:\n",
    "    pickle.dump(outputs, f)"
   ]
  },
  {
   "cell_type": "code",
   "execution_count": 3,
   "metadata": {},
   "outputs": [],
   "source": [
    "import pickle\n",
    "import numpy as np\n",
    "with open('xgb.output.new.pkl','rb') as f:\n",
    "    out = pickle.load(f)"
   ]
  },
  {
   "cell_type": "code",
   "execution_count": 4,
   "metadata": {},
   "outputs": [
    {
     "data": {
      "text/plain": [
       "array([[ 0.9313911 ,  0.99849307,  0.99576522,  0.99828544,  0.99225426],\n",
       "       [ 7.80236864,  1.19150865,  1.96508801,  1.27512348,  2.59004521],\n",
       "       [ 5.81562853,  0.37259755,  1.1887188 ,  0.13314261,  1.66947973],\n",
       "       [ 0.57710348,  0.69640202,  0.49778907,  0.68143741,  0.67564359],\n",
       "       [20.3159771 , 15.40592575, 21.22265434, 15.61379242, 18.5825367 ],\n",
       "       [14.70554447, 10.99380589, 15.98180389, 11.71816826, 13.35301208],\n",
       "       [-0.42159659,  0.1534201 ,  0.34088057,  0.13005657,  0.13118625],\n",
       "       [21.01244164, 16.21520042, 14.30771828, 16.43742752, 16.42675209],\n",
       "       [15.17410374, 11.37425518, 11.42078018, 12.12417126, 12.39547062]])"
      ]
     },
     "execution_count": 4,
     "metadata": {},
     "output_type": "execute_result"
    }
   ],
   "source": [
    "mapper = {0:'graph',1:'global',2:'both'}\n",
    "best_output = [vv[mapper[np.argmax([v[1][3] for v in vv.values()])]] for vv in out.values()]\n",
    "np.array([v[1] for v in best_output]).T\n"
   ]
  },
  {
   "cell_type": "code",
   "execution_count": 10,
   "metadata": {},
   "outputs": [
    {
     "data": {
      "text/plain": [
       "(0.3311809439062332, 10.788781)"
      ]
     },
     "execution_count": 10,
     "metadata": {},
     "output_type": "execute_result"
    }
   ],
   "source": [
    "r2_score(test_tgt, np.mean([v[0]['test'][1] for v in best_output], 0)), mean_absolute_error(test_tgt, np.mean([v[0]['test'][1] for v in best_output], 0))"
   ]
  },
  {
   "cell_type": "code",
   "execution_count": 107,
   "metadata": {},
   "outputs": [
    {
     "data": {
      "image/png": "[encoded data removed]",
      "text/plain": [
       "<Figure size 500x500 with 1 Axes>"
      ]
     },
     "metadata": {},
     "output_type": "display_data"
    }
   ],
   "source": [
    "f, ax = plt.subplots(1,1,figsize=(5,5))\n",
    "plot_scatter(ax, test_tgt.reshape(-1) + 273.15,  np.mean([v[0]['test'][1] for v in best_output], 0) + 273.15, xrange = [310, 430])\n",
    "f.savefig('./output.xgb.test.pdf')"
   ]
  },
  {
   "cell_type": "code",
   "execution_count": 90,
   "metadata": {},
   "outputs": [
    {
     "name": "stdout",
     "output_type": "stream",
     "text": [
      "Fold: 0 :   0.274 / 25.37 / 18.99 |   0.391 / 24.39 / 19.51 |  -0.320 / 20.25 / 14.70 | \n",
      "Fold: 0 :   0.439 / 22.32 / 15.73 |   0.462 / 22.92 / 17.59 |  -0.063 / 18.17 / 14.39 | \n",
      "Fold: 0 :   0.323 / 24.52 / 17.61 |   0.266 / 26.76 / 20.79 |  -0.987 / 24.84 / 20.21 | \n",
      "Fold: 0 :  -0.000 / 29.79 / 23.66 |  -0.046 / 31.95 / 26.33 |  -3.008 / 35.28 / 30.56 | \n",
      "Fold: 0 :   0.759 / 14.62 /  8.16 |   0.504 / 22.00 / 15.27 |  -0.523 / 21.75 / 14.23 | \n",
      "Fold: 0 :   0.763 / 14.51 /  7.65 |   0.403 / 24.14 / 16.56 |   0.533 / 12.05 /  8.73 | \n",
      "Fold: 0 :   0.605 / 18.72 / 11.38 |   0.439 / 23.40 / 17.14 |   0.221 / 15.56 / 11.42 | \n",
      "Fold: 0 : -55.875 / 224.64 / 120.26 | -70.387 / 263.95 / 120.90 | -202.236 / 251.24 / 132.13 | \n",
      "Fold: 0 :   0.759 / 14.62 /  8.16 |   0.505 / 21.99 / 15.22 |  -0.536 / 21.84 / 14.24 | \n",
      "Fold: 0 :   0.776 / 14.11 /  7.23 |   0.341 / 25.36 / 17.02 |   0.468 / 12.86 /  9.01 | \n",
      "Fold: 0 :   0.601 / 18.83 / 11.45 |   0.440 / 23.39 / 17.04 |   0.193 / 15.83 / 11.64 | \n",
      "Fold: 0 : -18.601 / 131.88 / 75.79 | -23.152 / 153.53 / 77.66 | -68.209 / 146.61 / 82.57 | \n",
      "Fold: 1 :   0.332 / 25.09 / 18.77 |   0.256 / 24.11 / 19.44 |  -0.183 / 19.16 / 14.33 | \n",
      "Fold: 1 :   0.505 / 21.59 / 15.25 |   0.203 / 24.97 / 19.29 |   0.074 / 16.96 / 13.70 | \n",
      "Fold: 1 :   0.391 / 23.95 / 17.57 |   0.111 / 26.37 / 21.04 |  -0.922 / 24.43 / 19.28 | \n",
      "Fold: 1 :  -0.001 / 30.70 / 24.72 |  -0.023 / 28.29 / 22.15 |  -2.441 / 32.69 / 27.53 | \n",
      "Fold: 1 :   0.784 / 14.27 /  8.49 |  -0.116 / 29.53 / 16.06 |  -0.471 / 21.37 / 14.62 | \n",
      "Fold: 1 :   0.775 / 14.58 /  8.18 |   0.537 / 19.02 / 13.75 |   0.413 / 13.50 / 10.02 | \n",
      "Fold: 1 :   0.613 / 19.09 / 12.15 |   0.416 / 21.36 / 15.64 |   0.282 / 14.94 / 10.63 | \n",
      "Fold: 1 : -48.098 / 215.07 / 109.55 | -62.566 / 222.92 / 135.68 | -173.975 / 233.12 / 122.58 | \n",
      "Fold: 1 :   0.784 / 14.28 /  8.49 |  -0.127 / 29.68 / 16.10 |  -0.559 / 22.00 / 14.78 | \n",
      "Fold: 1 :   0.795 / 13.89 /  7.78 |   0.539 / 18.99 / 13.87 |   0.172 / 16.04 / 10.22 | \n",
      "Fold: 1 :   0.613 / 19.08 / 12.16 |   0.407 / 21.53 / 15.72 |   0.274 / 15.01 / 10.80 | \n",
      "Fold: 1 : -15.280 / 123.85 / 69.09 | -20.109 / 128.46 / 82.60 | -56.687 / 133.85 / 75.92 | \n",
      "Fold: 2 :   0.318 / 24.94 / 18.50 |   0.194 / 26.89 / 21.30 |  -0.335 / 20.37 / 15.02 | \n",
      "Fold: 2 :   0.478 / 21.81 / 15.13 |   0.346 / 24.23 / 18.29 |   0.132 / 16.42 / 12.29 | \n",
      "Fold: 2 :   0.361 / 24.14 / 17.64 |   0.245 / 26.01 / 19.36 |  -0.753 / 23.33 / 17.72 | \n",
      "Fold: 2 :  -0.003 / 30.24 / 23.93 |  -0.041 / 30.55 / 25.43 |  -3.194 / 36.09 / 31.50 | \n",
      "Fold: 2 :   0.790 / 13.83 /  7.89 |   0.495 / 21.28 / 16.04 |  -0.497 / 21.56 / 14.48 | \n",
      "Fold: 2 :   0.772 / 14.41 /  7.82 |   0.580 / 19.41 / 14.83 |   0.539 / 11.97 /  8.86 | \n",
      "Fold: 2 :   0.612 / 18.80 / 11.42 |   0.377 / 23.63 / 16.50 |   0.339 / 14.33 / 10.31 | \n",
      "Fold: 2 : -52.327 / 220.52 / 112.82 | -58.625 / 231.24 / 130.29 | -183.860 / 239.61 / 128.66 | \n",
      "Fold: 2 :   0.789 / 13.87 /  7.90 |   0.484 / 21.52 / 16.09 |  -0.639 / 22.57 / 14.91 | \n",
      "Fold: 2 :   0.786 / 13.97 /  7.36 |   0.547 / 20.16 / 15.44 |   0.430 / 13.31 /  9.06 | \n",
      "Fold: 2 :   0.610 / 18.86 / 11.50 |   0.380 / 23.58 / 16.52 |   0.330 / 14.43 / 10.46 | \n",
      "Fold: 2 : -17.198 / 128.82 / 71.19 | -19.042 / 134.07 / 81.40 | -61.921 / 139.79 / 81.78 | \n",
      "Fold: 3 :   0.307 / 25.63 / 19.74 |   0.391 / 21.60 / 15.44 |  -0.242 / 19.64 / 14.59 | \n",
      "Fold: 3 :   0.459 / 22.65 / 15.85 |   0.378 / 21.82 / 16.24 |   0.047 / 17.20 / 13.43 | \n",
      "Fold: 3 :   0.334 / 25.13 / 18.63 |   0.424 / 20.99 / 15.01 |  -0.824 / 23.80 / 18.92 | \n",
      "Fold: 3 :  -0.000 / 30.80 / 24.96 |  -0.002 / 27.69 / 21.05 |  -2.654 / 33.69 / 28.71 | \n",
      "Fold: 3 :   0.766 / 14.89 /  8.52 |   0.545 / 18.66 / 13.21 |  -0.567 / 22.06 / 15.28 | \n",
      "Fold: 3 :   0.752 / 15.33 /  8.43 |   0.469 / 20.16 / 13.51 |   0.372 / 13.96 / 10.85 | \n",
      "Fold: 3 :   0.595 / 19.60 / 12.08 |   0.567 / 18.20 / 13.38 |   0.211 / 15.66 / 11.91 | \n",
      "Fold: 3 : -53.098 / 226.50 / 119.94 | -76.364 / 243.32 / 120.26 | -195.812 / 247.24 / 128.73 | \n",
      "Fold: 3 :   0.767 / 14.86 /  8.49 |   0.538 / 18.80 / 13.28 |  -0.571 / 22.09 / 15.28 | \n",
      "Fold: 3 :   0.765 / 14.94 /  7.93 |   0.457 / 20.39 / 13.48 |   0.104 / 16.69 / 11.71 | \n",
      "Fold: 3 :   0.592 / 19.68 / 12.13 |   0.559 / 18.38 / 13.49 |   0.194 / 15.83 / 12.07 | \n",
      "Fold: 3 : -17.173 / 131.28 / 75.40 | -24.358 / 139.31 / 73.95 | -64.272 / 142.38 / 79.51 | \n",
      "Fold: 4 :   0.367 / 23.41 / 17.72 |   0.092 / 31.09 / 24.23 |  -0.236 / 19.59 / 14.18 | \n",
      "Fold: 4 :   0.500 / 20.81 / 14.87 |   0.243 / 28.38 / 20.92 |   0.168 / 16.08 / 12.61 | \n",
      "Fold: 4 :   0.376 / 23.25 / 16.96 |   0.171 / 29.72 / 22.20 |  -0.568 / 22.07 / 17.02 | \n",
      "Fold: 4 :  -0.000 / 29.44 / 23.52 |  -0.031 / 33.13 / 26.85 |  -2.590 / 33.39 / 28.36 | \n",
      "Fold: 4 :   0.792 / 13.43 /  7.70 |   0.564 / 21.55 / 16.46 |  -0.585 / 22.19 / 13.02 | \n",
      "Fold: 4 :   0.779 / 13.84 /  7.59 |   0.325 / 26.80 / 17.86 |   0.321 / 14.52 / 10.14 | \n",
      "Fold: 4 :   0.628 / 17.96 / 11.48 |   0.179 / 29.57 / 19.89 |   0.300 / 14.75 / 11.49 | \n",
      "Fold: 4 : -80.952 / 266.41 / 139.35 | -28.283 / 176.56 / 92.37 | -232.984 / 269.58 / 141.05 | \n",
      "Fold: 4 :   0.789 / 13.50 /  7.69 |   0.560 / 21.63 / 16.50 |  -0.754 / 23.34 / 13.19 | \n",
      "Fold: 4 :   0.797 / 13.25 /  7.20 |   0.341 / 26.48 / 17.78 |   0.092 / 16.79 / 10.11 | \n",
      "Fold: 4 :   0.622 / 18.10 / 11.57 |   0.177 / 29.61 / 19.91 |   0.276 / 14.99 / 11.69 | \n",
      "Fold: 4 : -26.038 / 153.02 / 85.57 |  -9.763 / 107.04 / 60.93 | -76.262 / 154.91 / 85.59 | \n"
     ]
    }
   ],
   "source": [
    "from sklearn.svm import SVR\n",
    "bests = [None]*5\n",
    "preds = [None]*5\n",
    "for i in range(5):\n",
    "    record = -50\n",
    "    train_idx, valid_idx = cv[i]\n",
    "    for ftyp, (feat, x_test) in features.items():\n",
    "        x_train = feat[train_idx]\n",
    "        x_valid = feat[valid_idx]\n",
    "        y_train = train_tgt[train_idx]\n",
    "        y_valid = train_tgt[valid_idx]\n",
    "        for kernel in ['linear', 'poly', 'rbf', 'sigmoid']:\n",
    "            svr = SVR(kernel=kernel, C=100, gamma='auto')\n",
    "            svr.fit(x_train, y_train.reshape(-1))\n",
    "            p_train = svr.predict(x_train)\n",
    "            p_valid = svr.predict(x_valid)\n",
    "            p_test = svr.predict(x_test)\n",
    "\n",
    "            vals = [\n",
    "                r2_score(y_train, p_train), np.sqrt(mean_squared_error(y_train, p_train)), mean_absolute_error(y_train, p_train),\n",
    "                r2_score(y_valid, p_valid), np.sqrt(mean_squared_error(y_valid, p_valid)), mean_absolute_error(y_valid, p_valid),\n",
    "                r2_score(test_tgt, p_test), np.sqrt(mean_squared_error(test_tgt, p_test)), mean_absolute_error(test_tgt, p_test)\n",
    "            ]\n",
    "            print('Fold: {} : {:7.3f} / {:5.2f} / {:5.2f} | {:7.3f} / {:5.2f} / {:5.2f} | {:7.3f} / {:5.2f} / {:5.2f} | '.format(i, *vals))\n",
    "            if vals[3] > record:\n",
    "                bests[i] = vals\n",
    "                preds[i] = [p_train, p_valid, p_test]\n",
    "                record = vals[3]\n"
   ]
  },
  {
   "cell_type": "code",
   "execution_count": 91,
   "metadata": {},
   "outputs": [
    {
     "data": {
      "text/plain": [
       "array([[ 0.75927078,  0.79518696,  0.77219819,  0.59480799,  0.7916499 ],\n",
       "       [14.61506122, 13.89088351, 14.41268727, 19.60229293, 13.43299045],\n",
       "       [ 8.15717256,  7.77878169,  7.81817259, 12.0808108 ,  7.70470081],\n",
       "       [ 0.5047368 ,  0.53881086,  0.58003276,  0.56717783,  0.56390375],\n",
       "       [21.98561793, 18.98794247, 19.40726405, 18.19976435, 21.54690632],\n",
       "       [15.2174544 , 13.86704203, 14.82957991, 13.37873667, 16.4638844 ],\n",
       "       [-0.53607653,  0.17158943,  0.53902011,  0.21077993, -0.58492596],\n",
       "       [21.84211881, 16.0402508 , 11.96545803, 15.65623744, 22.18670597],\n",
       "       [14.23896412, 10.21502932,  8.85987103, 11.91443095, 13.01575012]])"
      ]
     },
     "execution_count": 91,
     "metadata": {},
     "output_type": "execute_result"
    }
   ],
   "source": [
    "np.array(bests).T"
   ]
  },
  {
   "cell_type": "code",
   "execution_count": 100,
   "metadata": {},
   "outputs": [
    {
     "data": {
      "text/plain": [
       "(0.5229110654315048, 8.855135538458915)"
      ]
     },
     "execution_count": 100,
     "metadata": {},
     "output_type": "execute_result"
    }
   ],
   "source": [
    "pe = np.mean([p[2] for p in preds], 0)\n",
    "r2_score(test_tgt.reshape(-1), pe), mean_absolute_error(test_tgt.reshape(-1), pe)"
   ]
  },
  {
   "cell_type": "code",
   "execution_count": 104,
   "metadata": {},
   "outputs": [
    {
     "data": {
      "text/plain": [
       "8.855135538458915"
      ]
     },
     "execution_count": 104,
     "metadata": {},
     "output_type": "execute_result"
    }
   ],
   "source": [
    "np.abs(test_tgt.reshape(-1) - pe).mean()"
   ]
  },
  {
   "cell_type": "code",
   "execution_count": 106,
   "metadata": {},
   "outputs": [
    {
     "data": {
      "image/png": "[encoded data removed]",
      "text/plain": [
       "<Figure size 500x500 with 1 Axes>"
      ]
     },
     "metadata": {},
     "output_type": "display_data"
    }
   ],
   "source": [
    "f, ax = plt.subplots(1,1,figsize=(5,5))\n",
    "plot_scatter(ax, test_tgt.reshape(-1) + 273.15,  pe + 273.15, xrange = [310, 430])\n"
   ]
  }
 ],
 "metadata": {
  "kernelspec": {
   "display_name": "poly",
   "language": "python",
   "name": "python3"
  },
  "language_info": {
   "codemirror_mode": {
    "name": "ipython",
    "version": 3
   },
   "file_extension": ".py",
   "mimetype": "text/x-python",
   "name": "python",
   "nbconvert_exporter": "python",
   "pygments_lexer": "ipython3",
   "version": "3.9.12"
  },
  "orig_nbformat": 4
 },
 "nbformat": 4,
 "nbformat_minor": 2
}
