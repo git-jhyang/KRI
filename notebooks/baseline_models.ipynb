{
 "cells": [
  {
   "cell_type": "code",
   "execution_count": 1,
   "metadata": {},
   "outputs": [
    {
     "name": "stderr",
     "output_type": "stream",
     "text": [
      "/home/jhyang/anaconda3/envs/poly/lib/python3.9/site-packages/xgboost/compat.py:36: FutureWarning: pandas.Int64Index is deprecated and will be removed from pandas in a future version. Use pandas.Index with the appropriate dtype instead.\n",
      "  from pandas import MultiIndex, Int64Index\n"
     ]
    }
   ],
   "source": [
    "import tqdm, torch, json, pickle, os, gc, time, sys\n",
    "sys.path.append('../')\n",
    "import pandas as pd\n",
    "import numpy as np\n",
    "from collections import OrderedDict\n",
    "from src.utils.dataset import FPolyDatasetV2, collate_fn\n",
    "from src.utils.data import CrossValidation\n",
    "from src.utils.visualization import plot_scatter\n",
    "from torch_geometric.nn import global_add_pool, global_max_pool, global_mean_pool\n",
    "import xgboost as xgb\n",
    "from sklearn.metrics import r2_score, mean_absolute_error, mean_squared_error\n",
    "import matplotlib.pyplot as plt\n",
    "from bayes_opt import BayesianOptimization\n",
    "import seaborn as sns\n",
    "from pathlib import Path\n",
    "from sklearn.svm import SVR\n",
    "\n",
    "# XGBoost and SVR "
   ]
  },
  {
   "cell_type": "markdown",
   "metadata": {},
   "source": [
    " - objective functions"
   ]
  },
  {
   "cell_type": "code",
   "execution_count": 2,
   "metadata": {},
   "outputs": [],
   "source": [
    "def xgb_obj_fnc(eta, max_depth):\n",
    "    global train_data, valid_data, test_data, m_best, best\n",
    "    params = {\n",
    "        'max_depth':int(np.round(max_depth)),\n",
    "        'min_child_weight': 1,\n",
    "        'eta':eta,\n",
    "        # Other parameters\n",
    "        'objective':'reg:squarederror',\n",
    "        'eval_metric':'mae'\n",
    "    }\n",
    "    booster = xgb.train(params, dtrain=train_data, num_boost_round=50, early_stopping_rounds=5, \n",
    "                        evals=[(valid_data, 'valid')], verbose_eval=False)\n",
    "    y_train = train_data.get_label()\n",
    "    y_valid = valid_data.get_label()\n",
    "    p_train = booster.predict(train_data, iteration_range=(0, booster.best_iteration+1))\n",
    "    p_valid = booster.predict(valid_data, iteration_range=(0, booster.best_iteration+1))\n",
    "    train_r2, train_mae = r2_score(y_train, p_train), mean_absolute_error(y_train, p_train)\n",
    "    valid_r2, valid_mae = r2_score(y_valid, p_valid), mean_absolute_error(y_valid, p_valid)\n",
    "    m = train_r2 + valid_r2 - 0.02 * (train_mae + valid_mae)\n",
    "    if m > m_best:\n",
    "        m_best = m\n",
    "        y_test = test_data.get_label()\n",
    "        p_test = booster.predict(test_data, iteration_range=(0, booster.best_iteration+1))\n",
    "        test_r2, test_mae = r2_score(test_tgt, p_test), mean_absolute_error(test_tgt, p_test)        \n",
    "        best = {'params':params, 'train':[y_train, p_train], 'valid':[y_valid, p_valid], 'test':[y_test, p_test],\n",
    "                'measure':[train_r2, train_mae, valid_r2, valid_mae, test_r2, test_mae]}\n",
    "    return m\n",
    "\n",
    "def svr_obj_fnc1(c, eps):\n",
    "    global x_train, x_valid, y_train, y_valid, test_feat, test_tgt, kernel, m_best, best\n",
    "    params = {'kernel':kernel, 'C':c, 'epsilon':eps}\n",
    "    svr = SVR(**params)\n",
    "    svr.fit(x_train, y_train.reshape(-1))\n",
    "    p_train = svr.predict(x_train)\n",
    "    p_valid = svr.predict(x_valid)\n",
    "    train_r2, train_mae = r2_score(y_train, p_train), mean_absolute_error(y_train, p_train)\n",
    "    valid_r2, valid_mae = r2_score(y_valid, p_valid), mean_absolute_error(y_valid, p_valid)\n",
    "    m = train_r2 + valid_r2 - 0.02 * (train_mae + valid_mae)\n",
    "    if m > m_best:\n",
    "        m_best = m\n",
    "        p_test = svr.predict(test_feat)\n",
    "        test_r2, test_mae = r2_score(test_tgt, p_test), mean_absolute_error(test_tgt, p_test)\n",
    "        best = {'params':params, 'train':[y_train, p_train], 'valid':[y_valid, p_valid], 'test':[test_tgt, p_test], \n",
    "                'measure':[train_r2, train_mae, valid_r2, valid_mae, test_r2,  test_mae]}\n",
    "    return m\n",
    "\n",
    "def svr_obj_fnc2(coef, c, eps):\n",
    "    global kernel, x_train, x_valid, y_train, y_valid, test_feat, test_tgt, m_best, best\n",
    "    params = {'kernel':kernel, 'coef0':coef, 'C':c, 'epsilon':eps}\n",
    "    svr = SVR(**params)\n",
    "    svr.fit(x_train, y_train.reshape(-1))\n",
    "    p_train = svr.predict(x_train)\n",
    "    p_valid = svr.predict(x_valid)\n",
    "    train_r2, train_mae = r2_score(y_train, p_train), mean_absolute_error(y_train, p_train)\n",
    "    valid_r2, valid_mae = r2_score(y_valid, p_valid), mean_absolute_error(y_valid, p_valid)\n",
    "    m = train_r2 + valid_r2 - 0.02 * (train_mae + valid_mae)\n",
    "    if m > m_best:\n",
    "        m_best = m\n",
    "        p_test = svr.predict(test_feat)\n",
    "        test_r2, test_mae = r2_score(test_tgt, p_test), mean_absolute_error(test_tgt, p_test)\n",
    "        best = {'params':params, 'train':[y_train, p_train], 'valid':[y_valid, p_valid], 'test':[test_tgt, p_test], \n",
    "                'measure':[train_r2, train_mae, valid_r2, valid_mae, test_r2, test_mae]}\n",
    "    return m"
   ]
  },
  {
   "cell_type": "markdown",
   "metadata": {},
   "source": [
    "## graph and global state features"
   ]
  },
  {
   "cell_type": "markdown",
   "metadata": {},
   "source": [
    "### data load"
   ]
  },
  {
   "cell_type": "code",
   "execution_count": 3,
   "metadata": {},
   "outputs": [
    {
     "name": "stdout",
     "output_type": "stream",
     "text": [
      "  Overwriting attribute : norm\n",
      "  Overwriting attribute : data\n",
      "  Overwriting attribute : atom_feat_name\n",
      "  Overwriting attribute : bond_feat_name\n",
      "  Overwriting attribute : mol_feat_name\n",
      "  Overwriting attribute : target_desc\n",
      "  Overwriting attribute : tag\n",
      "  Overwriting attribute : cache_fn\n",
      "  Setting new attribute : unique_data\n",
      "  Overwriting attribute : norm\n",
      "  Overwriting attribute : blacklist\n",
      "  Overwriting attribute : data\n",
      "  Overwriting attribute : atom_feat_name\n",
      "  Overwriting attribute : bond_feat_name\n",
      "  Overwriting attribute : mol_feat_name\n",
      "  Overwriting attribute : target_desc\n",
      "  Overwriting attribute : tag\n",
      "  Overwriting attribute : cache_fn\n",
      "  Setting new attribute : unique_data\n"
     ]
    }
   ],
   "source": [
    "train_ds = FPolyDatasetV2()#blacklist=json.load(open('../blacklist.json')))\n",
    "train_ds.generate('/home/jhyang/WORKSPACES/DATA/molecule/fpolymer/fpolymers_230823.tg.train.csv')\n",
    "test_ds = FPolyDatasetV2()#blacklist=json.load(open('../blacklist.json')))\n",
    "test_ds.generate('/home/jhyang/WORKSPACES/DATA/molecule/fpolymer/fpolymers_230823.tg.test.csv')\n",
    "cv = CrossValidation(n_fold=5, n_data=len(train_ds), return_index=True)"
   ]
  },
  {
   "cell_type": "code",
   "execution_count": 4,
   "metadata": {},
   "outputs": [],
   "source": [
    "def vector_from_atom_feat(dataset, index=None):\n",
    "    if index is None:\n",
    "        feat, tgt, ids = collate_fn(dataset, 'cpu')\n",
    "    else:\n",
    "        feat, tgt, ids = collate_fn(dataset[index], 'cpu')\n",
    "    \n",
    "    fs = []\n",
    "    for f in feat:\n",
    "        b = f['data_idx']\n",
    "        w = f['weight']\n",
    "        h = global_mean_pool(f['atom_feat'], f['graph_idx'])\n",
    "        fs.append(\n",
    "            global_mean_pool(torch.hstack([h * w, h]), b).numpy()\n",
    "        )\n",
    "    f = np.sum(fs, axis=0)\n",
    "    return f, tgt.numpy(), ids\n",
    "\n",
    "def vector_from_mol_feat(dataset, index=None):\n",
    "    if index is None:\n",
    "        feat, tgt, ids = collate_fn(dataset, 'cpu')\n",
    "    else:\n",
    "        feat, tgt, ids = collate_fn(dataset[index], 'cpu')\n",
    "    \n",
    "    fs = []\n",
    "    for f in feat:\n",
    "        b = f['data_idx']\n",
    "        w = f['weight']\n",
    "        h = f['mol_feat']\n",
    "        fs.append(\n",
    "            global_mean_pool(torch.hstack([h * w, h]), b).numpy()\n",
    "        )\n",
    "    f = np.sum(fs, axis=0)\n",
    "    return f, tgt.numpy(), ids"
   ]
  },
  {
   "cell_type": "code",
   "execution_count": 5,
   "metadata": {},
   "outputs": [],
   "source": [
    "train_af, train_tgt, train_ids = vector_from_atom_feat(train_ds)\n",
    "test_af, test_tgt, test_ids = vector_from_atom_feat(test_ds)\n",
    "\n",
    "train_mf, train_tgt, train_ids = vector_from_mol_feat(train_ds)\n",
    "test_mf, test_tgt, test_ids = vector_from_mol_feat(test_ds)\n",
    "\n",
    "features = {\n",
    "    'graph':[train_af, test_af],\n",
    "    'global':[train_mf, test_mf],\n",
    "    'both':[np.hstack([train_af, train_mf]), np.hstack([test_af, test_mf])],\n",
    "}"
   ]
  },
  {
   "cell_type": "markdown",
   "metadata": {},
   "source": [
    "### xgboost"
   ]
  },
  {
   "cell_type": "code",
   "execution_count": 36,
   "metadata": {},
   "outputs": [
    {
     "name": "stdout",
     "output_type": "stream",
     "text": [
      "Fold: 0 : graph      |   0.986 /  0.91 |   0.536 / 13.05 |  -1.125 / 19.32 | \n",
      "Fold: 1 : graph      |   0.994 /  0.83 |   0.502 / 16.13 |  -0.523 / 16.15 | \n",
      "Fold: 2 : graph      |   0.960 /  4.43 |   0.289 / 17.32 |  -0.583 / 16.59 | \n",
      "Fold: 3 : graph      |   0.992 /  0.50 |   0.369 / 19.75 |  -0.574 / 16.45 | \n",
      "Fold: 4 : graph      |   0.990 /  0.79 |   0.419 / 15.67 |  -0.392 / 15.48 | \n",
      "Fold: 0 : global     |   0.999 /  0.58 |   0.716 / 11.76 |   0.080 / 13.26 | \n",
      "Fold: 1 : global     |   1.000 /  0.09 |   0.755 / 11.25 |  -0.193 / 15.19 | \n",
      "Fold: 2 : global     |   0.994 /  1.71 |   0.519 / 14.31 |  -0.161 / 15.73 | \n",
      "Fold: 3 : global     |   1.000 /  0.01 |   0.665 / 13.02 |   0.112 / 13.31 | \n",
      "Fold: 4 : global     |   1.000 /  0.01 |   0.555 / 12.70 |  -0.028 / 13.72 | \n",
      "Fold: 0 : both       |   0.999 /  0.44 |   0.737 / 11.19 |  -0.040 / 14.09 | \n",
      "Fold: 1 : both       |   1.000 /  0.00 |   0.748 / 11.42 |  -0.111 / 15.00 | \n",
      "Fold: 2 : both       |   0.947 /  5.42 |   0.632 / 13.80 |  -0.010 / 14.39 | \n",
      "Fold: 3 : both       |   1.000 /  0.09 |   0.673 / 14.29 |   0.024 / 13.75 | \n",
      "Fold: 4 : both       |   1.000 /  0.00 |   0.536 / 13.74 |  -0.224 / 16.17 | \n"
     ]
    }
   ],
   "source": [
    "outputs = {}\n",
    "for feature_type, (train_feat, test_feat) in features.items():\n",
    "    output = {}\n",
    "    for i in range(5):\n",
    "        train_idx, valid_idx = cv[i]\n",
    "        train_data = xgb.DMatrix(train_feat[train_idx], train_tgt[train_idx])\n",
    "        valid_data = xgb.DMatrix(train_feat[valid_idx], train_tgt[valid_idx])\n",
    "        test_data = xgb.DMatrix(test_feat, test_tgt)\n",
    "        m_best = -1e5\n",
    "        bo = BayesianOptimization(xgb_obj_fnc, pbounds={'eta':[1e-2,1], 'max_depth':[1,20]},\n",
    "                                  random_state=100, verbose=0)\n",
    "        bo.maximize(init_points=10, n_iter=140)\n",
    "        print('Fold: {} : {:10s} | {:7.3f} / {:5.2f} | {:7.3f} / {:5.2f} | {:7.3f} / {:5.2f} | '.format(i, feature_type, *best['measure']))\n",
    "        output[i] = best.copy()\n",
    "    outputs[feature_type] = output\n",
    "#    print('-'*70)\n",
    "#    print('AVG:     : {:7.3f} / {:5.2f} / {:5.2f} | {:7.3f} / {:5.2f} / {:5.2f} | {:7.3f} / {:5.2f} / {:5.2f} | '.format(*np.mean(vals, axis=0)))\n",
    "#    print('STD:     : {:7.3f} / {:5.2f} / {:5.2f} | {:7.3f} / {:5.2f} / {:5.2f} | {:7.3f} / {:5.2f} / {:5.2f} | '.format(*np.std(vals, axis=0)))\n",
    "with open('../outputs/results/xgb.gg.output.231212.pkl','wb') as f:\n",
    "    pickle.dump(outputs, f)"
   ]
  },
  {
   "cell_type": "code",
   "execution_count": 19,
   "metadata": {},
   "outputs": [
    {
     "name": "stdout",
     "output_type": "stream",
     "text": [
      "  0.986    0.909 /   0.536  13.048 /  -1.125  19.322\n",
      "  0.994    0.833 /   0.502  16.132 /  -0.523  16.155\n",
      "  0.960    4.426 /   0.289  17.323 /  -0.583  16.589\n",
      "  0.992    0.504 /   0.369  19.750 /  -0.574  16.446\n",
      "  0.990    0.789 /   0.419  15.673 /  -0.392  15.480\n",
      "--------------------------------------------------------------------------------\n",
      "  0.985    1.492 /   0.423  16.385 /  -0.640  16.798\n",
      "  0.012    1.473 /   0.090   2.187 /   0.252   1.318\n",
      "--------------------------------------------------------------------------------\n",
      "                 /   0.435  16.385 /  -0.396  15.105\n",
      "\n",
      "  0.999    0.581 /   0.716  11.757 /   0.080  13.257\n",
      "  1.000    0.086 /   0.755  11.249 /  -0.193  15.191\n",
      "  0.994    1.705 /   0.519  14.306 /  -0.161  15.730\n",
      "  1.000    0.010 /   0.665  13.018 /   0.112  13.308\n",
      "  1.000    0.006 /   0.555  12.699 /  -0.028  13.717\n",
      "--------------------------------------------------------------------------------\n",
      "  0.999    0.478 /   0.642  12.606 /  -0.038  14.241\n",
      "  0.002    0.650 /   0.091   1.061 /   0.123   1.023\n",
      "--------------------------------------------------------------------------------\n",
      "                 /   0.658  12.606 /   0.171  12.924\n",
      "\n",
      "  0.999    0.443 /   0.737  11.189 /  -0.040  14.087\n",
      "  1.000    0.000 /   0.748  11.422 /  -0.111  15.000\n",
      "  0.947    5.421 /   0.632  13.800 /  -0.010  14.389\n",
      "  1.000    0.088 /   0.673  14.290 /   0.024  13.755\n",
      "  1.000    0.000 /   0.536  13.743 /  -0.224  16.170\n",
      "--------------------------------------------------------------------------------\n",
      "  0.989    1.191 /   0.665  12.889 /  -0.072  14.680\n",
      "  0.021    2.121 /   0.078   1.309 /   0.088   0.850\n",
      "--------------------------------------------------------------------------------\n",
      "                 /   0.680  12.889 /   0.122  13.512\n",
      "\n"
     ]
    }
   ],
   "source": [
    "with open('../outputs/results/xgb.gg.output.231212.pkl','rb') as f:\n",
    "    outputs_xgb = pickle.load(f)\n",
    "    \n",
    "for key, output in outputs_xgb.items():\n",
    "    for i, out in output.items():\n",
    "        print('{:7.3f}  {:7.3f} / {:7.3f} {:7.3f} / {:7.3f} {:7.3f}'.format(*np.array(out['measure'])))\n",
    "    print('-'*80)\n",
    "    print('{:7.3f}  {:7.3f} / {:7.3f} {:7.3f} / {:7.3f} {:7.3f}'.format(*np.array([v['measure'] for v in output.values()]).mean(0)))\n",
    "    print('{:7.3f}  {:7.3f} / {:7.3f} {:7.3f} / {:7.3f} {:7.3f}'.format(*np.array([v['measure'] for v in output.values()]).std(0)))\n",
    "    print('-'*80)\n",
    "\n",
    "    x1 = np.hstack([v['valid'][0].reshape(-1) for v in output.values()])\n",
    "    y1 = np.hstack([v['valid'][1].reshape(-1) for v in output.values()])\n",
    "    x2 = output[0]['test'][0].reshape(-1)\n",
    "    y2 = np.mean([v['test'][1].reshape(-1) for v in output.values()], 0)\n",
    "    print('{:7s}  {:7s} / {:7.3f} {:7.3f} / {:7.3f} {:7.3f}'.format('','',r2_score(x1, y1), mean_absolute_error(x1, y1), r2_score(x2, y2), mean_absolute_error(x2,y2)))\n",
    "    print()"
   ]
  },
  {
   "cell_type": "code",
   "execution_count": 13,
   "metadata": {},
   "outputs": [
    {
     "data": {
      "image/png": "[encoded data removed]",
      "text/plain": [
       "<Figure size 800x400 with 2 Axes>"
      ]
     },
     "metadata": {},
     "output_type": "display_data"
    }
   ],
   "source": [
    "f, axs = plt.subplots(1,2,figsize=(8,4))\n",
    "plot_scatter(axs[0], x1 + 273.15,  y1 + 273.15, xrange = [210, 430], fmts=['{:5.3f}','{:5.3f}'], metrics=['R2','MAE'])\n",
    "plot_scatter(axs[1], x2 + 273.15,  y2 + 273.15, xrange = [310, 430], fmts=['{:5.3f}','{:5.3f}'], metrics=['R2','MAE'])\n",
    "#f.savefig('./figs/output.xgb.test.pdf')"
   ]
  },
  {
   "cell_type": "markdown",
   "metadata": {},
   "source": [
    "### SVR"
   ]
  },
  {
   "cell_type": "code",
   "execution_count": 20,
   "metadata": {},
   "outputs": [
    {
     "name": "stdout",
     "output_type": "stream",
     "text": [
      "Fold: 0 : graph      | poly       |   0.368 /  17.762 |   0.454 /  17.586 |  -1.040 /  18.684\n",
      "Fold: 1 : graph      | poly       |   0.412 /  17.484 |   0.400 /  18.504 |  -0.863 /  18.146\n",
      "Fold: 2 : graph      | poly       |   0.392 /  18.590 |   0.354 /  16.576 |  -1.136 /  19.591\n",
      "\u001b[91mData point [1.e+02 1.e+01 1.e-03] is not unique. 1 duplicates registered. Continuing ...\u001b[0m\n",
      "\u001b[91mData point [1.e+02 1.e+01 1.e-03] is not unique. 2 duplicates registered. Continuing ...\u001b[0m\n",
      "\u001b[91mData point [1.e+02 1.e+01 1.e-03] is not unique. 3 duplicates registered. Continuing ...\u001b[0m\n",
      "\u001b[91mData point [1.e+02 1.e+01 1.e-03] is not unique. 4 duplicates registered. Continuing ...\u001b[0m\n",
      "\u001b[91mData point [1.e+02 1.e+01 1.e-03] is not unique. 5 duplicates registered. Continuing ...\u001b[0m\n",
      "\u001b[91mData point [1.e+02 1.e+01 1.e-03] is not unique. 6 duplicates registered. Continuing ...\u001b[0m\n",
      "\u001b[91mData point [1.e+02 1.e+01 1.e-03] is not unique. 7 duplicates registered. Continuing ...\u001b[0m\n",
      "\u001b[91mData point [1.e+02 1.e+01 1.e-03] is not unique. 8 duplicates registered. Continuing ...\u001b[0m\n",
      "\u001b[91mData point [1.e+02 1.e+01 1.e-03] is not unique. 9 duplicates registered. Continuing ...\u001b[0m\n",
      "\u001b[91mData point [1.e+02 1.e+01 1.e-03] is not unique. 10 duplicates registered. Continuing ...\u001b[0m\n",
      "\u001b[91mData point [1.e+02 1.e+01 1.e-03] is not unique. 11 duplicates registered. Continuing ...\u001b[0m\n",
      "\u001b[91mData point [1.e+02 1.e+01 1.e-03] is not unique. 12 duplicates registered. Continuing ...\u001b[0m\n",
      "\u001b[91mData point [1.e+02 1.e+01 1.e-03] is not unique. 13 duplicates registered. Continuing ...\u001b[0m\n",
      "\u001b[91mData point [1.e+02 1.e+01 1.e-03] is not unique. 14 duplicates registered. Continuing ...\u001b[0m\n",
      "\u001b[91mData point [1.e+02 1.e+01 1.e-03] is not unique. 15 duplicates registered. Continuing ...\u001b[0m\n",
      "\u001b[91mData point [1.e+02 1.e+01 1.e-03] is not unique. 16 duplicates registered. Continuing ...\u001b[0m\n",
      "\u001b[91mData point [1.e+02 1.e+01 1.e-03] is not unique. 17 duplicates registered. Continuing ...\u001b[0m\n",
      "Fold: 3 : graph      | poly       |   0.405 /  16.845 |   0.395 /  21.019 |  -0.954 /  18.723\n",
      "Fold: 4 : graph      | poly       |   0.419 /  18.141 |   0.234 /  17.402 |  -1.119 /  19.210\n",
      "Fold: 0 : global     | linear     |   0.805 /   8.377 |   0.478 /  15.503 |  -0.017 /  13.253\n",
      "Fold: 1 : global     | linear     |   0.807 /   8.580 |   0.659 /  12.531 |  -0.019 /  13.144\n",
      "Fold: 2 : global     | poly       |   0.751 /  10.536 |   0.506 /  15.654 |   0.325 /  11.120\n",
      "Fold: 3 : global     | linear     |   0.815 /   8.669 |   0.728 /  12.121 |   0.149 /  12.287\n",
      "Fold: 4 : global     | linear     |   0.799 /  10.227 |   0.677 /  11.087 |   0.076 /  13.169\n",
      "Fold: 0 : both       | linear     |   0.803 /   8.355 |   0.479 /  15.434 |   0.014 /  12.988\n",
      "Fold: 1 : both       | linear     |   0.808 /   8.493 |   0.664 /  12.577 |   0.044 /  12.720\n",
      "Fold: 2 : both       | poly       |   0.749 /  10.591 |   0.516 /  15.444 |   0.343 /  10.977\n",
      "Fold: 3 : both       | linear     |   0.815 /   8.626 |   0.727 /  12.125 |   0.158 /  12.353\n",
      "Fold: 4 : both       | linear     |   0.795 /  10.250 |   0.685 /  10.976 |   0.114 /  12.839\n"
     ]
    }
   ],
   "source": [
    "outputs_svr = {}\n",
    "for ftyp, (feat, test_feat) in features.items():\n",
    "    output = {}\n",
    "    for i in range(5):\n",
    "        m_best = -50\n",
    "        train_idx, valid_idx = cv[i]\n",
    "        x_train = feat[train_idx]\n",
    "        x_valid = feat[valid_idx]\n",
    "        y_train = train_tgt[train_idx]\n",
    "        y_valid = train_tgt[valid_idx]\n",
    "        for kernel in ['linear']:\n",
    "            bo = BayesianOptimization(svr_obj_fnc1, pbounds={'c':[0.1,100], 'eps':[1e-3,10]},\n",
    "                                      random_state=100, verbose=0, allow_duplicate_points=True)\n",
    "            bo.maximize(init_points=10, n_iter=140)\n",
    "        for kernel in ['sigmoid','poly']:\n",
    "            bo = BayesianOptimization(svr_obj_fnc2, pbounds={'coef':[0,10], 'c':[0.1,100], 'eps':[1e-3,10]},\n",
    "                                      random_state=100, verbose=0, allow_duplicate_points=True)\n",
    "            bo.maximize(init_points=10, n_iter=140)\n",
    "        print('Fold: {} : {:10s} | {:10s} | {:7.3f} / {:7.3f} | {:7.3f} / {:7.3f} | {:7.3f} / {:7.3f}'.format(i, ftyp, best['params']['kernel'], *best['measure']))\n",
    "        output[i] = best.copy()\n",
    "    outputs_svr[ftyp] = output\n",
    "\n",
    "with open('../outputs/results/svr.gg.output.231212.pkl','wb') as f:\n",
    "    pickle.dump(outputs_svr, f)"
   ]
  },
  {
   "cell_type": "code",
   "execution_count": 16,
   "metadata": {},
   "outputs": [
    {
     "name": "stdout",
     "output_type": "stream",
     "text": [
      "  0.368   17.762 /   0.454  17.586 /  -1.040  18.684\n",
      "  0.412   17.484 /   0.400  18.504 /  -0.863  18.146\n",
      "  0.392   18.590 /   0.354  16.576 /  -1.136  19.591\n",
      "  0.405   16.845 /   0.395  21.019 /  -0.954  18.723\n",
      "  0.419   18.141 /   0.234  17.402 /  -1.119  19.210\n",
      "--------------------------------------------------------------------------------\n",
      "  0.399   17.764 /   0.367  18.218 /  -1.022  18.871\n",
      "  0.018    0.591 /   0.074   1.529 /   0.103   0.493\n",
      "--------------------------------------------------------------------------------\n",
      "                 /   0.392  18.218 /  -1.014  18.797\n",
      "\n",
      "  0.805    8.377 /   0.478  15.503 /  -0.017  13.253\n",
      "  0.807    8.580 /   0.659  12.531 /  -0.019  13.144\n",
      "  0.751   10.536 /   0.506  15.654 /   0.325  11.120\n",
      "  0.815    8.669 /   0.728  12.121 /   0.149  12.287\n",
      "  0.799   10.227 /   0.677  11.087 /   0.076  13.169\n",
      "--------------------------------------------------------------------------------\n",
      "  0.795    9.278 /   0.610  13.379 /   0.103  12.595\n",
      "  0.023    0.911 /   0.099   1.857 /   0.128   0.817\n",
      "--------------------------------------------------------------------------------\n",
      "                 /   0.634  13.379 /   0.260  11.642\n",
      "\n",
      "  0.803    8.355 /   0.479  15.434 /   0.014  12.988\n",
      "  0.808    8.493 /   0.664  12.577 /   0.044  12.720\n",
      "  0.749   10.591 /   0.516  15.444 /   0.343  10.977\n",
      "  0.815    8.626 /   0.727  12.125 /   0.158  12.353\n",
      "  0.795   10.250 /   0.685  10.976 /   0.114  12.839\n",
      "--------------------------------------------------------------------------------\n",
      "  0.794    9.263 /   0.614  13.311 /   0.135  12.375\n",
      "  0.023    0.955 /   0.098   1.814 /   0.116   0.730\n",
      "--------------------------------------------------------------------------------\n",
      "                 /   0.638  13.311 /   0.284  11.460\n",
      "\n"
     ]
    }
   ],
   "source": [
    "with open('../outputs/results/svr.gg.output.231212.pkl','rb') as f:\n",
    "    outputs_svr = pickle.load(f)\n",
    "    \n",
    "for key, output in outputs_svr.items():\n",
    "    for i, out in output.items():\n",
    "        print('{:7.3f}  {:7.3f} / {:7.3f} {:7.3f} / {:7.3f} {:7.3f}'.format(*np.array(out['measure'])))\n",
    "    print('-'*80)\n",
    "    print('{:7.3f}  {:7.3f} / {:7.3f} {:7.3f} / {:7.3f} {:7.3f}'.format(*np.array([v['measure'] for v in output.values()]).mean(0)))\n",
    "    print('{:7.3f}  {:7.3f} / {:7.3f} {:7.3f} / {:7.3f} {:7.3f}'.format(*np.array([v['measure'] for v in output.values()]).std(0)))\n",
    "    print('-'*80)\n",
    "\n",
    "    x1 = np.hstack([v['valid'][0].reshape(-1) for v in output.values()])\n",
    "    y1 = np.hstack([v['valid'][1].reshape(-1) for v in output.values()])\n",
    "    x2 = output[0]['test'][0].reshape(-1)\n",
    "    y2 = np.mean([v['test'][1].reshape(-1) for v in output.values()], 0)\n",
    "    print('{:7s}  {:7s} / {:7.3f} {:7.3f} / {:7.3f} {:7.3f}'.format('','',r2_score(x1, y1), mean_absolute_error(x1, y1), r2_score(x2, y2), mean_absolute_error(x2,y2)))\n",
    "    print()"
   ]
  },
  {
   "cell_type": "markdown",
   "metadata": {},
   "source": [
    "## RDKit fingreprints"
   ]
  },
  {
   "cell_type": "markdown",
   "metadata": {},
   "source": [
    "### Data load"
   ]
  },
  {
   "cell_type": "code",
   "execution_count": 37,
   "metadata": {},
   "outputs": [],
   "source": [
    "df_train = pd.read_csv('/home/jhyang/WORKSPACES/DATA/molecule/fpolymer/fpolymers_230823.tg.train.csv')\n",
    "df_test = pd.read_csv('/home/jhyang/WORKSPACES/DATA/molecule/fpolymer/fpolymers_230823.tg.test.csv')\n",
    "cv = CrossValidation(n_fold=5, n_data=df_train.shape[0], return_index=True)"
   ]
  },
  {
   "cell_type": "code",
   "execution_count": 38,
   "metadata": {},
   "outputs": [],
   "source": [
    "from rdkit import Chem\n",
    "from rdkit.Chem import AllChem, DataStructs\n",
    "\n",
    "col_sm = [f'SMILES_{x}' for x in 'ABCDE']\n",
    "col_fr = [f'FR_{x}' for x in 'ABCDE']\n",
    "\n",
    "all_smiles = np.unique(np.vstack([df_train[col_sm], df_test[col_sm]]).reshape(-1))\n",
    "fps = {}\n",
    "for s in all_smiles:\n",
    "    fps[s] = {}\n",
    "    m = Chem.MolFromSmiles(s)\n",
    "    arr = np.zeros((0,), dtype=np.int8)\n",
    "    fp1 = AllChem.GetMorganFingerprintAsBitVect(m, 2, nBits=256)\n",
    "    fp2 = AllChem.GetHashedAtomPairFingerprintAsBitVect(m, nBits=256)\n",
    "    fp3 = AllChem.GetMACCSKeysFingerprint(m)\n",
    "    for name, fp in zip(['morgan','pair','maccs'], [fp1, fp2, fp3]):\n",
    "        DataStructs.ConvertToNumpyArray(fp, arr)\n",
    "        fps[s][name] = arr.astype(float).copy()\n",
    "        \n",
    "def get_data(df, fptype='morgan'):\n",
    "    global col_sm, col_fr, fps\n",
    "    feats = []\n",
    "    for i, row in df.iterrows():\n",
    "        feat_fr = []\n",
    "        feat_orig = []\n",
    "        w = row[col_fr].sum()\n",
    "        for smiles, fr in zip(row[col_sm], row[col_fr]):\n",
    "            if fr == 0: continue\n",
    "            fp = fps[smiles][fptype].copy()\n",
    "            feat_orig.append(fp)\n",
    "            feat_fr.append(fp.astype(float) * fr/w)\n",
    "        feats.append(np.hstack([np.sum(feat_orig, 0), np.sum(feat_fr, 0)]))\n",
    "    return np.array(feats), df.TG.values.reshape(-1,1)"
   ]
  },
  {
   "cell_type": "markdown",
   "metadata": {},
   "source": [
    "### XGBoost"
   ]
  },
  {
   "cell_type": "code",
   "execution_count": 39,
   "metadata": {},
   "outputs": [
    {
     "name": "stdout",
     "output_type": "stream",
     "text": [
      "Fold: 0 : morgan     |   0.969 /  5.47 /  3.95 |   0.597 / 18.16 / 12.05 |   0.108 / 16.33 / 12.53 | \n",
      "Fold: 1 : morgan     |   0.999 /  0.92 /  0.62 |   0.795 / 13.78 / 10.41 |   0.239 / 15.09 / 12.56 | \n",
      "Fold: 2 : morgan     |   1.000 /  0.41 /  0.24 |   0.791 / 14.06 / 10.60 |   0.151 / 15.93 / 12.75 | \n",
      "Fold: 3 : morgan     |   0.996 /  1.81 /  1.29 |   0.806 / 13.87 / 10.38 |  -0.046 / 17.68 / 14.34 | \n",
      "Fold: 4 : morgan     |   0.998 /  1.19 /  0.85 |   0.765 / 15.28 /  9.75 |  -0.037 / 17.61 / 12.83 | \n",
      "Fold: 0 : pair       |   1.000 /  0.03 /  0.02 |   0.582 / 18.50 / 12.85 |  -0.920 / 23.96 / 17.26 | \n",
      "Fold: 1 : pair       |   1.000 /  0.67 /  0.33 |   0.755 / 15.04 / 11.99 |   0.011 / 17.20 / 12.98 | \n",
      "Fold: 2 : pair       |   1.000 /  0.09 /  0.05 |   0.734 / 15.85 / 12.53 |  -0.221 / 19.11 / 15.43 | \n",
      "Fold: 3 : pair       |   1.000 /  0.52 /  0.30 |   0.812 / 13.68 /  8.90 |  -0.052 / 17.74 / 13.00 | \n",
      "Fold: 4 : pair       |   1.000 /  0.01 /  0.01 |   0.717 / 16.74 / 11.00 |  -0.186 / 18.83 / 13.22 | \n",
      "Fold: 0 : maccs      |   0.958 /  6.39 /  2.92 |   0.697 / 15.75 / 10.95 |  -0.318 / 19.86 / 15.10 | \n",
      "Fold: 1 : maccs      |   0.942 /  7.39 /  4.64 |   0.855 / 11.57 /  8.44 |  -0.349 / 20.09 / 15.33 | \n",
      "Fold: 2 : maccs      |   0.965 /  5.79 /  2.04 |   0.792 / 14.02 / 10.39 |  -0.345 / 20.05 / 14.97 | \n",
      "Fold: 3 : maccs      |   0.954 /  6.57 /  3.73 |   0.826 / 13.15 /  9.91 |  -0.293 / 19.66 / 14.82 | \n",
      "Fold: 4 : maccs      |   0.982 /  4.06 /  2.38 |   0.752 / 15.67 / 10.03 |  -0.716 / 22.66 / 16.43 | \n"
     ]
    }
   ],
   "source": [
    "outputs_xgb = {}\n",
    "for fp_type in ['morgan','pair','maccs']:\n",
    "    output = {}\n",
    "    train_feat, train_tgt = get_data(df_train, fptype=fp_type)\n",
    "    test_feat, test_tgt = get_data(df_test, fptype=fp_type)\n",
    "    for i in range(5):\n",
    "        train_idx, valid_idx = cv[i]\n",
    "        train_data = xgb.DMatrix(train_feat[train_idx], train_tgt[train_idx])\n",
    "        valid_data = xgb.DMatrix(train_feat[valid_idx], train_tgt[valid_idx])\n",
    "        test_data = xgb.DMatrix(test_feat, test_tgt)\n",
    "        m_best = -1e5\n",
    "        bo = BayesianOptimization(xgb_obj_fnc, pbounds={'eta':[1e-2,1], 'max_depth':[1,20]},\n",
    "                                  random_state=100, verbose=0)\n",
    "        bo.maximize(init_points=10, n_iter=290)\n",
    "        tt, tp = best['train']\n",
    "        vt, vp = best['valid']\n",
    "        ft, fp = best['test']\n",
    "        vals = [\n",
    "            r2_score(tt, tp), np.sqrt(mean_squared_error(tt, tp)), mean_absolute_error(tt, tp),\n",
    "            r2_score(vt, vp), np.sqrt(mean_squared_error(vt, vp)), mean_absolute_error(vt, vp),\n",
    "            r2_score(ft, fp), np.sqrt(mean_squared_error(ft, fp)), mean_absolute_error(ft, fp)\n",
    "        ]\n",
    "        print('Fold: {} : {:10s} | {:7.3f} / {:5.2f} / {:5.2f} | {:7.3f} / {:5.2f} / {:5.2f} | {:7.3f} / {:5.2f} / {:5.2f} | '.format(i, fp_type, *vals))\n",
    "        output[i] = best.copy()\n",
    "    outputs_xgb[fp_type] = output\n",
    "#    print('-'*70)\n",
    "#    print('AVG:     : {:7.3f} / {:5.2f} / {:5.2f} | {:7.3f} / {:5.2f} / {:5.2f} | {:7.3f} / {:5.2f} / {:5.2f} | '.format(*np.mean(vals, axis=0)))\n",
    "#    print('STD:     : {:7.3f} / {:5.2f} / {:5.2f} | {:7.3f} / {:5.2f} / {:5.2f} | {:7.3f} / {:5.2f} / {:5.2f} | '.format(*np.std(vals, axis=0)))\n",
    "with open('../outputs/results/xgb.fp.output.231211.pkl','wb') as f:\n",
    "    pickle.dump(outputs_xgb, f)"
   ]
  },
  {
   "cell_type": "code",
   "execution_count": 20,
   "metadata": {},
   "outputs": [
    {
     "name": "stdout",
     "output_type": "stream",
     "text": [
      "  0.969    3.954 /   0.597  12.054 /   0.108  12.525\n",
      "  0.999    0.618 /   0.795  10.409 /   0.239  12.556\n",
      "  1.000    0.242 /   0.791  10.596 /   0.151  12.754\n",
      "  0.996    1.294 /   0.806  10.379 /  -0.046  14.339\n",
      "  0.998    0.847 /   0.765   9.754 /  -0.037  12.829\n",
      "--------------------------------------------------------------------------------\n",
      "  0.993    1.391 /   0.751  10.639 /   0.083  13.001\n",
      "  0.012    1.326 /   0.078   0.762 /   0.110   0.679\n",
      "--------------------------------------------------------------------------------\n",
      "                 /   0.759  10.639 /   0.206  12.425\n",
      "\n",
      "  1.000    0.021 /   0.582  12.852 /  -0.920  17.259\n",
      "  1.000    0.331 /   0.755  11.989 /   0.011  12.977\n",
      "  1.000    0.053 /   0.734  12.526 /  -0.221  15.427\n",
      "  1.000    0.298 /   0.812   8.903 /  -0.052  12.999\n",
      "  1.000    0.006 /   0.717  11.002 /  -0.186  13.219\n",
      "--------------------------------------------------------------------------------\n",
      "  1.000    0.142 /   0.720  11.454 /  -0.273  14.376\n",
      "  0.000    0.143 /   0.076   1.422 /   0.334   1.709\n",
      "--------------------------------------------------------------------------------\n",
      "                 /   0.729  11.454 /  -0.064  13.462\n",
      "\n",
      "  0.958    2.918 /   0.697  10.945 /  -0.318  15.096\n",
      "  0.942    4.636 /   0.855   8.436 /  -0.349  15.333\n",
      "  0.965    2.037 /   0.792  10.390 /  -0.345  14.965\n",
      "  0.954    3.731 /   0.826   9.913 /  -0.293  14.818\n",
      "  0.982    2.383 /   0.752  10.033 /  -0.716  16.431\n",
      "--------------------------------------------------------------------------------\n",
      "  0.960    3.141 /   0.785   9.943 /  -0.404  15.328\n",
      "  0.013    0.941 /   0.056   0.835 /   0.157   0.577\n",
      "--------------------------------------------------------------------------------\n",
      "                 /   0.790   9.943 /  -0.204  14.029\n",
      "\n"
     ]
    }
   ],
   "source": [
    "with open('../outputs/results/xgb.fp.output.231211.pkl','rb') as f:\n",
    "    outputs_xgb = pickle.load(f)\n",
    "    \n",
    "for key, output in outputs_xgb.items():\n",
    "    for i, out in output.items():\n",
    "        print('{:7.3f}  {:7.3f} / {:7.3f} {:7.3f} / {:7.3f} {:7.3f}'.format(*np.array(out['measure'])))\n",
    "    print('-'*80)\n",
    "    print('{:7.3f}  {:7.3f} / {:7.3f} {:7.3f} / {:7.3f} {:7.3f}'.format(*np.array([v['measure'] for v in output.values()]).mean(0)))\n",
    "    print('{:7.3f}  {:7.3f} / {:7.3f} {:7.3f} / {:7.3f} {:7.3f}'.format(*np.array([v['measure'] for v in output.values()]).std(0)))\n",
    "    print('-'*80)\n",
    "\n",
    "    x1 = np.hstack([v['valid'][0].reshape(-1) for v in output.values()])\n",
    "    y1 = np.hstack([v['valid'][1].reshape(-1) for v in output.values()])\n",
    "    x2 = output[0]['test'][0].reshape(-1)\n",
    "    y2 = np.mean([v['test'][1].reshape(-1) for v in output.values()], 0)\n",
    "    print('{:7s}  {:7s} / {:7.3f} {:7.3f} / {:7.3f} {:7.3f}'.format('','',r2_score(x1, y1), mean_absolute_error(x1, y1), r2_score(x2, y2), mean_absolute_error(x2,y2)))\n",
    "    print()    "
   ]
  },
  {
   "cell_type": "markdown",
   "metadata": {},
   "source": [
    "### SVR"
   ]
  },
  {
   "cell_type": "code",
   "execution_count": 19,
   "metadata": {},
   "outputs": [
    {
     "name": "stdout",
     "output_type": "stream",
     "text": [
      "Fold: 0 : morgan     | poly       |   0.901 /   3.656 |   0.756 /  10.198 |   0.467 /   9.864\n",
      "Fold: 1 : morgan     | poly       |   0.917 /   4.056 |   0.799 /   9.801 |   0.449 /   9.850\n",
      "Fold: 2 : morgan     | poly       |   0.911 /   3.913 |   0.721 /  11.218 |   0.283 /  11.063\n",
      "Fold: 3 : morgan     | poly       |   0.908 /   4.066 |   0.730 /  12.164 |   0.495 /   9.181\n",
      "Fold: 4 : morgan     | poly       |   0.893 /   4.157 |   0.753 /   9.421 |   0.353 /  10.974\n",
      "Fold: 0 : pair       | poly       |   0.936 /   2.584 |   0.682 /  12.281 |   0.515 /   9.588\n",
      "Fold: 1 : pair       | poly       |   0.923 /   2.718 |   0.812 /   9.938 |   0.591 /   8.402\n",
      "Fold: 2 : pair       | poly       |   0.915 /   3.795 |   0.584 /  12.184 |   0.046 /  11.730\n",
      "Fold: 3 : pair       | poly       |   0.932 /   2.890 |   0.753 /  12.089 |   0.492 /   9.151\n",
      "Fold: 4 : pair       | poly       |   0.934 /   2.618 |   0.710 /  10.413 |   0.287 /  10.877\n",
      "Fold: 0 : maccs      | poly       |   0.863 /   7.865 |   0.770 /  10.299 |   0.127 /  12.455\n",
      "Fold: 1 : maccs      | poly       |   0.883 /   6.079 |   0.786 /   9.709 |   0.281 /  11.660\n",
      "Fold: 2 : maccs      | poly       |   0.878 /   5.886 |   0.706 /  11.333 |   0.266 /  11.543\n",
      "Fold: 3 : maccs      | poly       |   0.902 /   4.727 |   0.696 /  13.647 |   0.399 /  10.460\n",
      "\u001b[91mData point [1.e+02 1.e-03] is not unique. 1 duplicates registered. Continuing ...\u001b[0m\n",
      "\u001b[91mData point [1.e+02 1.e-03] is not unique. 2 duplicates registered. Continuing ...\u001b[0m\n",
      "\u001b[91mData point [1.e+02 1.e-03] is not unique. 3 duplicates registered. Continuing ...\u001b[0m\n",
      "Fold: 4 : maccs      | poly       |   0.884 /   5.744 |   0.723 /  10.967 |   0.231 /  11.966\n"
     ]
    }
   ],
   "source": [
    "outputs_svr = {}\n",
    "for fp_type in ['morgan','pair','maccs']:\n",
    "    output = {}\n",
    "    train_feat, train_tgt = get_data(df_train, fptype=fp_type)\n",
    "    test_feat, test_tgt = get_data(df_test, fptype=fp_type)\n",
    "    for i in range(5):\n",
    "        m_best = -50\n",
    "        train_idx, valid_idx = cv[i]\n",
    "        x_train = train_feat[train_idx]\n",
    "        x_valid = train_feat[valid_idx]\n",
    "        y_train = train_tgt[train_idx]\n",
    "        y_valid = train_tgt[valid_idx]\n",
    "        for kernel in ['linear']:\n",
    "            bo = BayesianOptimization(svr_obj_fnc1, pbounds={'c':[0.1,100], 'eps':[1e-3,10]},\n",
    "                                      random_state=100, verbose=0, allow_duplicate_points=True)\n",
    "            bo.maximize(init_points=10, n_iter=140)\n",
    "        for kernel in ['sigmoid','poly']:\n",
    "            bo = BayesianOptimization(svr_obj_fnc2, pbounds={'coef':[0,10], 'c':[0.1,100], 'eps':[1e-3,10]},\n",
    "                                      random_state=100, verbose=0, allow_duplicate_points=True)\n",
    "            bo.maximize(init_points=10, n_iter=140)\n",
    "        print('Fold: {} : {:10s} | {:10s} | {:7.3f} / {:7.3f} | {:7.3f} / {:7.3f} | {:7.3f} / {:7.3f}'.format(i, fp_type, best['params']['kernel'], *best['measure']))\n",
    "        output[i] = best.copy()\n",
    "    outputs_svr[fp_type] = output\n",
    "\n",
    "with open('../outputs/results/svr.fp.output.231212.pkl','wb') as f:\n",
    "    pickle.dump(outputs_svr, f)"
   ]
  },
  {
   "cell_type": "code",
   "execution_count": 18,
   "metadata": {},
   "outputs": [
    {
     "name": "stdout",
     "output_type": "stream",
     "text": [
      "  0.901    3.656 /   0.756  10.198 /   0.467   9.864\n",
      "  0.917    4.056 /   0.799   9.801 /   0.449   9.850\n",
      "  0.911    3.913 /   0.721  11.218 /   0.283  11.063\n",
      "  0.908    4.066 /   0.730  12.164 /   0.495   9.181\n",
      "  0.893    4.157 /   0.753   9.421 /   0.353  10.974\n",
      "--------------------------------------------------------------------------------\n",
      "  0.906    3.970 /   0.752  10.560 /   0.409  10.186\n",
      "  0.008    0.175 /   0.027   1.001 /   0.079   0.723\n",
      "--------------------------------------------------------------------------------\n",
      "                 /   0.758  10.560 /   0.490   9.527\n",
      "\n",
      "  0.936    2.584 /   0.682  12.281 /   0.515   9.588\n",
      "  0.923    2.718 /   0.812   9.938 /   0.591   8.402\n",
      "  0.915    3.795 /   0.584  12.184 /   0.046  11.730\n",
      "  0.932    2.890 /   0.753  12.089 /   0.492   9.151\n",
      "  0.934    2.618 /   0.710  10.413 /   0.287  10.877\n",
      "--------------------------------------------------------------------------------\n",
      "  0.928    2.921 /   0.708  11.381 /   0.386   9.950\n",
      "  0.008    0.450 /   0.076   0.998 /   0.198   1.199\n",
      "--------------------------------------------------------------------------------\n",
      "                 /   0.724  11.381 /   0.540   9.068\n",
      "\n",
      "  0.863    7.865 /   0.770  10.299 /   0.127  12.455\n",
      "  0.883    6.079 /   0.786   9.709 /   0.281  11.660\n",
      "  0.878    5.886 /   0.706  11.333 /   0.266  11.543\n",
      "  0.902    4.727 /   0.696  13.647 /   0.399  10.460\n",
      "  0.884    5.744 /   0.723  10.967 /   0.231  11.966\n",
      "--------------------------------------------------------------------------------\n",
      "  0.882    6.060 /   0.736  11.191 /   0.261  11.617\n",
      "  0.012    1.016 /   0.036   1.349 /   0.088   0.659\n",
      "--------------------------------------------------------------------------------\n",
      "                 /   0.741  11.191 /   0.346  11.185\n",
      "\n"
     ]
    }
   ],
   "source": [
    "with open('../outputs/results/svr.fp.output.231212.pkl','rb') as f:\n",
    "    outputs_svr = pickle.load(f)\n",
    "    \n",
    "for key, output in outputs_svr.items():\n",
    "    for i, out in output.items():\n",
    "        print('{:7.3f}  {:7.3f} / {:7.3f} {:7.3f} / {:7.3f} {:7.3f}'.format(*np.array(out['measure'])))\n",
    "    print('-'*80)\n",
    "    print('{:7.3f}  {:7.3f} / {:7.3f} {:7.3f} / {:7.3f} {:7.3f}'.format(*np.array([v['measure'] for v in output.values()]).mean(0)))\n",
    "    print('{:7.3f}  {:7.3f} / {:7.3f} {:7.3f} / {:7.3f} {:7.3f}'.format(*np.array([v['measure'] for v in output.values()]).std(0)))\n",
    "    print('-'*80)\n",
    "\n",
    "    x1 = np.hstack([v['valid'][0].reshape(-1) for v in output.values()])\n",
    "    y1 = np.hstack([v['valid'][1].reshape(-1) for v in output.values()])\n",
    "    x2 = output[0]['test'][0].reshape(-1)\n",
    "    y2 = np.mean([v['test'][1].reshape(-1) for v in output.values()], 0)\n",
    "    print('{:7s}  {:7s} / {:7.3f} {:7.3f} / {:7.3f} {:7.3f}'.format('','',r2_score(x1, y1), mean_absolute_error(x1, y1), r2_score(x2, y2), mean_absolute_error(x2,y2)))\n",
    "    print()"
   ]
  }
 ],
 "metadata": {
  "kernelspec": {
   "display_name": "poly",
   "language": "python",
   "name": "python3"
  },
  "language_info": {
   "codemirror_mode": {
    "name": "ipython",
    "version": 3
   },
   "file_extension": ".py",
   "mimetype": "text/x-python",
   "name": "python",
   "nbconvert_exporter": "python",
   "pygments_lexer": "ipython3",
   "version": "3.9.12"
  },
  "orig_nbformat": 4
 },
 "nbformat": 4,
 "nbformat_minor": 2
}
