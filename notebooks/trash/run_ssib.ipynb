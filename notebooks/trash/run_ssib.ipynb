{
 "cells": [
  {
   "cell_type": "code",
   "execution_count": 1,
   "metadata": {},
   "outputs": [
    {
     "name": "stderr",
     "output_type": "stream",
     "text": [
      "/home/jhyang/anaconda3/envs/poly/lib/python3.9/site-packages/tqdm/auto.py:22: TqdmWarning: IProgress not found. Please update jupyter and ipywidgets. See https://ipywidgets.readthedocs.io/en/stable/user_install.html\n",
      "  from .autonotebook import tqdm as notebook_tqdm\n"
     ]
    }
   ],
   "source": [
    "from utils.data import DataGenerator, train_test_split, collate_fn, DataScaler\n",
    "import pandas as pd\n",
    "\n",
    "from model.modules import SSIBEncoder, CATEncoder, DNN, Binder\n",
    "import pickle, os, tqdm, gc, torch\n",
    "from utils.trainer import SSIBTrainer, MultipleTrainer\n",
    "from torch.utils.data import DataLoader\n",
    "from torch.optim import AdamW\n",
    "from torch import nn\n",
    "import numpy as np\n",
    "from sklearn.metrics import r2_score, mean_absolute_error\n",
    "from torch.utils.tensorboard import SummaryWriter"
   ]
  },
  {
   "cell_type": "markdown",
   "metadata": {},
   "source": [
    "# Data load"
   ]
  },
  {
   "cell_type": "code",
   "execution_count": 2,
   "metadata": {},
   "outputs": [
    {
     "name": "stdout",
     "output_type": "stream",
     "text": [
      "  Overwriting attribute : norm\n",
      "  Overwriting attribute : ptable\n",
      "  Overwriting attribute : ptbl_feat_name\n",
      "  Overwriting attribute : data\n",
      "  Setting new attribute : name_atom_feat\n",
      "  Setting new attribute : name_bond_feat\n",
      "  Setting new attribute : name_mol_feat\n",
      "  Overwriting attribute : norm\n",
      "  Overwriting attribute : ptable\n",
      "  Overwriting attribute : ptbl_feat_name\n",
      "  Overwriting attribute : data\n",
      "  Setting new attribute : name_atom_feat\n",
      "  Setting new attribute : name_bond_feat\n",
      "  Setting new attribute : name_mol_feat\n",
      "  Overwriting attribute : norm\n",
      "  Overwriting attribute : ptable\n",
      "  Overwriting attribute : ptbl_feat_name\n",
      "  Overwriting attribute : data\n",
      "  Setting new attribute : name_atom_feat\n",
      "  Setting new attribute : name_bond_feat\n",
      "  Setting new attribute : name_mol_feat\n"
     ]
    }
   ],
   "source": [
    "\n",
    "root = '/home/jhyang/WORKSPACES/MODELS'\n",
    "DG = DataGenerator(None, None)\n",
    "Scaler = DataScaler()\n",
    "target_names = pd.read_csv('/home/jhyang/WORKSPACES/DATA/polymers/QM9/target.csv').columns\n",
    "UDG = DG.load('../unscreened_dataset.qm9.pkl')\n",
    "SDG = DG.load('../screened_dataset.qm9.pkl')\n",
    "VDG = DG.load('../vscreened_dataset.qm9.pkl')\n",
    "\n",
    "datasets = {\n",
    "    'V_wF_24k'  :train_test_split(VDG.data, n_train=50000, include_f=True, seed=100),\n",
    "    'V_wF_99k'  :train_test_split(VDG.data, n_train=100000, include_f=True, seed=100),\n",
    "    'V_wF_ALL'  :(VDG.data,) + train_test_split(VDG.data, n_train=100000, include_f=True, seed=100)[1:],\n",
    "    'S_wF_24k'  :train_test_split(SDG.data, n_train=50000, include_f=True, seed=100),\n",
    "    'S_wF_99k'  :train_test_split(SDG.data, n_train=100000, include_f=True, seed=100),\n",
    "    'S_wF_ALL'  :(SDG.data,) + train_test_split(SDG.data, n_train=100000, include_f=True, seed=100)[1:],\n",
    "    'U_wF_24k'  :train_test_split(UDG.data, n_train=50000, include_f=True, seed=100),\n",
    "    'U_wF_99k'  :train_test_split(UDG.data, n_train=100000, include_f=True, seed=100),\n",
    "    'U_wF_ALL'  :(UDG.data,) + train_test_split(UDG.data, n_train=100000, include_f=True, seed=100)[1:],\n",
    "}"
   ]
  },
  {
   "cell_type": "code",
   "execution_count": 3,
   "metadata": {},
   "outputs": [],
   "source": [
    "\n",
    "epochs = 2000\n",
    "atom_net_params  = {\n",
    "    'n_atom_feat':None,\n",
    "    'n_bond_feat':None,\n",
    "    'graph':None,\n",
    "    'hidden_dim':64,\n",
    "    'output_dim':32,\n",
    "    'n_layer':4\n",
    "}\n",
    "mol_net_params  = {\n",
    "    'input_dim':None,\n",
    "    'hidden_dims':[256, 128],\n",
    "    'output_dim':32,\n",
    "}\n",
    "hgib_net_params = {}"
   ]
  },
  {
   "cell_type": "code",
   "execution_count": 4,
   "metadata": {},
   "outputs": [],
   "source": [
    "pt_epochs = 3000\n",
    "ft_epochs = 3000\n",
    "warmup = 500\n",
    "root = '/home/jhyang/WORKSPACES/MODELS/fpoly/encoders/'\n",
    "output_dim = 64\n",
    "atom_net_params  = {\n",
    "    'n_atom_feat':None,\n",
    "    'n_bond_feat':None,\n",
    "    'graph':None,\n",
    "    'hidden_dim':64,\n",
    "    'output_dim':output_dim,\n",
    "    'n_layer':4\n",
    "}\n",
    "mol_net_params  = {\n",
    "    'input_dim':None,\n",
    "    'hidden_dims':[256, 256, 256],\n",
    "    'output_dim':output_dim,\n",
    "}\n",
    "hgib_net_params = {\n",
    "    'x1_dim':atom_net_params['output_dim'],\n",
    "    'x2_dim':mol_net_params['output_dim'],\n",
    "    'beta':1e-2,\n",
    "    'hidden_dims':[256, 256]\n",
    "}\n",
    "\n",
    "early_stop = 300\n"
   ]
  },
  {
   "cell_type": "code",
   "execution_count": 5,
   "metadata": {},
   "outputs": [
    {
     "name": "stdout",
     "output_type": "stream",
     "text": [
      "V_wF_24k\n",
      "[ 2.6037896e+00  7.5421753e+01 -2.4045466e-01  1.3369700e-02\n",
      "  2.5184807e-01  1.1703269e+03  1.4839421e-01  3.1616240e+01\n",
      " -4.1265488e+02 -4.1264642e+02 -4.1264545e+02 -4.1268829e+02]\n",
      "V_wF_99k\n",
      "[ 2.6039848e+00  7.5533035e+01 -2.4043302e-01  1.3808377e-02\n",
      "  2.5228509e-01  1.1715746e+03  1.4875150e-01  3.1654612e+01\n",
      " -4.1230725e+02 -4.1229874e+02 -4.1229779e+02 -4.1234073e+02]\n",
      "V_wF_ALL\n",
      "[ 2.6061907e+00  7.5469902e+01 -2.4044259e-01  1.3447128e-02\n",
      "  2.5187203e-01  1.1704270e+03  1.4840780e-01  3.1625864e+01\n",
      " -4.1256619e+02 -4.1255771e+02 -4.1255676e+02 -4.1259967e+02]\n",
      "S_wF_24k\n",
      "[ 2.6037896e+00  7.5421753e+01 -2.4045466e-01  1.3369700e-02\n",
      "  2.5184807e-01  1.1703269e+03  1.4839421e-01  3.1616240e+01\n",
      " -4.1265488e+02 -4.1264642e+02 -4.1264545e+02 -4.1268829e+02]\n",
      "S_wF_99k\n",
      "[ 2.6039848e+00  7.5533035e+01 -2.4043302e-01  1.3808377e-02\n",
      "  2.5228509e-01  1.1715746e+03  1.4875150e-01  3.1654612e+01\n",
      " -4.1230725e+02 -4.1229874e+02 -4.1229779e+02 -4.1234073e+02]\n",
      "S_wF_ALL\n",
      "[ 2.6061907e+00  7.5469902e+01 -2.4044259e-01  1.3447128e-02\n",
      "  2.5187203e-01  1.1704270e+03  1.4840780e-01  3.1625864e+01\n",
      " -4.1256619e+02 -4.1255771e+02 -4.1255676e+02 -4.1259967e+02]\n"
     ]
    },
    {
     "ename": "KeyboardInterrupt",
     "evalue": "",
     "output_type": "error",
     "traceback": [
      "\u001b[0;31m---------------------------------------------------------------------------\u001b[0m",
      "\u001b[0;31mKeyboardInterrupt\u001b[0m                         Traceback (most recent call last)",
      "\u001b[1;32m/home/jhyang/WORKSPACES/CODES/fpoly/package/run_ssib.ipynb Cell 6\u001b[0m in \u001b[0;36m<cell line: 1>\u001b[0;34m()\u001b[0m\n\u001b[1;32m     <a href='vscode-notebook-cell://ssh-remote%2B10.13.24.238/home/jhyang/WORKSPACES/CODES/fpoly/package/run_ssib.ipynb#W6sdnNjb2RlLXJlbW90ZQ%3D%3D?line=11'>12</a>\u001b[0m         atom_net_params[\u001b[39m'\u001b[39m\u001b[39mn_bond_feat\u001b[39m\u001b[39m'\u001b[39m] \u001b[39m=\u001b[39m VDG\u001b[39m.\u001b[39mn_bond_feat\n\u001b[1;32m     <a href='vscode-notebook-cell://ssh-remote%2B10.13.24.238/home/jhyang/WORKSPACES/CODES/fpoly/package/run_ssib.ipynb#W6sdnNjb2RlLXJlbW90ZQ%3D%3D?line=12'>13</a>\u001b[0m         mol_net_params[\u001b[39m'\u001b[39m\u001b[39minput_dim\u001b[39m\u001b[39m'\u001b[39m] \u001b[39m=\u001b[39m VDG\u001b[39m.\u001b[39mn_mol_feat\n\u001b[0;32m---> <a href='vscode-notebook-cell://ssh-remote%2B10.13.24.238/home/jhyang/WORKSPACES/CODES/fpoly/package/run_ssib.ipynb#W6sdnNjb2RlLXJlbW90ZQ%3D%3D?line=13'>14</a>\u001b[0m     Scaler\u001b[39m.\u001b[39mtrain(collate_fn(train)[\u001b[39m1\u001b[39m])\n\u001b[1;32m     <a href='vscode-notebook-cell://ssh-remote%2B10.13.24.238/home/jhyang/WORKSPACES/CODES/fpoly/package/run_ssib.ipynb#W6sdnNjb2RlLXJlbW90ZQ%3D%3D?line=14'>15</a>\u001b[0m     batch_size \u001b[39m=\u001b[39m \u001b[39m2048\u001b[39m\n\u001b[1;32m     <a href='vscode-notebook-cell://ssh-remote%2B10.13.24.238/home/jhyang/WORKSPACES/CODES/fpoly/package/run_ssib.ipynb#W6sdnNjb2RlLXJlbW90ZQ%3D%3D?line=15'>16</a>\u001b[0m \u001b[39m#    for i, target_name in enumerate(target_names):\u001b[39;00m\n",
      "File \u001b[0;32m~/WORKSPACES/CODES/fpoly/package/utils/data.py:281\u001b[0m, in \u001b[0;36mcollate_fn\u001b[0;34m(data)\u001b[0m\n\u001b[1;32m    279\u001b[0m smiles\u001b[39m.\u001b[39mappend(d[\u001b[39m'\u001b[39m\u001b[39msmiles\u001b[39m\u001b[39m'\u001b[39m])\n\u001b[1;32m    280\u001b[0m atom_feat\u001b[39m.\u001b[39mappend(torch\u001b[39m.\u001b[39mtensor(d[\u001b[39m'\u001b[39m\u001b[39matom\u001b[39m\u001b[39m'\u001b[39m]))\n\u001b[0;32m--> 281\u001b[0m bond_feat\u001b[39m.\u001b[39mappend(torch\u001b[39m.\u001b[39;49mtensor(d[\u001b[39m'\u001b[39;49m\u001b[39mbond\u001b[39;49m\u001b[39m'\u001b[39;49m]))\n\u001b[1;32m    282\u001b[0m bond_idx\u001b[39m.\u001b[39mappend(torch\u001b[39m.\u001b[39mtensor(d[\u001b[39m'\u001b[39m\u001b[39medge\u001b[39m\u001b[39m'\u001b[39m]) \u001b[39m+\u001b[39m i_atom)\n\u001b[1;32m    283\u001b[0m mol_feat\u001b[39m.\u001b[39mappend(torch\u001b[39m.\u001b[39mtensor(d[\u001b[39m'\u001b[39m\u001b[39mmol\u001b[39m\u001b[39m'\u001b[39m]))\n",
      "\u001b[0;31mKeyboardInterrupt\u001b[0m: "
     ]
    }
   ],
   "source": [
    "\n",
    "for desc, (train, valid, test) in datasets.items():\n",
    "    if desc.startswith('S'):\n",
    "        atom_net_params['n_atom_feat'] = SDG.n_atom_feat\n",
    "        atom_net_params['n_bond_feat'] = SDG.n_bond_feat\n",
    "        mol_net_params['input_dim'] = SDG.n_mol_feat\n",
    "    if desc.startswith('U'):\n",
    "        atom_net_params['n_atom_feat'] = UDG.n_atom_feat\n",
    "        atom_net_params['n_bond_feat'] = UDG.n_bond_feat\n",
    "        mol_net_params['input_dim'] = UDG.n_mol_feat\n",
    "    if desc.startswith('V'):\n",
    "        atom_net_params['n_atom_feat'] = VDG.n_atom_feat\n",
    "        atom_net_params['n_bond_feat'] = VDG.n_bond_feat\n",
    "        mol_net_params['input_dim'] = VDG.n_mol_feat\n",
    "    Scaler.train(collate_fn(train)[1])\n",
    "    batch_size = 2048\n",
    "#    for i, target_name in enumerate(target_names):\n",
    "    train_data = Scaler.scale_data(train)\n",
    "    valid_data = Scaler.scale_data(valid)\n",
    "    test_data = Scaler.scale_data(test)\n",
    "    print(desc)\n",
    "    print(Scaler.avg.cpu().numpy())"
   ]
  },
  {
   "cell_type": "code",
   "execution_count": 68,
   "metadata": {},
   "outputs": [],
   "source": [
    "subset_dicts = {}\n",
    "for k in ['24k', '99k', 'ALL']:\n",
    "    t, _, _ = datasets['V_wF_'+k]\n",
    "    x = collate_fn(t)[1]\n",
    "    subset_dicts[k] = x.cpu().numpy().T\n",
    "subsets = []\n",
    "for i in range(x.shape[1]):\n",
    "    subset = {\n",
    "        '24k':subset_dicts['24k'][i],\n",
    "        '99k':subset_dicts['99k'][i],\n",
    "#        'ALL':subset_dicts['ALL'][i],\n",
    "    }\n",
    "    subsets.append(subset)"
   ]
  },
  {
   "cell_type": "code",
   "execution_count": 35,
   "metadata": {},
   "outputs": [],
   "source": [
    "targets = x[1].cpu().numpy().T"
   ]
  },
  {
   "cell_type": "code",
   "execution_count": 69,
   "metadata": {},
   "outputs": [
    {
     "data": {
      "text/plain": [
       "<matplotlib.legend.Legend at 0x7fac97201160>"
      ]
     },
     "execution_count": 69,
     "metadata": {},
     "output_type": "execute_result"
    },
    {
     "data": {
      "image/png": "[encoded data removed]",
      "text/plain": [
       "<Figure size 1008x720 with 12 Axes>"
      ]
     },
     "metadata": {
      "needs_background": "light"
     },
     "output_type": "display_data"
    }
   ],
   "source": [
    "import matplotlib.pyplot as plt\n",
    "%matplotlib inline\n",
    "\n",
    "f, axs = plt.subplots(4, 3, figsize=(14,10))\n",
    "for ax, t, subset in zip(axs.reshape(-1), targets, subsets):\n",
    "    _, bins, _ = ax.hist(t, bins=50, label='all', alpha=0.5)\n",
    "    for k,x in subset.items():\n",
    "        ax.hist(x, bins=bins, alpha=0.5, label=k)\n",
    "    ax.set_yscale('log')\n",
    "axs[0,0].legend(loc='upper right')"
   ]
  },
  {
   "cell_type": "code",
   "execution_count": 76,
   "metadata": {},
   "outputs": [],
   "source": [
    "from utils.data import DataScaler\n",
    "import torch\n",
    "scale_24 = DataScaler()\n",
    "scale_24.train(torch.tensor(subset_dicts['24k'].T))\n",
    "scale_99 = DataScaler()\n",
    "scale_99.train(torch.tensor(subset_dicts['99k'].T))\n",
    "scale_aa = DataScaler()\n",
    "scale_aa.train(torch.tensor(subset_dicts['ALL'].T))"
   ]
  },
  {
   "cell_type": "code",
   "execution_count": 79,
   "metadata": {},
   "outputs": [
    {
     "data": {
      "text/plain": [
       "(tensor([ 2.6038e+00,  7.5422e+01, -2.4045e-01,  1.3370e-02,  2.5185e-01,\n",
       "          1.1703e+03,  1.4839e-01,  3.1616e+01, -4.1265e+02, -4.1265e+02,\n",
       "         -4.1265e+02, -4.1269e+02]),\n",
       " tensor([ 2.6040e+00,  7.5533e+01, -2.4043e-01,  1.3808e-02,  2.5229e-01,\n",
       "          1.1716e+03,  1.4875e-01,  3.1655e+01, -4.1231e+02, -4.1230e+02,\n",
       "         -4.1230e+02, -4.1234e+02]))"
      ]
     },
     "execution_count": 79,
     "metadata": {},
     "output_type": "execute_result"
    }
   ],
   "source": [
    "scale_24.avg, scale_99.avg"
   ]
  }
 ],
 "metadata": {
  "kernelspec": {
   "display_name": "Python 3.9.12 ('poly')",
   "language": "python",
   "name": "python3"
  },
  "language_info": {
   "codemirror_mode": {
    "name": "ipython",
    "version": 3
   },
   "file_extension": ".py",
   "mimetype": "text/x-python",
   "name": "python",
   "nbconvert_exporter": "python",
   "pygments_lexer": "ipython3",
   "version": "3.9.12"
  },
  "orig_nbformat": 4,
  "vscode": {
   "interpreter": {
    "hash": "301f9491a8f0e4bd7c70446afd62a207ad150af1893fa72a3c14d69f0f6f8076"
   }
  }
 },
 "nbformat": 4,
 "nbformat_minor": 2
}
