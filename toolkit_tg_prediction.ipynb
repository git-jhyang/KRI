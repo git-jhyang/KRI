{
 "cells": [
  {
   "cell_type": "code",
   "execution_count": 1,
   "metadata": {},
   "outputs": [],
   "source": [
    "from src.utils.data import DataScaler\n",
    "from src.utils.dataset import FPolyDatasetV3, collate_fn\n",
    "from src.utils.trainer import Trainer\n",
    "from src.model.modules import SingleEncoderModel\n",
    "from torch.utils.data import DataLoader\n",
    "import pandas as pd\n",
    "import numpy as np\n",
    "import gc, torch, json, os"
   ]
  },
  {
   "cell_type": "code",
   "execution_count": 2,
   "metadata": {},
   "outputs": [],
   "source": [
    "# Input part / up to N monomer & feed ratio pairs\n",
    "data = [\n",
    "    [ # first dataset\n",
    "        ['C=C(C(=O)O)C(F)(F)F', 0.2], # first monomer and feed ratio\n",
    "        ['CC(=C)C(=O)OC12CC3CC(C1)CC(C3)C2', 0.2], # second monomer and feed ratio\n",
    "        ['CC(=C)C(O)=O', 0.2],\n",
    "        ['O=C1N(OC(=O)C(=C)C)C(=O)CC1', 0.2],\n",
    "        ['CC(=C)C(=O)OCCO', 0.2],\n",
    "    ],\n",
    "    [ # second dataset\n",
    "        ['C=C(C(=O)O)C(F)(F)F', 0.2], # first monomer and feed ratio\n",
    "        ['O=C1N(OC(=O)C(=C)C)C(=O)CC1', 0.2], # second monomer and feed ratio\n",
    "        ['CC(=C)C(O)=O', 0.4],\n",
    "        ['CC(=C)C(=O)OCCO', 0.2],\n",
    "    ]\n",
    "]\n",
    "\n",
    "# parameters\n",
    "device = 'cpu'\n",
    "model_path = [\n",
    "    './outputs/finetune/all_ens/fold_00',\n",
    "    './outputs/finetune/all_ens/fold_01',\n",
    "    './outputs/finetune/all_ens/fold_02',\n",
    "    './outputs/finetune/all_ens/fold_03',\n",
    "    './outputs/finetune/all_ens/fold_04',\n",
    "]\n"
   ]
  },
  {
   "cell_type": "code",
   "execution_count": 3,
   "metadata": {},
   "outputs": [],
   "source": [
    "# Data part\n",
    "\n",
    "gc.collect()\n",
    "torch.cuda.empty_cache()\n",
    "\n",
    "n = np.max([len(l) for l in data])\n",
    "for d in data:\n",
    "    for _ in range(n-len(d)):\n",
    "        d.append([np.nan, np.nan])\n",
    "\n",
    "df = pd.concat([\n",
    "    pd.DataFrame(range(len(data)), columns=['ID']),\n",
    "    pd.DataFrame([[_d[0] for _d in d] for d in data], columns=[f'sm_{i}' for i in range(n)]),\n",
    "    pd.DataFrame([[_d[1] for _d in d] for d in data], columns=[f'fr_{i}' for i in range(n)])\n",
    "], axis=1)\n",
    "\n",
    "DS = FPolyDatasetV3()\n",
    "DS.generate(df, col_id='ID', col_smiles=[f'sm_{i}' for i in range(n)], \n",
    "            col_weights=[f'fr_{i}' for i in range(n)], col_target=['ID'])\n",
    "DS.to(device)\n",
    "DL = DataLoader(DS, batch_size=512, collate_fn=collate_fn)\n",
    "\n",
    "# loop over models\n",
    "preds = []\n",
    "for i in range(5):\n",
    "    model = SingleEncoderModel(**json.load(open(os.path.join(model_path[i], 'param.json'))))\n",
    "    model.load(os.path.join(model_path[i], 'model.torch'), rebuild_model=True)\n",
    "    model.to(device)\n",
    "    scaler = DataScaler(device=device)\n",
    "    scaler.load(model_path[i])\n",
    "    tr = Trainer(model, None, scaler)\n",
    "    ids, pred = tr.predict(DL)\n",
    "    preds.append(pred)\n"
   ]
  },
  {
   "cell_type": "code",
   "execution_count": 4,
   "metadata": {},
   "outputs": [
    {
     "name": "stdout",
     "output_type": "stream",
     "text": [
      "[136.28769 122.69118]\n"
     ]
    }
   ],
   "source": [
    "# final result / celsius degree\n",
    "\n",
    "print(np.mean(preds, 0).reshape(-1))"
   ]
  }
 ],
 "metadata": {
  "kernelspec": {
   "display_name": "poly",
   "language": "python",
   "name": "python3"
  },
  "language_info": {
   "codemirror_mode": {
    "name": "ipython",
    "version": 3
   },
   "file_extension": ".py",
   "mimetype": "text/x-python",
   "name": "python",
   "nbconvert_exporter": "python",
   "pygments_lexer": "ipython3",
   "version": "3.9.12"
  }
 },
 "nbformat": 4,
 "nbformat_minor": 2
}
