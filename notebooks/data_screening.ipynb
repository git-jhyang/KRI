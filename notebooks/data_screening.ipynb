{
 "cells": [
  {
   "cell_type": "code",
   "execution_count": 1,
   "metadata": {},
   "outputs": [],
   "source": [
    "import torch, pickle, json, os, sys\n",
    "sys.path.append(os.path.abspath('..'))\n",
    "from package.utils.data import DataGenerator, collate_fn\n",
    "import pandas as pd\n",
    "import numpy as np\n",
    "import matplotlib.pyplot as plt\n",
    "\n",
    "%matplotlib inline"
   ]
  },
  {
   "cell_type": "markdown",
   "metadata": {},
   "source": [
    "### Data load and generation"
   ]
  },
  {
   "cell_type": "markdown",
   "metadata": {},
   "source": [
    "- Load smiles and targets"
   ]
  },
  {
   "cell_type": "code",
   "execution_count": 2,
   "metadata": {},
   "outputs": [],
   "source": [
    "df_qm9 = pd.read_csv('D:/DATA/polymers/QM9/qm9_origin.csv')\n",
    "smiles_q, targets_q = df_qm9.values.T[0], df_qm9.values.T[1:].T\n",
    "with open('D:/DATA/polymers/f-polymer/smiles.json') as f:\n",
    "    smiles_f = json.load(f)['smiles']\n",
    "targets_f = np.zeros_like(smiles_f, dtype=float) # dummy target for collate_fn"
   ]
  },
  {
   "cell_type": "code",
   "execution_count": 3,
   "metadata": {},
   "outputs": [
    {
     "data": {
      "text/html": [
       "<div>\n",
       "<style scoped>\n",
       "    .dataframe tbody tr th:only-of-type {\n",
       "        vertical-align: middle;\n",
       "    }\n",
       "\n",
       "    .dataframe tbody tr th {\n",
       "        vertical-align: top;\n",
       "    }\n",
       "\n",
       "    .dataframe thead th {\n",
       "        text-align: right;\n",
       "    }\n",
       "</style>\n",
       "<table border=\"1\" class=\"dataframe\">\n",
       "  <thead>\n",
       "    <tr style=\"text-align: right;\">\n",
       "      <th></th>\n",
       "      <th>ID</th>\n",
       "      <th>Monomer_A</th>\n",
       "      <th>Monomer_B</th>\n",
       "      <th>Monomer_C</th>\n",
       "      <th>Monomer_D</th>\n",
       "      <th>Monomer_E</th>\n",
       "      <th>amount_A</th>\n",
       "      <th>amount_B</th>\n",
       "      <th>amount_C</th>\n",
       "      <th>amount_D</th>\n",
       "      <th>amount_E</th>\n",
       "      <th>dielectric_constant</th>\n",
       "    </tr>\n",
       "  </thead>\n",
       "  <tbody>\n",
       "    <tr>\n",
       "      <th>0</th>\n",
       "      <td>FA-00149</td>\n",
       "      <td>CC(=C)C(=O)...</td>\n",
       "      <td>CCCCCCCCCCC...</td>\n",
       "      <td>COC(=O)C(C)=C</td>\n",
       "      <td>CC(=C)C(O)=O</td>\n",
       "      <td>CC(=C)C(=O)...</td>\n",
       "      <td>2.00</td>\n",
       "      <td>1.00</td>\n",
       "      <td>4.00</td>\n",
       "      <td>1.00</td>\n",
       "      <td>2.00</td>\n",
       "      <td>1.9600</td>\n",
       "    </tr>\n",
       "    <tr>\n",
       "      <th>1</th>\n",
       "      <td>FA-00151</td>\n",
       "      <td>CC(=C)C(=O)...</td>\n",
       "      <td>CCCCCCCCCCC...</td>\n",
       "      <td>COC(=O)C(C)=C</td>\n",
       "      <td>CC(=C)C(O)=O</td>\n",
       "      <td>CC(=C)C(=O)...</td>\n",
       "      <td>4.00</td>\n",
       "      <td>1.00</td>\n",
       "      <td>2.00</td>\n",
       "      <td>1.00</td>\n",
       "      <td>2.00</td>\n",
       "      <td>2.0100</td>\n",
       "    </tr>\n",
       "    <tr>\n",
       "      <th>2</th>\n",
       "      <td>FA-00232</td>\n",
       "      <td>CC(=C)C(=O)...</td>\n",
       "      <td>CCCCCCCCCCC...</td>\n",
       "      <td>COC(=O)C(C)=C</td>\n",
       "      <td>CC(=C)C(O)=O</td>\n",
       "      <td>CC(=C)C(=O)...</td>\n",
       "      <td>4.60</td>\n",
       "      <td>1.20</td>\n",
       "      <td>2.00</td>\n",
       "      <td>1.20</td>\n",
       "      <td>2.30</td>\n",
       "      <td>2.1100</td>\n",
       "    </tr>\n",
       "    <tr>\n",
       "      <th>3</th>\n",
       "      <td>FA-00218</td>\n",
       "      <td>CC(=C)C(=O)...</td>\n",
       "      <td>CCCCCCCCCCC...</td>\n",
       "      <td>COC(=O)C(C)=C</td>\n",
       "      <td>CC(=C)C(O)=O</td>\n",
       "      <td>CC(=C)C(=O)...</td>\n",
       "      <td>3.59</td>\n",
       "      <td>1.14</td>\n",
       "      <td>1.93</td>\n",
       "      <td>1.12</td>\n",
       "      <td>2.22</td>\n",
       "      <td>2.1100</td>\n",
       "    </tr>\n",
       "    <tr>\n",
       "      <th>4</th>\n",
       "      <td>FA-00152</td>\n",
       "      <td>CC(=C)C(=O)...</td>\n",
       "      <td>CCCCCCCCCCC...</td>\n",
       "      <td>COC(=O)C(C)=C</td>\n",
       "      <td>CC(=C)C(O)=O</td>\n",
       "      <td>CC(=C)C(=O)...</td>\n",
       "      <td>6.00</td>\n",
       "      <td>1.00</td>\n",
       "      <td>0.00</td>\n",
       "      <td>1.00</td>\n",
       "      <td>2.00</td>\n",
       "      <td>2.2600</td>\n",
       "    </tr>\n",
       "    <tr>\n",
       "      <th>...</th>\n",
       "      <td>...</td>\n",
       "      <td>...</td>\n",
       "      <td>...</td>\n",
       "      <td>...</td>\n",
       "      <td>...</td>\n",
       "      <td>...</td>\n",
       "      <td>...</td>\n",
       "      <td>...</td>\n",
       "      <td>...</td>\n",
       "      <td>...</td>\n",
       "      <td>...</td>\n",
       "      <td>...</td>\n",
       "    </tr>\n",
       "    <tr>\n",
       "      <th>208</th>\n",
       "      <td>FA-00382</td>\n",
       "      <td>FC(F)(F)C(F...</td>\n",
       "      <td>CCCCCCCCCCC...</td>\n",
       "      <td>COC(=O)C(C)=C</td>\n",
       "      <td>CC(=C)C(O)=O</td>\n",
       "      <td>CC(=C)C(=O)...</td>\n",
       "      <td>6.00</td>\n",
       "      <td>0.00</td>\n",
       "      <td>3.00</td>\n",
       "      <td>1.00</td>\n",
       "      <td>0.00</td>\n",
       "      <td>2.5056</td>\n",
       "    </tr>\n",
       "    <tr>\n",
       "      <th>209</th>\n",
       "      <td>FA-00381</td>\n",
       "      <td>FC(F)(F)C(F...</td>\n",
       "      <td>CCCCCCCCCCC...</td>\n",
       "      <td>COC(=O)C(C)=C</td>\n",
       "      <td>CC(=C)C(O)=O</td>\n",
       "      <td>CC(=C)C(=O)...</td>\n",
       "      <td>6.00</td>\n",
       "      <td>0.00</td>\n",
       "      <td>4.00</td>\n",
       "      <td>0.00</td>\n",
       "      <td>0.00</td>\n",
       "      <td>2.5112</td>\n",
       "    </tr>\n",
       "    <tr>\n",
       "      <th>210</th>\n",
       "      <td>FA-00384</td>\n",
       "      <td>FC(F)(F)C(F...</td>\n",
       "      <td>CCCCCCCCCCC...</td>\n",
       "      <td>COC(=O)C(C)=C</td>\n",
       "      <td>CC(=C)C(O)=O</td>\n",
       "      <td>CC(=C)C(=O)...</td>\n",
       "      <td>6.00</td>\n",
       "      <td>0.00</td>\n",
       "      <td>1.00</td>\n",
       "      <td>3.00</td>\n",
       "      <td>0.00</td>\n",
       "      <td>2.6042</td>\n",
       "    </tr>\n",
       "    <tr>\n",
       "      <th>211</th>\n",
       "      <td>FA-00385</td>\n",
       "      <td>FC(F)(F)C(F...</td>\n",
       "      <td>CCCCCCCCCCC...</td>\n",
       "      <td>COC(=O)C(C)=C</td>\n",
       "      <td>CC(=C)C(O)=O</td>\n",
       "      <td>CC(=C)C(=O)...</td>\n",
       "      <td>6.00</td>\n",
       "      <td>0.00</td>\n",
       "      <td>0.00</td>\n",
       "      <td>4.00</td>\n",
       "      <td>0.00</td>\n",
       "      <td>2.7735</td>\n",
       "    </tr>\n",
       "    <tr>\n",
       "      <th>212</th>\n",
       "      <td>FA-00451</td>\n",
       "      <td>FC(F)(F)C(F...</td>\n",
       "      <td>CCCCCCCCCCC...</td>\n",
       "      <td>COC(=O)C(C)=C</td>\n",
       "      <td>OC(=O)C=C</td>\n",
       "      <td>CC(=C)C(=O)...</td>\n",
       "      <td>5.00</td>\n",
       "      <td>1.00</td>\n",
       "      <td>1.00</td>\n",
       "      <td>1.00</td>\n",
       "      <td>2.00</td>\n",
       "      <td>2.8745</td>\n",
       "    </tr>\n",
       "  </tbody>\n",
       "</table>\n",
       "<p>202 rows × 12 columns</p>\n",
       "</div>"
      ],
      "text/plain": [
       "           ID       Monomer_A       Monomer_B      Monomer_C     Monomer_D  \\\n",
       "0    FA-00149  CC(=C)C(=O)...  CCCCCCCCCCC...  COC(=O)C(C)=C  CC(=C)C(O)=O   \n",
       "1    FA-00151  CC(=C)C(=O)...  CCCCCCCCCCC...  COC(=O)C(C)=C  CC(=C)C(O)=O   \n",
       "2    FA-00232  CC(=C)C(=O)...  CCCCCCCCCCC...  COC(=O)C(C)=C  CC(=C)C(O)=O   \n",
       "3    FA-00218  CC(=C)C(=O)...  CCCCCCCCCCC...  COC(=O)C(C)=C  CC(=C)C(O)=O   \n",
       "4    FA-00152  CC(=C)C(=O)...  CCCCCCCCCCC...  COC(=O)C(C)=C  CC(=C)C(O)=O   \n",
       "..        ...             ...             ...            ...           ...   \n",
       "208  FA-00382  FC(F)(F)C(F...  CCCCCCCCCCC...  COC(=O)C(C)=C  CC(=C)C(O)=O   \n",
       "209  FA-00381  FC(F)(F)C(F...  CCCCCCCCCCC...  COC(=O)C(C)=C  CC(=C)C(O)=O   \n",
       "210  FA-00384  FC(F)(F)C(F...  CCCCCCCCCCC...  COC(=O)C(C)=C  CC(=C)C(O)=O   \n",
       "211  FA-00385  FC(F)(F)C(F...  CCCCCCCCCCC...  COC(=O)C(C)=C  CC(=C)C(O)=O   \n",
       "212  FA-00451  FC(F)(F)C(F...  CCCCCCCCCCC...  COC(=O)C(C)=C     OC(=O)C=C   \n",
       "\n",
       "          Monomer_E  amount_A  amount_B  amount_C  amount_D  amount_E  \\\n",
       "0    CC(=C)C(=O)...      2.00      1.00      4.00      1.00      2.00   \n",
       "1    CC(=C)C(=O)...      4.00      1.00      2.00      1.00      2.00   \n",
       "2    CC(=C)C(=O)...      4.60      1.20      2.00      1.20      2.30   \n",
       "3    CC(=C)C(=O)...      3.59      1.14      1.93      1.12      2.22   \n",
       "4    CC(=C)C(=O)...      6.00      1.00      0.00      1.00      2.00   \n",
       "..              ...       ...       ...       ...       ...       ...   \n",
       "208  CC(=C)C(=O)...      6.00      0.00      3.00      1.00      0.00   \n",
       "209  CC(=C)C(=O)...      6.00      0.00      4.00      0.00      0.00   \n",
       "210  CC(=C)C(=O)...      6.00      0.00      1.00      3.00      0.00   \n",
       "211  CC(=C)C(=O)...      6.00      0.00      0.00      4.00      0.00   \n",
       "212  CC(=C)C(=O)...      5.00      1.00      1.00      1.00      2.00   \n",
       "\n",
       "     dielectric_constant  \n",
       "0            1.9600       \n",
       "1            2.0100       \n",
       "2            2.1100       \n",
       "3            2.1100       \n",
       "4            2.2600       \n",
       "..              ...       \n",
       "208          2.5056       \n",
       "209          2.5112       \n",
       "210          2.6042       \n",
       "211          2.7735       \n",
       "212          2.8745       \n",
       "\n",
       "[202 rows x 12 columns]"
      ]
     },
     "execution_count": 3,
     "metadata": {},
     "output_type": "execute_result"
    }
   ],
   "source": [
    "df = pd.read_csv('D:/DATA/polymers/f-polymer/Fea_Gene_20220603_DieEC_Total.csv')\n",
    "pd.set_option('display.max_colwidth',15)\n",
    "df.columns = [c.replace('Normalized_FR','amount') for c in df.columns]\n",
    "df[~np.sum((df == 'Did not work').values, axis=1).astype(bool)]"
   ]
  },
  {
   "cell_type": "markdown",
   "metadata": {},
   "source": [
    "- generate"
   ]
  },
  {
   "cell_type": "code",
   "execution_count": 4,
   "metadata": {},
   "outputs": [
    {
     "name": "stderr",
     "output_type": "stream",
     "text": [
      "generate: 100%|██████████| 133885/133885 [05:43<00:00, 390.14it/s]\n",
      "generate: 100%|██████████| 46/46 [00:00<00:00, 319.44it/s]\n"
     ]
    }
   ],
   "source": [
    "DGQ = DataGenerator(smiles=smiles_q, targets=targets_q.astype(float), include_autocorr=True, norm=True)\n",
    "if os.path.isfile('../unscreened_dataset.qm9.pickle'):\n",
    "    DGQ = DGQ.load('../unscreened_dataset.qm9.pickle')\n",
    "else:\n",
    "    DGQ.generate()\n",
    "\n",
    "DGF = DataGenerator(smiles=smiles_f, targets=targets_f, include_autocorr=True, norm=True)\n",
    "if os.path.isfile('../unscreened_dataset.fpoly.pickle'):\n",
    "    DGF = DGF.load('../unscreened_dataset.fpoly.pickle')\n",
    "else:\n",
    "    DGF.generate()"
   ]
  },
  {
   "cell_type": "markdown",
   "metadata": {},
   "source": [
    "- merge"
   ]
  },
  {
   "cell_type": "code",
   "execution_count": 5,
   "metadata": {},
   "outputs": [],
   "source": [
    "atom_q, bond_q, edge_q, mol_q, gidx_q, tgt_q = collate_fn(DGQ.data)\n",
    "atom_f, bond_f, edge_f, mol_f, gidx_f, tgt_f = collate_fn(DGF.data)"
   ]
  },
  {
   "cell_type": "code",
   "execution_count": 6,
   "metadata": {},
   "outputs": [
    {
     "data": {
      "text/plain": [
       "(torch.Size([1177631, 26]),\n",
       " torch.Size([2517932, 5]),\n",
       " torch.Size([2, 2517932]),\n",
       " torch.Size([133885, 399]),\n",
       " 26,\n",
       " 5,\n",
       " 399)"
      ]
     },
     "execution_count": 6,
     "metadata": {},
     "output_type": "execute_result"
    }
   ],
   "source": [
    "atom_q.shape, bond_q.shape, edge_q.shape, mol_q.shape, DGQ.n_atom_feat, DGQ.n_bond_feat, DGQ.n_mol_feat"
   ]
  },
  {
   "cell_type": "markdown",
   "metadata": {},
   "source": [
    "- test readout"
   ]
  },
  {
   "cell_type": "code",
   "execution_count": 8,
   "metadata": {},
   "outputs": [
    {
     "data": {
      "text/plain": [
       "(torch.Size([133885, 26]), torch.Size([133885, 12]))"
      ]
     },
     "execution_count": 8,
     "metadata": {},
     "output_type": "execute_result"
    }
   ],
   "source": [
    "from torch_geometric.nn import global_mean_pool\n",
    "\n",
    "x = global_mean_pool(atom_q, gidx_q)\n",
    "x.shape, tgt_q.shape # well operating"
   ]
  },
  {
   "cell_type": "code",
   "execution_count": 7,
   "metadata": {},
   "outputs": [
    {
     "data": {
      "text/plain": [
       "array([], dtype='<U24')"
      ]
     },
     "execution_count": 7,
     "metadata": {},
     "output_type": "execute_result"
    }
   ],
   "source": [
    "tmax = torch.max(mol_q, dim=0).values\n",
    "DGQ.name_mol_feat[np.where((tmax > 100).numpy())[0]]"
   ]
  },
  {
   "cell_type": "markdown",
   "metadata": {},
   "source": [
    "### Screening"
   ]
  },
  {
   "cell_type": "code",
   "execution_count": 9,
   "metadata": {},
   "outputs": [],
   "source": [
    "from ypack.utils.features import screen_high_pcc, screen_low_var"
   ]
  },
  {
   "cell_type": "markdown",
   "metadata": {},
   "source": [
    "#### Atomic features"
   ]
  },
  {
   "cell_type": "markdown",
   "metadata": {},
   "source": [
    "- screen by variance"
   ]
  },
  {
   "cell_type": "code",
   "execution_count": 10,
   "metadata": {},
   "outputs": [
    {
     "name": "stdout",
     "output_type": "stream",
     "text": [
      "Total 5 features are screened (th: 0.00010)\n",
      "   Screened indexes:\n",
      "\t [13 17 18 23 24]\n",
      "   Screened feature names:\n",
      " \t ['block' 'fusion_heat' 'metallic_radius' 'ele_config_d' 'ele_config_f']\n",
      "   Dimension: (1177631, 26) -> (1177631, 21)\n",
      "Total 6 features are screened (th: 0.00001)\n",
      "   Screened indexes:\n",
      "\t [13 18 20 21 23 24]\n",
      "   Screened feature names:\n",
      " \t ['block' 'metallic_radius' 'period' 'ele_config_s' 'ele_config_d'\n",
      " 'ele_config_f']\n",
      "   Dimension: (600, 26) -> (600, 20)\n"
     ]
    }
   ],
   "source": [
    "mask_vq = screen_low_var(atom_q, names=DGQ.name_atom_feat, th=1e-4, axis=1)\n",
    "mask_vf = screen_low_var(atom_f, names=DGF.name_atom_feat, th=1e-5, axis=1)"
   ]
  },
  {
   "cell_type": "markdown",
   "metadata": {},
   "source": [
    "- screen by pcc"
   ]
  },
  {
   "cell_type": "code",
   "execution_count": 11,
   "metadata": {},
   "outputs": [
    {
     "name": "stdout",
     "output_type": "stream",
     "text": [
      "Total 3 features are screened (th: 0.99900)\n",
      "   Screened indexes:\n",
      "\t [ 6 11 22]\n",
      "   List of indexes:\n",
      "\t  0 [Mass]               : 11 [atomic_number], 22 [ele_config_p]\n",
      "\t  2 [ImplicitValence]    : 6 [NumImplicitHs]\n",
      "\t 16 [en_pauling]         : 11 [atomic_number], 22 [ele_config_p]\n",
      "   Screened feature names:\n",
      " \t ['NumImplicitHs' 'atomic_number' 'ele_config_p']\n",
      "   Dimension: (1177631, 26) -> (1177631, 23)\n",
      "Total 3 features are screened (th: 0.99900)\n",
      "   Screened indexes:\n",
      "\t [ 6 11 22]\n",
      "   List of indexes:\n",
      "\t  2 [ImplicitValence]    : 6 [NumImplicitHs]\n",
      "\t 10 [TotalValence]       : 11 [atomic_number], 22 [ele_config_p]\n",
      "\t 16 [en_pauling]         : 11 [atomic_number], 22 [ele_config_p]\n",
      "   Screened feature names:\n",
      " \t ['NumImplicitHs' 'atomic_number' 'ele_config_p']\n",
      "   Dimension: (600, 26) -> (600, 23)\n"
     ]
    },
    {
     "name": "stderr",
     "output_type": "stream",
     "text": [
      "c:\\Users\\Yang\\anaconda3\\envs\\poly\\lib\\site-packages\\numpy\\lib\\function_base.py:2829: RuntimeWarning: invalid value encountered in true_divide\n",
      "  c /= stddev[:, None]\n",
      "c:\\Users\\Yang\\anaconda3\\envs\\poly\\lib\\site-packages\\numpy\\lib\\function_base.py:2830: RuntimeWarning: invalid value encountered in true_divide\n",
      "  c /= stddev[None, :]\n"
     ]
    }
   ],
   "source": [
    "mask_pq = screen_high_pcc(atom_q, names=DGQ.name_atom_feat, th=1-1e-3, axis=1)\n",
    "mask_pf = screen_high_pcc(atom_f, names=DGF.name_atom_feat, th=1-1e-3, axis=1)"
   ]
  },
  {
   "cell_type": "markdown",
   "metadata": {},
   "source": [
    "- feature mask"
   ]
  },
  {
   "cell_type": "code",
   "execution_count": 12,
   "metadata": {},
   "outputs": [
    {
     "data": {
      "text/plain": [
       "16"
      ]
     },
     "execution_count": 12,
     "metadata": {},
     "output_type": "execute_result"
    }
   ],
   "source": [
    "mask_atom_feat = mask_vq & mask_vf & mask_pq & mask_pf\n",
    "np.sum(mask_atom_feat)"
   ]
  },
  {
   "cell_type": "markdown",
   "metadata": {},
   "source": [
    "#### Bond feature"
   ]
  },
  {
   "cell_type": "markdown",
   "metadata": {},
   "source": [
    "- screen by variance"
   ]
  },
  {
   "cell_type": "code",
   "execution_count": 13,
   "metadata": {},
   "outputs": [
    {
     "name": "stdout",
     "output_type": "stream",
     "text": [
      "Total 0 features are screened (th: 0.00010)\n",
      "   Screened indexes:\n",
      "\t []\n",
      "   Screened feature names:\n",
      " \t []\n",
      "   Dimension: (2517932, 5) -> (2517932, 5)\n",
      "Total 0 features are screened (th: 0.00001)\n",
      "   Screened indexes:\n",
      "\t []\n",
      "   Screened feature names:\n",
      " \t []\n",
      "   Dimension: (1134, 5) -> (1134, 5)\n"
     ]
    }
   ],
   "source": [
    "mask_vq = screen_low_var(bond_q, names=DGQ.name_bond_feat, th=1e-4, axis=1)\n",
    "mask_vf = screen_low_var(bond_f, names=DGF.name_bond_feat, th=1e-5, axis=1)"
   ]
  },
  {
   "cell_type": "markdown",
   "metadata": {},
   "source": [
    "- screen by pcc"
   ]
  },
  {
   "cell_type": "code",
   "execution_count": 14,
   "metadata": {},
   "outputs": [
    {
     "name": "stdout",
     "output_type": "stream",
     "text": [
      "Total 1 features are screened (th: 0.99000)\n",
      "   Screened indexes:\n",
      "\t [2]\n",
      "   List of indexes:\n",
      "\t  0 [BondType]           : 2 [IsAromatic]\n",
      "   Screened feature names:\n",
      " \t ['IsAromatic']\n",
      "   Dimension: (2517932, 5) -> (2517932, 4)\n",
      "Total 0 features are screened (th: 0.99900)\n",
      "   Screened indexes:\n",
      "\t []\n",
      "   List of indexes:\n",
      "   Screened feature names:\n",
      " \t []\n",
      "   Dimension: (1134, 5) -> (1134, 5)\n"
     ]
    }
   ],
   "source": [
    "mask_pq = screen_high_pcc(bond_q, names=DGQ.name_bond_feat, th=1-1e-2, axis=1)\n",
    "mask_pf = screen_high_pcc(bond_f, names=DGF.name_bond_feat, th=1-1e-3, axis=1)"
   ]
  },
  {
   "cell_type": "markdown",
   "metadata": {},
   "source": [
    "- feature mask"
   ]
  },
  {
   "cell_type": "code",
   "execution_count": 15,
   "metadata": {},
   "outputs": [
    {
     "data": {
      "text/plain": [
       "4"
      ]
     },
     "execution_count": 15,
     "metadata": {},
     "output_type": "execute_result"
    }
   ],
   "source": [
    "mask_bond_feat = mask_vq & mask_vf & mask_pq & mask_pf\n",
    "np.sum(mask_bond_feat)"
   ]
  },
  {
   "cell_type": "markdown",
   "metadata": {},
   "source": [
    "#### Molecular feature"
   ]
  },
  {
   "cell_type": "markdown",
   "metadata": {},
   "source": [
    "- screen by variance"
   ]
  },
  {
   "cell_type": "code",
   "execution_count": 16,
   "metadata": {},
   "outputs": [
    {
     "name": "stdout",
     "output_type": "stream",
     "text": [
      "Total 103 features are screened (th: 0.00010)\n",
      "   Screened indexes:\n",
      "\t [  9  44  45  46  47  48  49  50  51  52  53  54  55  56  57  58  59  60\n",
      "  61  62  63  64  65  66  67  68  69  70  71  72  73  74  75  76  77  78\n",
      "  79  80  81  82  83  84  85  86  87  88  89  90  91  92  93  94  95  96\n",
      "  97  98  99 100 101 126 134 140 144 153 154 155 157 159 160 167 168 171\n",
      " 172 181 182 183 189 190 194 197 198 199 202 203 204 261 262 269 270 277\n",
      " 278 286 292 293 294 295 296 297 298 299 300 301 302]\n",
      "   Screened feature names:\n",
      " \t ['NumRadicalElectrons' 'PEOE_VSA1' 'PEOE_VSA10' 'PEOE_VSA11' 'PEOE_VSA12'\n",
      " 'PEOE_VSA13' 'PEOE_VSA14' 'PEOE_VSA2' 'PEOE_VSA3' 'PEOE_VSA4' 'PEOE_VSA5'\n",
      " 'PEOE_VSA6' 'PEOE_VSA7' 'PEOE_VSA8' 'PEOE_VSA9' 'SMR_VSA1' 'SMR_VSA10'\n",
      " 'SMR_VSA2' 'SMR_VSA3' 'SMR_VSA4' 'SMR_VSA5' 'SMR_VSA6' 'SMR_VSA7'\n",
      " 'SMR_VSA8' 'SMR_VSA9' 'SlogP_VSA1' 'SlogP_VSA10' 'SlogP_VSA11'\n",
      " 'SlogP_VSA12' 'SlogP_VSA2' 'SlogP_VSA3' 'SlogP_VSA4' 'SlogP_VSA5'\n",
      " 'SlogP_VSA6' 'SlogP_VSA7' 'SlogP_VSA8' 'SlogP_VSA9' 'TPSA' 'EState_VSA1'\n",
      " 'EState_VSA10' 'EState_VSA11' 'EState_VSA2' 'EState_VSA3' 'EState_VSA4'\n",
      " 'EState_VSA5' 'EState_VSA6' 'EState_VSA7' 'EState_VSA8' 'EState_VSA9'\n",
      " 'VSA_EState1' 'VSA_EState10' 'VSA_EState2' 'VSA_EState3' 'VSA_EState4'\n",
      " 'VSA_EState5' 'VSA_EState6' 'VSA_EState7' 'VSA_EState8' 'VSA_EState9'\n",
      " 'fr_Ar_COO' 'fr_C_S' 'fr_N_O' 'fr_SH' 'fr_azide' 'fr_azo' 'fr_barbitur'\n",
      " 'fr_benzodiazepine' 'fr_diazo' 'fr_dihydropyridine' 'fr_hdrzine'\n",
      " 'fr_hdrzone' 'fr_isocyan' 'fr_isothiocyan' 'fr_nitro_arom'\n",
      " 'fr_nitro_arom_nonortho' 'fr_nitroso' 'fr_phos_acid' 'fr_phos_ester'\n",
      " 'fr_prisulfonamd' 'fr_sulfide' 'fr_sulfonamd' 'fr_sulfone' 'fr_thiazole'\n",
      " 'fr_thiocyan' 'fr_thiophene' 'AUTOCORR2D_55' 'AUTOCORR2D_56'\n",
      " 'AUTOCORR2D_63' 'AUTOCORR2D_64' 'AUTOCORR2D_71' 'AUTOCORR2D_72'\n",
      " 'AUTOCORR2D_80' 'AUTOCORR2D_86' 'AUTOCORR2D_87' 'AUTOCORR2D_88'\n",
      " 'AUTOCORR2D_89' 'AUTOCORR2D_90' 'AUTOCORR2D_91' 'AUTOCORR2D_92'\n",
      " 'AUTOCORR2D_93' 'AUTOCORR2D_94' 'AUTOCORR2D_95' 'AUTOCORR2D_96']\n",
      "   Dimension: (133885, 399) -> (133885, 296)\n",
      "Total 61 features are screened (th: 0.00001)\n",
      "   Screened indexes:\n",
      "\t [  9 125 126 127 128 129 134 135 136 139 140 142 143 144 145 146 148 150\n",
      " 152 153 154 155 157 159 160 161 165 167 168 169 170 171 172 175 176 178\n",
      " 180 181 182 183 184 185 187 188 189 190 191 192 193 194 195 196 197 198\n",
      " 199 200 201 202 203 204 206]\n",
      "   Screened feature names:\n",
      " \t ['NumRadicalElectrons' 'fr_ArN' 'fr_Ar_COO' 'fr_Ar_N' 'fr_Ar_NH'\n",
      " 'fr_Ar_OH' 'fr_C_S' 'fr_HOCCN' 'fr_Imine' 'fr_NH2' 'fr_N_O'\n",
      " 'fr_Ndealkylation2' 'fr_Nhpyrrole' 'fr_SH' 'fr_aldehyde'\n",
      " 'fr_alkyl_carbamate' 'fr_allylic_oxid' 'fr_amidine' 'fr_aryl_methyl'\n",
      " 'fr_azide' 'fr_azo' 'fr_barbitur' 'fr_benzodiazepine' 'fr_diazo'\n",
      " 'fr_dihydropyridine' 'fr_epoxide' 'fr_guanido' 'fr_hdrzine' 'fr_hdrzone'\n",
      " 'fr_imidazole' 'fr_imide' 'fr_isocyan' 'fr_isothiocyan' 'fr_lactam'\n",
      " 'fr_lactone' 'fr_morpholine' 'fr_nitro' 'fr_nitro_arom'\n",
      " 'fr_nitro_arom_nonortho' 'fr_nitroso' 'fr_oxazole' 'fr_oxime' 'fr_phenol'\n",
      " 'fr_phenol_noOrthoHbond' 'fr_phos_acid' 'fr_phos_ester' 'fr_piperdine'\n",
      " 'fr_piperzine' 'fr_priamide' 'fr_prisulfonamd' 'fr_pyridine' 'fr_quatN'\n",
      " 'fr_sulfide' 'fr_sulfonamd' 'fr_sulfone' 'fr_term_acetylene'\n",
      " 'fr_tetrazole' 'fr_thiazole' 'fr_thiocyan' 'fr_thiophene' 'fr_urea']\n",
      "   Dimension: (46, 399) -> (46, 338)\n"
     ]
    }
   ],
   "source": [
    "mask_vq = screen_low_var(mol_q, names=DGQ.name_mol_feat, th=1e-4, axis=1)\n",
    "mask_vf = screen_low_var(mol_f, names=DGF.name_mol_feat, th=1e-5, axis=1)"
   ]
  },
  {
   "cell_type": "markdown",
   "metadata": {},
   "source": [
    "- screen by pcc"
   ]
  },
  {
   "cell_type": "code",
   "execution_count": 17,
   "metadata": {},
   "outputs": [
    {
     "name": "stdout",
     "output_type": "stream",
     "text": [
      "Total 142 features are screened (th: 0.99000)\n",
      "   Screened indexes:\n",
      "\t [  2   6   7   8  10  12  17  18  26  29  32  34  36  38  40  43  44  45\n",
      "  46  47  48  49  50  51  52  53  54  55  56  57  58  59  60  61  62  63\n",
      "  64  65  66  67  68  69  70  71  72  73  74  75  76  77  78  79  80  81\n",
      "  82  83  84  85  86  87  88  89  90  91  92  93  94  95  96  97  98  99\n",
      " 100 101 111 121 130 131 133 143 182 188 223 224 225 226 227 228 229 230\n",
      " 239 240 242 243 244 245 246 275 276 277 278 295 296 297 298 299 300 301\n",
      " 302 319 320 321 322 323 324 325 326 327 328 329 330 331 332 333 334 367\n",
      " 368 369 370 371 372 373 374 375 376 377 378 379 380 381 382 398]\n",
      "   List of indexes:\n",
      "\t  0 [MaxEStateIndex]     : 2 [MaxAbsEStateIndex]\n",
      "\t  5 [MolWt]              : 6 [HeavyAtomMolWt], 7 [ExactMolWt], 8 [NumValenceElectrons], 10 [MaxPartialCharge], 17 [BCUT2D_MWHI], 18 [BCUT2D_MWLOW], 26 [BertzCT], 40 [Ipc], 43 [LabuteASA], 44 [PEOE_VSA1], 45 [PEOE_VSA10], 46 [PEOE_VSA11], 47 [PEOE_VSA12], 48 [PEOE_VSA13], 49 [PEOE_VSA14], 50 [PEOE_VSA2], 51 [PEOE_VSA3], 52 [PEOE_VSA4], 53 [PEOE_VSA5], 54 [PEOE_VSA6], 55 [PEOE_VSA7], 56 [PEOE_VSA8], 57 [PEOE_VSA9], 58 [SMR_VSA1], 59 [SMR_VSA10], 60 [SMR_VSA2], 61 [SMR_VSA3], 62 [SMR_VSA4], 63 [SMR_VSA5], 64 [SMR_VSA6], 65 [SMR_VSA7], 66 [SMR_VSA8], 67 [SMR_VSA9], 68 [SlogP_VSA1], 69 [SlogP_VSA10], 70 [SlogP_VSA11], 71 [SlogP_VSA12], 72 [SlogP_VSA2], 73 [SlogP_VSA3], 74 [SlogP_VSA4], 75 [SlogP_VSA5], 76 [SlogP_VSA6], 77 [SlogP_VSA7], 78 [SlogP_VSA8], 79 [SlogP_VSA9], 80 [TPSA], 81 [EState_VSA1], 82 [EState_VSA10], 83 [EState_VSA11], 84 [EState_VSA2], 85 [EState_VSA3], 86 [EState_VSA4], 87 [EState_VSA5], 88 [EState_VSA6], 89 [EState_VSA7], 90 [EState_VSA8], 91 [EState_VSA9], 92 [VSA_EState1], 93 [VSA_EState10], 94 [VSA_EState2], 95 [VSA_EState3], 96 [VSA_EState4], 97 [VSA_EState5], 98 [VSA_EState6], 99 [VSA_EState7], 100 [VSA_EState8], 101 [VSA_EState9], 121 [MolMR], 295 [AUTOCORR2D_89], 296 [AUTOCORR2D_90], 297 [AUTOCORR2D_91], 298 [AUTOCORR2D_92], 299 [AUTOCORR2D_93], 300 [AUTOCORR2D_94], 301 [AUTOCORR2D_95], 302 [AUTOCORR2D_96], 398 [AUTOCORR2D_192]\n",
      "\t 11 [MinPartialCharge]   : 12 [MaxAbsPartialCharge]\n",
      "\t 28 [Chi0n]              : 29 [Chi0v]\n",
      "\t 31 [Chi1n]              : 32 [Chi1v]\n",
      "\t 33 [Chi2n]              : 34 [Chi2v]\n",
      "\t 35 [Chi3n]              : 36 [Chi3v]\n",
      "\t 37 [Chi4n]              : 38 [Chi4v]\n",
      "\t110 [NumAromaticHeterocycles] : 111 [NumAromaticRings]\n",
      "\t122 [fr_Al_COO]          : 130 [fr_COO], 131 [fr_COO2]\n",
      "\t128 [fr_Ar_NH]           : 143 [fr_Nhpyrrole]\n",
      "\t132 [fr_C_O]             : 133 [fr_C_O_noCOO]\n",
      "\t181 [fr_nitro_arom]      : 182 [fr_nitro_arom_nonortho]\n",
      "\t187 [fr_phenol]          : 188 [fr_phenol_noOrthoHbond]\n",
      "\t207 [AUTOCORR2D_1]       : 223 [AUTOCORR2D_17], 239 [AUTOCORR2D_33]\n",
      "\t208 [AUTOCORR2D_2]       : 224 [AUTOCORR2D_18], 240 [AUTOCORR2D_34]\n",
      "\t209 [AUTOCORR2D_3]       : 225 [AUTOCORR2D_19]\n",
      "\t210 [AUTOCORR2D_4]       : 226 [AUTOCORR2D_20], 242 [AUTOCORR2D_36]\n",
      "\t211 [AUTOCORR2D_5]       : 227 [AUTOCORR2D_21], 243 [AUTOCORR2D_37]\n",
      "\t212 [AUTOCORR2D_6]       : 228 [AUTOCORR2D_22], 244 [AUTOCORR2D_38]\n",
      "\t213 [AUTOCORR2D_7]       : 229 [AUTOCORR2D_23], 245 [AUTOCORR2D_39]\n",
      "\t214 [AUTOCORR2D_8]       : 230 [AUTOCORR2D_24], 246 [AUTOCORR2D_40]\n",
      "\t259 [AUTOCORR2D_53]      : 275 [AUTOCORR2D_69]\n",
      "\t260 [AUTOCORR2D_54]      : 276 [AUTOCORR2D_70]\n",
      "\t261 [AUTOCORR2D_55]      : 277 [AUTOCORR2D_71]\n",
      "\t262 [AUTOCORR2D_56]      : 278 [AUTOCORR2D_72]\n",
      "\t303 [AUTOCORR2D_97]      : 319 [AUTOCORR2D_113], 327 [AUTOCORR2D_121]\n",
      "\t304 [AUTOCORR2D_98]      : 320 [AUTOCORR2D_114], 328 [AUTOCORR2D_122]\n",
      "\t305 [AUTOCORR2D_99]      : 321 [AUTOCORR2D_115], 329 [AUTOCORR2D_123]\n",
      "\t306 [AUTOCORR2D_100]     : 322 [AUTOCORR2D_116]\n",
      "\t307 [AUTOCORR2D_101]     : 323 [AUTOCORR2D_117]\n",
      "\t308 [AUTOCORR2D_102]     : 324 [AUTOCORR2D_118]\n",
      "\t309 [AUTOCORR2D_103]     : 325 [AUTOCORR2D_119]\n",
      "\t310 [AUTOCORR2D_104]     : 326 [AUTOCORR2D_120]\n",
      "\t311 [AUTOCORR2D_105]     : 327 [AUTOCORR2D_121]\n",
      "\t312 [AUTOCORR2D_106]     : 328 [AUTOCORR2D_122]\n",
      "\t313 [AUTOCORR2D_107]     : 329 [AUTOCORR2D_123]\n",
      "\t314 [AUTOCORR2D_108]     : 330 [AUTOCORR2D_124]\n",
      "\t315 [AUTOCORR2D_109]     : 331 [AUTOCORR2D_125]\n",
      "\t316 [AUTOCORR2D_110]     : 332 [AUTOCORR2D_126]\n",
      "\t317 [AUTOCORR2D_111]     : 333 [AUTOCORR2D_127]\n",
      "\t318 [AUTOCORR2D_112]     : 334 [AUTOCORR2D_128]\n",
      "\t351 [AUTOCORR2D_145]     : 367 [AUTOCORR2D_161]\n",
      "\t352 [AUTOCORR2D_146]     : 368 [AUTOCORR2D_162]\n",
      "\t353 [AUTOCORR2D_147]     : 369 [AUTOCORR2D_163]\n",
      "\t354 [AUTOCORR2D_148]     : 370 [AUTOCORR2D_164]\n",
      "\t355 [AUTOCORR2D_149]     : 371 [AUTOCORR2D_165]\n",
      "\t356 [AUTOCORR2D_150]     : 372 [AUTOCORR2D_166]\n",
      "\t357 [AUTOCORR2D_151]     : 373 [AUTOCORR2D_167], 381 [AUTOCORR2D_175]\n",
      "\t358 [AUTOCORR2D_152]     : 374 [AUTOCORR2D_168], 382 [AUTOCORR2D_176]\n",
      "\t359 [AUTOCORR2D_153]     : 375 [AUTOCORR2D_169]\n",
      "\t360 [AUTOCORR2D_154]     : 376 [AUTOCORR2D_170]\n",
      "\t361 [AUTOCORR2D_155]     : 377 [AUTOCORR2D_171]\n",
      "\t362 [AUTOCORR2D_156]     : 378 [AUTOCORR2D_172]\n",
      "\t363 [AUTOCORR2D_157]     : 379 [AUTOCORR2D_173]\n",
      "\t364 [AUTOCORR2D_158]     : 380 [AUTOCORR2D_174]\n",
      "\t365 [AUTOCORR2D_159]     : 381 [AUTOCORR2D_175]\n",
      "\t366 [AUTOCORR2D_160]     : 382 [AUTOCORR2D_176]\n",
      "   Screened feature names:\n",
      " \t ['MaxAbsEStateIndex' 'HeavyAtomMolWt' 'ExactMolWt' 'NumValenceElectrons'\n",
      " 'MaxPartialCharge' 'MaxAbsPartialCharge' 'BCUT2D_MWHI' 'BCUT2D_MWLOW'\n",
      " 'BertzCT' 'Chi0v' 'Chi1v' 'Chi2v' 'Chi3v' 'Chi4v' 'Ipc' 'LabuteASA'\n",
      " 'PEOE_VSA1' 'PEOE_VSA10' 'PEOE_VSA11' 'PEOE_VSA12' 'PEOE_VSA13'\n",
      " 'PEOE_VSA14' 'PEOE_VSA2' 'PEOE_VSA3' 'PEOE_VSA4' 'PEOE_VSA5' 'PEOE_VSA6'\n",
      " 'PEOE_VSA7' 'PEOE_VSA8' 'PEOE_VSA9' 'SMR_VSA1' 'SMR_VSA10' 'SMR_VSA2'\n",
      " 'SMR_VSA3' 'SMR_VSA4' 'SMR_VSA5' 'SMR_VSA6' 'SMR_VSA7' 'SMR_VSA8'\n",
      " 'SMR_VSA9' 'SlogP_VSA1' 'SlogP_VSA10' 'SlogP_VSA11' 'SlogP_VSA12'\n",
      " 'SlogP_VSA2' 'SlogP_VSA3' 'SlogP_VSA4' 'SlogP_VSA5' 'SlogP_VSA6'\n",
      " 'SlogP_VSA7' 'SlogP_VSA8' 'SlogP_VSA9' 'TPSA' 'EState_VSA1'\n",
      " 'EState_VSA10' 'EState_VSA11' 'EState_VSA2' 'EState_VSA3' 'EState_VSA4'\n",
      " 'EState_VSA5' 'EState_VSA6' 'EState_VSA7' 'EState_VSA8' 'EState_VSA9'\n",
      " 'VSA_EState1' 'VSA_EState10' 'VSA_EState2' 'VSA_EState3' 'VSA_EState4'\n",
      " 'VSA_EState5' 'VSA_EState6' 'VSA_EState7' 'VSA_EState8' 'VSA_EState9'\n",
      " 'NumAromaticRings' 'MolMR' 'fr_COO' 'fr_COO2' 'fr_C_O_noCOO'\n",
      " 'fr_Nhpyrrole' 'fr_nitro_arom_nonortho' 'fr_phenol_noOrthoHbond'\n",
      " 'AUTOCORR2D_17' 'AUTOCORR2D_18' 'AUTOCORR2D_19' 'AUTOCORR2D_20'\n",
      " 'AUTOCORR2D_21' 'AUTOCORR2D_22' 'AUTOCORR2D_23' 'AUTOCORR2D_24'\n",
      " 'AUTOCORR2D_33' 'AUTOCORR2D_34' 'AUTOCORR2D_36' 'AUTOCORR2D_37'\n",
      " 'AUTOCORR2D_38' 'AUTOCORR2D_39' 'AUTOCORR2D_40' 'AUTOCORR2D_69'\n",
      " 'AUTOCORR2D_70' 'AUTOCORR2D_71' 'AUTOCORR2D_72' 'AUTOCORR2D_89'\n",
      " 'AUTOCORR2D_90' 'AUTOCORR2D_91' 'AUTOCORR2D_92' 'AUTOCORR2D_93'\n",
      " 'AUTOCORR2D_94' 'AUTOCORR2D_95' 'AUTOCORR2D_96' 'AUTOCORR2D_113'\n",
      " 'AUTOCORR2D_114' 'AUTOCORR2D_115' 'AUTOCORR2D_116' 'AUTOCORR2D_117'\n",
      " 'AUTOCORR2D_118' 'AUTOCORR2D_119' 'AUTOCORR2D_120' 'AUTOCORR2D_121'\n",
      " 'AUTOCORR2D_122' 'AUTOCORR2D_123' 'AUTOCORR2D_124' 'AUTOCORR2D_125'\n",
      " 'AUTOCORR2D_126' 'AUTOCORR2D_127' 'AUTOCORR2D_128' 'AUTOCORR2D_161'\n",
      " 'AUTOCORR2D_162' 'AUTOCORR2D_163' 'AUTOCORR2D_164' 'AUTOCORR2D_165'\n",
      " 'AUTOCORR2D_166' 'AUTOCORR2D_167' 'AUTOCORR2D_168' 'AUTOCORR2D_169'\n",
      " 'AUTOCORR2D_170' 'AUTOCORR2D_171' 'AUTOCORR2D_172' 'AUTOCORR2D_173'\n",
      " 'AUTOCORR2D_174' 'AUTOCORR2D_175' 'AUTOCORR2D_176' 'AUTOCORR2D_192']\n",
      "   Dimension: (133885, 399) -> (133885, 257)\n",
      "Total 142 features are screened (th: 0.99900)\n",
      "   Screened indexes:\n",
      "\t [  2   6   7   8  10  12  17  18  26  29  32  34  36  38  40  43  45  46\n",
      "  47  48  49  50  51  52  53  54  55  56  57  58  59  60  61  62  63  64\n",
      "  65  66  67  68  69  70  71  72  73  74  75  76  77  78  79  80  81  82\n",
      "  83  84  85  86  87  88  89  90  91  92  93  94  95  96  97  98  99 100\n",
      " 101 113 116 117 118 121 124 130 131 149 156 164 166 173 174 223 224 225\n",
      " 226 227 228 229 230 239 240 241 242 243 244 245 246 271 272 273 274 275\n",
      " 276 277 278 279 280 281 282 283 284 285 286 288 290 295 296 297 298 299\n",
      " 300 301 302 326 329 331 332 334 366 373 374 378 380 382 390 398]\n",
      "   List of indexes:\n",
      "\t  0 [MaxEStateIndex]     : 2 [MaxAbsEStateIndex]\n",
      "\t  5 [MolWt]              : 6 [HeavyAtomMolWt], 7 [ExactMolWt], 8 [NumValenceElectrons], 10 [MaxPartialCharge], 17 [BCUT2D_MWHI], 18 [BCUT2D_MWLOW], 26 [BertzCT], 40 [Ipc], 43 [LabuteASA], 121 [MolMR]\n",
      "\t 11 [MinPartialCharge]   : 12 [MaxAbsPartialCharge]\n",
      "\t 28 [Chi0n]              : 29 [Chi0v]\n",
      "\t 31 [Chi1n]              : 32 [Chi1v]\n",
      "\t 33 [Chi2n]              : 34 [Chi2v]\n",
      "\t 35 [Chi3n]              : 36 [Chi3v]\n",
      "\t 37 [Chi4n]              : 38 [Chi4v]\n",
      "\t 44 [PEOE_VSA1]          : 45 [PEOE_VSA10], 46 [PEOE_VSA11], 47 [PEOE_VSA12], 48 [PEOE_VSA13], 49 [PEOE_VSA14], 50 [PEOE_VSA2], 51 [PEOE_VSA3], 52 [PEOE_VSA4], 53 [PEOE_VSA5], 54 [PEOE_VSA6], 55 [PEOE_VSA7], 56 [PEOE_VSA8], 57 [PEOE_VSA9], 58 [SMR_VSA1], 59 [SMR_VSA10], 60 [SMR_VSA2], 61 [SMR_VSA3], 62 [SMR_VSA4], 63 [SMR_VSA5], 64 [SMR_VSA6], 65 [SMR_VSA7], 66 [SMR_VSA8], 67 [SMR_VSA9], 68 [SlogP_VSA1], 69 [SlogP_VSA10], 70 [SlogP_VSA11], 71 [SlogP_VSA12], 72 [SlogP_VSA2], 73 [SlogP_VSA3], 74 [SlogP_VSA4], 75 [SlogP_VSA5], 76 [SlogP_VSA6], 77 [SlogP_VSA7], 78 [SlogP_VSA8], 79 [SlogP_VSA9], 80 [TPSA], 81 [EState_VSA1], 82 [EState_VSA10], 83 [EState_VSA11], 84 [EState_VSA2], 85 [EState_VSA3], 86 [EState_VSA4], 87 [EState_VSA5], 88 [EState_VSA6], 89 [EState_VSA7], 90 [EState_VSA8], 91 [EState_VSA9], 92 [VSA_EState1], 93 [VSA_EState10], 94 [VSA_EState2], 95 [VSA_EState3], 96 [VSA_EState4], 97 [VSA_EState5], 98 [VSA_EState6], 99 [VSA_EState7], 100 [VSA_EState8], 101 [VSA_EState9], 295 [AUTOCORR2D_89], 296 [AUTOCORR2D_90], 297 [AUTOCORR2D_91], 298 [AUTOCORR2D_92], 299 [AUTOCORR2D_93], 300 [AUTOCORR2D_94], 301 [AUTOCORR2D_95], 302 [AUTOCORR2D_96], 398 [AUTOCORR2D_192]\n",
      "\t104 [NHOHCount]          : 113 [NumHDonors]\n",
      "\t106 [NumAliphaticCarbocycles] : 116 [NumSaturatedCarbocycles]\n",
      "\t107 [NumAliphaticHeterocycles] : 117 [NumSaturatedHeterocycles]\n",
      "\t108 [NumAliphaticRings]  : 118 [NumSaturatedRings]\n",
      "\t109 [NumAromaticCarbocycles] : 156 [fr_benzene]\n",
      "\t110 [NumAromaticHeterocycles] : 164 [fr_furan]\n",
      "\t122 [fr_Al_COO]          : 130 [fr_COO], 131 [fr_COO2]\n",
      "\t123 [fr_Al_OH]           : 124 [fr_Al_OH_noTert]\n",
      "\t132 [fr_C_O]             : 173 [fr_ketone], 174 [fr_ketone_Topliss]\n",
      "\t138 [fr_NH1]             : 149 [fr_amide]\n",
      "\t147 [fr_alkyl_halide]    : 166 [fr_halogen]\n",
      "\t207 [AUTOCORR2D_1]       : 223 [AUTOCORR2D_17], 239 [AUTOCORR2D_33]\n",
      "\t208 [AUTOCORR2D_2]       : 224 [AUTOCORR2D_18], 240 [AUTOCORR2D_34]\n",
      "\t209 [AUTOCORR2D_3]       : 225 [AUTOCORR2D_19], 241 [AUTOCORR2D_35]\n",
      "\t210 [AUTOCORR2D_4]       : 226 [AUTOCORR2D_20], 242 [AUTOCORR2D_36]\n",
      "\t211 [AUTOCORR2D_5]       : 227 [AUTOCORR2D_21], 243 [AUTOCORR2D_37]\n",
      "\t212 [AUTOCORR2D_6]       : 228 [AUTOCORR2D_22], 244 [AUTOCORR2D_38]\n",
      "\t213 [AUTOCORR2D_7]       : 229 [AUTOCORR2D_23], 245 [AUTOCORR2D_39]\n",
      "\t214 [AUTOCORR2D_8]       : 230 [AUTOCORR2D_24], 246 [AUTOCORR2D_40]\n",
      "\t255 [AUTOCORR2D_49]      : 271 [AUTOCORR2D_65]\n",
      "\t256 [AUTOCORR2D_50]      : 272 [AUTOCORR2D_66], 288 [AUTOCORR2D_82]\n",
      "\t257 [AUTOCORR2D_51]      : 273 [AUTOCORR2D_67]\n",
      "\t258 [AUTOCORR2D_52]      : 274 [AUTOCORR2D_68], 290 [AUTOCORR2D_84]\n",
      "\t263 [AUTOCORR2D_57]      : 271 [AUTOCORR2D_65], 279 [AUTOCORR2D_73]\n",
      "\t264 [AUTOCORR2D_58]      : 272 [AUTOCORR2D_66], 280 [AUTOCORR2D_74]\n",
      "\t265 [AUTOCORR2D_59]      : 273 [AUTOCORR2D_67], 281 [AUTOCORR2D_75]\n",
      "\t266 [AUTOCORR2D_60]      : 274 [AUTOCORR2D_68], 282 [AUTOCORR2D_76]\n",
      "\t267 [AUTOCORR2D_61]      : 275 [AUTOCORR2D_69], 283 [AUTOCORR2D_77]\n",
      "\t268 [AUTOCORR2D_62]      : 276 [AUTOCORR2D_70], 284 [AUTOCORR2D_78]\n",
      "\t269 [AUTOCORR2D_63]      : 277 [AUTOCORR2D_71], 285 [AUTOCORR2D_79]\n",
      "\t270 [AUTOCORR2D_64]      : 278 [AUTOCORR2D_72], 286 [AUTOCORR2D_80]\n",
      "\t313 [AUTOCORR2D_107]     : 329 [AUTOCORR2D_123]\n",
      "\t315 [AUTOCORR2D_109]     : 331 [AUTOCORR2D_125]\n",
      "\t316 [AUTOCORR2D_110]     : 332 [AUTOCORR2D_126]\n",
      "\t318 [AUTOCORR2D_112]     : 326 [AUTOCORR2D_120], 334 [AUTOCORR2D_128]\n",
      "\t357 [AUTOCORR2D_151]     : 373 [AUTOCORR2D_167]\n",
      "\t358 [AUTOCORR2D_152]     : 366 [AUTOCORR2D_160], 374 [AUTOCORR2D_168], 382 [AUTOCORR2D_176], 390 [AUTOCORR2D_184]\n",
      "\t362 [AUTOCORR2D_156]     : 378 [AUTOCORR2D_172]\n",
      "\t364 [AUTOCORR2D_158]     : 380 [AUTOCORR2D_174]\n",
      "   Screened feature names:\n",
      " \t ['MaxAbsEStateIndex' 'HeavyAtomMolWt' 'ExactMolWt' 'NumValenceElectrons'\n",
      " 'MaxPartialCharge' 'MaxAbsPartialCharge' 'BCUT2D_MWHI' 'BCUT2D_MWLOW'\n",
      " 'BertzCT' 'Chi0v' 'Chi1v' 'Chi2v' 'Chi3v' 'Chi4v' 'Ipc' 'LabuteASA'\n",
      " 'PEOE_VSA10' 'PEOE_VSA11' 'PEOE_VSA12' 'PEOE_VSA13' 'PEOE_VSA14'\n",
      " 'PEOE_VSA2' 'PEOE_VSA3' 'PEOE_VSA4' 'PEOE_VSA5' 'PEOE_VSA6' 'PEOE_VSA7'\n",
      " 'PEOE_VSA8' 'PEOE_VSA9' 'SMR_VSA1' 'SMR_VSA10' 'SMR_VSA2' 'SMR_VSA3'\n",
      " 'SMR_VSA4' 'SMR_VSA5' 'SMR_VSA6' 'SMR_VSA7' 'SMR_VSA8' 'SMR_VSA9'\n",
      " 'SlogP_VSA1' 'SlogP_VSA10' 'SlogP_VSA11' 'SlogP_VSA12' 'SlogP_VSA2'\n",
      " 'SlogP_VSA3' 'SlogP_VSA4' 'SlogP_VSA5' 'SlogP_VSA6' 'SlogP_VSA7'\n",
      " 'SlogP_VSA8' 'SlogP_VSA9' 'TPSA' 'EState_VSA1' 'EState_VSA10'\n",
      " 'EState_VSA11' 'EState_VSA2' 'EState_VSA3' 'EState_VSA4' 'EState_VSA5'\n",
      " 'EState_VSA6' 'EState_VSA7' 'EState_VSA8' 'EState_VSA9' 'VSA_EState1'\n",
      " 'VSA_EState10' 'VSA_EState2' 'VSA_EState3' 'VSA_EState4' 'VSA_EState5'\n",
      " 'VSA_EState6' 'VSA_EState7' 'VSA_EState8' 'VSA_EState9' 'NumHDonors'\n",
      " 'NumSaturatedCarbocycles' 'NumSaturatedHeterocycles' 'NumSaturatedRings'\n",
      " 'MolMR' 'fr_Al_OH_noTert' 'fr_COO' 'fr_COO2' 'fr_amide' 'fr_benzene'\n",
      " 'fr_furan' 'fr_halogen' 'fr_ketone' 'fr_ketone_Topliss' 'AUTOCORR2D_17'\n",
      " 'AUTOCORR2D_18' 'AUTOCORR2D_19' 'AUTOCORR2D_20' 'AUTOCORR2D_21'\n",
      " 'AUTOCORR2D_22' 'AUTOCORR2D_23' 'AUTOCORR2D_24' 'AUTOCORR2D_33'\n",
      " 'AUTOCORR2D_34' 'AUTOCORR2D_35' 'AUTOCORR2D_36' 'AUTOCORR2D_37'\n",
      " 'AUTOCORR2D_38' 'AUTOCORR2D_39' 'AUTOCORR2D_40' 'AUTOCORR2D_65'\n",
      " 'AUTOCORR2D_66' 'AUTOCORR2D_67' 'AUTOCORR2D_68' 'AUTOCORR2D_69'\n",
      " 'AUTOCORR2D_70' 'AUTOCORR2D_71' 'AUTOCORR2D_72' 'AUTOCORR2D_73'\n",
      " 'AUTOCORR2D_74' 'AUTOCORR2D_75' 'AUTOCORR2D_76' 'AUTOCORR2D_77'\n",
      " 'AUTOCORR2D_78' 'AUTOCORR2D_79' 'AUTOCORR2D_80' 'AUTOCORR2D_82'\n",
      " 'AUTOCORR2D_84' 'AUTOCORR2D_89' 'AUTOCORR2D_90' 'AUTOCORR2D_91'\n",
      " 'AUTOCORR2D_92' 'AUTOCORR2D_93' 'AUTOCORR2D_94' 'AUTOCORR2D_95'\n",
      " 'AUTOCORR2D_96' 'AUTOCORR2D_120' 'AUTOCORR2D_123' 'AUTOCORR2D_125'\n",
      " 'AUTOCORR2D_126' 'AUTOCORR2D_128' 'AUTOCORR2D_160' 'AUTOCORR2D_167'\n",
      " 'AUTOCORR2D_168' 'AUTOCORR2D_172' 'AUTOCORR2D_174' 'AUTOCORR2D_176'\n",
      " 'AUTOCORR2D_184' 'AUTOCORR2D_192']\n",
      "   Dimension: (46, 399) -> (46, 257)\n"
     ]
    }
   ],
   "source": [
    "mask_pq = screen_high_pcc(mol_q, names=DGQ.name_mol_feat, th=1-1e-2, axis=1)\n",
    "mask_pf = screen_high_pcc(mol_f, names=DGF.name_mol_feat, th=1-1e-3, axis=1)"
   ]
  },
  {
   "cell_type": "markdown",
   "metadata": {},
   "source": [
    "- feature mask"
   ]
  },
  {
   "cell_type": "code",
   "execution_count": 18,
   "metadata": {},
   "outputs": [
    {
     "data": {
      "text/plain": [
       "164"
      ]
     },
     "execution_count": 18,
     "metadata": {},
     "output_type": "execute_result"
    }
   ],
   "source": [
    "mask_mol_feat = mask_vq & mask_vf & mask_pq & mask_pf\n",
    "np.sum(mask_mol_feat)"
   ]
  },
  {
   "cell_type": "markdown",
   "metadata": {},
   "source": [
    "#### Save datasets"
   ]
  },
  {
   "cell_type": "markdown",
   "metadata": {},
   "source": [
    "- unscreened data"
   ]
  },
  {
   "cell_type": "code",
   "execution_count": 19,
   "metadata": {},
   "outputs": [],
   "source": [
    "DGQ.save('unscreened_dataset.qm9.pickle')\n",
    "DGF.save('unscreened_dataset.fpoly.pickle')"
   ]
  },
  {
   "cell_type": "markdown",
   "metadata": {},
   "source": [
    "- screened data"
   ]
  },
  {
   "cell_type": "code",
   "execution_count": 20,
   "metadata": {},
   "outputs": [
    {
     "name": "stderr",
     "output_type": "stream",
     "text": [
      "screen: 100%|██████████| 133885/133885 [00:02<00:00, 46927.74it/s]\n",
      "screen: 100%|██████████| 46/46 [00:00<00:00, 46003.33it/s]\n"
     ]
    }
   ],
   "source": [
    "DGQ.screen_by_mask(mask_atom=mask_atom_feat, \n",
    "                   mask_bond=mask_bond_feat, \n",
    "                   mask_mol=mask_mol_feat)\n",
    "DGF.screen_by_mask(mask_atom=mask_atom_feat, \n",
    "                   mask_bond=mask_bond_feat, \n",
    "                   mask_mol=mask_mol_feat)\n",
    "DGQ.save('screened_dataset.qm9.pickle', overwrite=True)\n",
    "DGF.save('screened_dataset.fpoly.pickle', overwrite=True)"
   ]
  },
  {
   "cell_type": "markdown",
   "metadata": {},
   "source": [
    "#### Inspect data for normalization"
   ]
  },
  {
   "cell_type": "code",
   "execution_count": 32,
   "metadata": {},
   "outputs": [],
   "source": [
    "def get_info(feat):\n",
    "    f = np.hstack(feat)\n",
    "    return f'mean: {np.mean(f):>10.3f}\\nmedi : {np.median(f):>10.3f}\\nmax  : {np.max(f):>10.3f}\\nmin   : {np.min(f):>10.3f}\\nvar    : {np.var(f):>10.3f}'"
   ]
  },
  {
   "cell_type": "code",
   "execution_count": 31,
   "metadata": {},
   "outputs": [
    {
     "name": "stderr",
     "output_type": "stream",
     "text": [
      "6it [00:00, 10.86it/s]\n"
     ]
    },
    {
     "data": {
      "image/png": "[encoded data removed]",
      "text/plain": [
       "<Figure size 1080x720 with 16 Axes>"
      ]
     },
     "metadata": {
      "needs_background": "light"
     },
     "output_type": "display_data"
    }
   ],
   "source": [
    "import tqdm\n",
    "idx=20\n",
    "f, axs = plt.subplots(5, 2, figsize=(15, 10))\n",
    "for i, ax in tqdm.tqdm(enumerate(axs.reshape(-1))):\n",
    "    if i + idx == atom_q.T.shape[0]: break\n",
    "    n = DGQ.name_atom_feat[i + idx]\n",
    "    feat1 = atom_q.T[i + idx].numpy()\n",
    "    ax.hist(feat1, bins=100, label=n)\n",
    "    feat2 = atom_f.T[i + idx].numpy()\n",
    "    ax2 = ax.twinx()\n",
    "    ax2.hist(feat2, bins=100, alpha=0.6, color=[1,0.3,0], label=get_info([feat1, feat2]))\n",
    "    ax.legend(loc='upper left', fontsize=12)\n",
    "    ax2.legend(loc='upper right', fontsize=10)\n",
    "    ax.set_yscale('log')\n",
    "    "
   ]
  }
 ],
 "metadata": {
  "kernelspec": {
   "display_name": "Python 3.9.12 ('poly')",
   "language": "python",
   "name": "python3"
  },
  "language_info": {
   "codemirror_mode": {
    "name": "ipython",
    "version": 3
   },
   "file_extension": ".py",
   "mimetype": "text/x-python",
   "name": "python",
   "nbconvert_exporter": "python",
   "pygments_lexer": "ipython3",
   "version": "3.9.12"
  },
  "orig_nbformat": 4,
  "vscode": {
   "interpreter": {
    "hash": "4ac5ef62f5e0b07369d6945e79e34c997f9bb925b2a6ecf3c2a383f4675d78b2"
   }
  }
 },
 "nbformat": 4,
 "nbformat_minor": 2
}
