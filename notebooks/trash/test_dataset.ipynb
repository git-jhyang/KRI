{
 "cells": [
  {
   "cell_type": "code",
   "execution_count": 1,
   "metadata": {},
   "outputs": [
    {
     "name": "stdout",
     "output_type": "stream",
     "text": [
      "  Overwriting attribute : norm\n",
      "  Overwriting attribute : data\n",
      "  Overwriting attribute : atom_feat_name\n",
      "  Overwriting attribute : bond_feat_name\n",
      "  Overwriting attribute : mol_feat_name\n",
      "  Overwriting attribute : target_desc\n",
      "  Overwriting attribute : tag\n",
      "  Overwriting attribute : cache_fn\n",
      "  Setting new attribute : unique_data\n"
     ]
    }
   ],
   "source": [
    "import os, sys\n",
    "sys.path.append('..')\n",
    "from src.utils.dataset import (QM9Dataset, FPolyDatasetV1, FPolyDatasetV2, \n",
    "                               basic_collate_fn, collate_fn,\n",
    "                               to_tensor, to_numpy)\n",
    "from src.model.modules import SingleEncoderModel, DualEncoderModel, IMaxEncoderModel\n",
    "from torch_geometric.nn import global_add_pool\n",
    "\n",
    "import numpy as np\n",
    "import torch\n",
    "\n",
    "#qds = QM9Dataset(norm=True)\n",
    "#qds.generate('./dataset/qm9.csv')\n",
    "#fds1 = FPolyDatasetV1(norm=True)\n",
    "#fds1.generate('./dataset/fpolymers_221123.train.csv')\n",
    "fds2 = FPolyDatasetV2(norm=True)\n",
    "fds2.generate('./dataset/fpolymers_221123.train.csv')"
   ]
  },
  {
   "cell_type": "code",
   "execution_count": 2,
   "metadata": {},
   "outputs": [],
   "source": [
    "encoder_params = {\n",
    "    'graph_net_params':{\n",
    "        'node_dim':26,\n",
    "        'edge_dim':5,\n",
    "        'output_dim':24\n",
    "    }, \n",
    "    'mol_net_params':{\n",
    "        'input_dim':399,\n",
    "        'output_dim':24\n",
    "    }\n",
    "}\n",
    "decoder_params = {\n",
    "    'hidden_dim':64,\n",
    "    'n_layer':4,\n",
    "    'output_dim':1\n",
    "}"
   ]
  },
  {
   "cell_type": "code",
   "execution_count": 3,
   "metadata": {},
   "outputs": [],
   "source": [
    "from torch.utils.data import DataLoader\n",
    "from torch.utils.data.sampler import SubsetRandomSampler\n",
    "\n",
    "#qdl = DataLoader(qds, batch_size=128, collate_fn=collate_fn)\n",
    "#f1dl = DataLoader(fds1, batch_size=32, collate_fn=collate_fn)\n",
    "f2dl = DataLoader(fds2, batch_size=32, collate_fn=collate_fn)"
   ]
  },
  {
   "cell_type": "code",
   "execution_count": 13,
   "metadata": {},
   "outputs": [
    {
     "name": "stdout",
     "output_type": "stream",
     "text": [
      "195 49\n",
      "195 49\n",
      "195 49\n",
      "195 49\n",
      "196 48\n"
     ]
    }
   ],
   "source": [
    "from src.utils.data import CrossValidation\n",
    "n_fold = 5\n",
    "cv = CrossValidation(n_fold=n_fold, data=fds2, return_index=True)\n",
    "for i in range(n_fold):\n",
    "    t, v = cv[i]\n",
    "    print(len(t), len(v))"
   ]
  },
  {
   "cell_type": "code",
   "execution_count": 90,
   "metadata": {},
   "outputs": [
    {
     "data": {
      "text/plain": [
       "(tensor([50.8500, 76.5200, 86.9500, 47.4600, 70.6600, 86.6600]),\n",
       " tensor([3, 0, 4, 1, 5, 2]))"
      ]
     },
     "execution_count": 90,
     "metadata": {},
     "output_type": "execute_result"
    }
   ],
   "source": [
    "tgt = collate_fn(fds2)[1][[5, 2, 1, 6, 10, 52]].view(-1)\n",
    "tgt, tgt.argsort()"
   ]
  },
  {
   "cell_type": "code",
   "execution_count": 5,
   "metadata": {},
   "outputs": [],
   "source": [
    "#for feats_f1, targets_f1, ids_f1 in f1dl:\n",
    "#    continue\n",
    "for feats_f2, targets_f2, ids_f2 in f2dl:\n",
    "    continue\n",
    "#for feats_q, targets_q, ids_q in qdl:\n",
    "#    continue"
   ]
  },
  {
   "cell_type": "code",
   "execution_count": 7,
   "metadata": {},
   "outputs": [],
   "source": [
    "from torch.utils.tensorboard import SummaryWriter\n",
    "os.makedirs('./test/model/graph', exist_ok=True)\n",
    "writer = SummaryWriter('./test/model/graph')\n",
    "\n",
    "\n",
    "#model = SingleEncoderModel('concat', encoder_params, decoder_params)\n",
    "model = DualEncoderModel('concat', encoder_params, decoder_params)\n",
    "#model = IMaxEncoderModel('concat', encoder_params)\n",
    "#h1 = model.encoder_A(**feats_f2[0]) \n",
    "#h2 = model.encoder_B(**feats_f2[1])\n",
    "#o1 = global_add_pool(h1 * feats_f2[0]['weight'], feats_f2[0]['data_idx'])\n",
    "#o2 = global_add_pool(h2 * feats_f2[1]['weight'], feats_f2[1]['data_idx'])\n",
    "#p1 = model.decoder(o1 + o2)\n",
    "#p2 = model(feats_f2)\n",
    "#diff = p1 - p2\n",
    "with torch.no_grad():\n",
    "    writer.add_graph(model, input_to_model=[feats_f2])"
   ]
  },
  {
   "cell_type": "code",
   "execution_count": 76,
   "metadata": {},
   "outputs": [
    {
     "name": "stdout",
     "output_type": "stream",
     "text": [
      "tensor([37, 38, 36,  9, 31,  1, 25, 16,  4,  6])\n",
      "tensor([ 0, 23,  5, 35,  2, 22, 18, 10, 39,  7])\n",
      "tensor([26, 20, 17, 24, 19, 15, 32, 14, 27,  3])\n",
      "tensor([13, 28, 21, 30, 29, 34, 11,  8, 33, 12])\n"
     ]
    }
   ],
   "source": [
    "dl = DataLoader(torch.arange(100), batch_size=10, \n",
    "                sampler=SubsetRandomSampler(np.arange(40)))\n",
    "for batch in dl:\n",
    "    print(batch)"
   ]
  },
  {
   "cell_type": "code",
   "execution_count": 47,
   "metadata": {},
   "outputs": [
    {
     "data": {
      "text/plain": [
       "tensor([[72.1600]])"
      ]
     },
     "execution_count": 47,
     "metadata": {},
     "output_type": "execute_result"
    }
   ],
   "source": []
  }
 ],
 "metadata": {
  "kernelspec": {
   "display_name": "Python 3.9.12 ('poly')",
   "language": "python",
   "name": "python3"
  },
  "language_info": {
   "codemirror_mode": {
    "name": "ipython",
    "version": 3
   },
   "file_extension": ".py",
   "mimetype": "text/x-python",
   "name": "python",
   "nbconvert_exporter": "python",
   "pygments_lexer": "ipython3",
   "version": "3.9.12"
  },
  "orig_nbformat": 4,
  "vscode": {
   "interpreter": {
    "hash": "301f9491a8f0e4bd7c70446afd62a207ad150af1893fa72a3c14d69f0f6f8076"
   }
  }
 },
 "nbformat": 4,
 "nbformat_minor": 2
}
